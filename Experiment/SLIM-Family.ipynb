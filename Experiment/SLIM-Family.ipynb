{
 "cells": [
  {
   "cell_type": "code",
   "execution_count": 1,
   "metadata": {
    "id": "Ug-br-pPu9vZ"
   },
   "outputs": [],
   "source": [
    "import math\n",
    "import numpy as np\n",
    "import scipy.sparse as sp\n",
    "import pandas as pd\n",
    "from tqdm import tqdm\n",
    "from collections import defaultdict\n",
    "import os\n",
    "from copy import deepcopy\n",
    "\n",
    "import torch\n",
    "import torch.nn as nn\n",
    "import torch.nn.functional as F\n",
    "from torch.utils.data import Dataset, DataLoader\n",
    "\n",
    "from box import Box\n",
    "\n",
    "import warnings\n",
    "\n",
    "warnings.filterwarnings(action='ignore')\n",
    "torch.set_printoptions(sci_mode=True)"
   ]
  },
  {
   "cell_type": "markdown",
   "metadata": {
    "id": "pbRKDSg4u9vc"
   },
   "source": [
    "# 1. 학습 설정"
   ]
  },
  {
   "cell_type": "code",
   "execution_count": 2,
   "metadata": {
    "id": "MEhK_fLIu9vd"
   },
   "outputs": [],
   "source": [
    "config = {\n",
    "    'data_path' : \"/opt/ml/input/data/train\" , # 데이터 경로\n",
    "    'model_path' : \"../model\",\n",
    "\n",
    "\n",
    "    'submission_path' : \"../submission\",\n",
    "    'submission_name' : 'Ensembel_v7_submission.csv',\n",
    "\n",
    "    'candidate_item_num' : 50,\n",
    "    'valid_samples' : 10, # 검증에 사용할 sample 수\n",
    "    'seed' : 22,\n",
    "}\n",
    "\n",
    "device = 'cuda' if torch.cuda.is_available() else 'cpu'\n",
    "\n",
    "config = Box(config)"
   ]
  },
  {
   "cell_type": "markdown",
   "metadata": {
    "id": "wjDxy0fJu9vf"
   },
   "source": [
    "# 2. 데이터 전처리"
   ]
  },
  {
   "cell_type": "code",
   "execution_count": 3,
   "metadata": {
    "id": "W64BYWl0u9vg"
   },
   "outputs": [],
   "source": [
    "class MakeMatrixDataSet():\n",
    "    \"\"\"\n",
    "    MatrixDataSet 생성\n",
    "    \"\"\"\n",
    "    def __init__(self, config):\n",
    "        self.config = config\n",
    "        self.df = pd.read_csv(os.path.join(self.config.data_path, 'train_ratings.csv'))\n",
    "        \n",
    "        self.item_encoder, self.item_decoder = self.generate_encoder_decoder('item')\n",
    "        self.user_encoder, self.user_decoder = self.generate_encoder_decoder('user')\n",
    "        self.num_item, self.num_user = len(self.item_encoder), len(self.user_encoder)\n",
    "\n",
    "        self.df['item_idx'] = self.df['item'].apply(lambda x : self.item_encoder[x])\n",
    "        self.df['user_idx'] = self.df['user'].apply(lambda x : self.user_encoder[x])\n",
    "\n",
    "        self.user_train, self.user_valid = self.generate_sequence_data()\n",
    "\n",
    "    def generate_encoder_decoder(self, col : str) -> dict:\n",
    "        \"\"\"\n",
    "        encoder, decoder 생성\n",
    "\n",
    "        Args:\n",
    "            col (str): 생성할 columns 명\n",
    "        Returns:\n",
    "            dict: 생성된 user encoder, decoder\n",
    "        \"\"\"\n",
    "\n",
    "        encoder = {}\n",
    "        decoder = {}\n",
    "        ids = self.df[col].unique()\n",
    "\n",
    "        for idx, _id in enumerate(ids):\n",
    "            encoder[_id] = idx\n",
    "            decoder[idx] = _id\n",
    "\n",
    "        return encoder, decoder\n",
    "    \n",
    "    def generate_sequence_data(self) -> dict:\n",
    "        \"\"\"\n",
    "        sequence_data 생성\n",
    "\n",
    "        Returns:\n",
    "            dict: train user sequence / valid user sequence\n",
    "        \"\"\"\n",
    "        users = defaultdict(list)\n",
    "        user_train = {}\n",
    "        user_valid = {}\n",
    "        for user, item, time in zip(self.df['user_idx'], self.df['item_idx'], self.df['time']):\n",
    "            users[user].append(item)\n",
    "        \n",
    "        for user in users:\n",
    "            np.random.seed(self.config.seed)\n",
    "\n",
    "            user_total = users[user]\n",
    "            valid = np.random.choice(user_total, size = self.config.valid_samples, replace = False).tolist()\n",
    "            train = list(set(user_total) - set(valid))\n",
    "\n",
    "            user_train[user] = train\n",
    "            user_valid[user] = valid # valid_samples 개수 만큼 검증에 활용 (현재 Task와 가장 유사하게)\n",
    "\n",
    "        return user_train, user_valid\n",
    "    \n",
    "    def get_train_valid_data(self):\n",
    "        return self.user_train, self.user_valid\n",
    "\n",
    "    def make_matrix(self, user_list, train = True):\n",
    "        \"\"\"\n",
    "        user_item_dict를 바탕으로 행렬 생성\n",
    "        \"\"\"\n",
    "        mat = torch.zeros(size = (user_list.size(0), self.num_item))\n",
    "        for idx, user in enumerate(user_list):\n",
    "            if train:\n",
    "                mat[idx, self.user_train[user.item()]] = 1\n",
    "            else:\n",
    "                mat[idx, self.user_train[user.item()] + self.user_valid[user.item()]] = 1\n",
    "        return mat\n",
    "\n",
    "    def make_sparse_matrix(self, test = False):\n",
    "        X = sp.dok_matrix((self.num_user, self.num_item), dtype=np.float32)\n",
    "        \n",
    "        for user in self.user_train.keys():\n",
    "            item_list = self.user_train[user]\n",
    "            X[user, item_list] = 1.0\n",
    "        \n",
    "        if test:\n",
    "            for user in self.user_valid.keys():\n",
    "                item_list = self.user_valid[user]\n",
    "                X[user, item_list] = 1.0\n",
    "\n",
    "        return X.tocsr()"
   ]
  },
  {
   "cell_type": "code",
   "execution_count": 4,
   "metadata": {
    "id": "IldCGmY8u9vh"
   },
   "outputs": [],
   "source": [
    "class AEDataSet(Dataset):\n",
    "    def __init__(self, num_user):\n",
    "        self.num_user = num_user\n",
    "        self.users = [i for i in range(num_user)]\n",
    "\n",
    "    def __len__(self):\n",
    "        return self.num_user\n",
    "\n",
    "    def __getitem__(self, idx): \n",
    "        user = self.users[idx]\n",
    "        return torch.LongTensor([user])"
   ]
  },
  {
   "cell_type": "markdown",
   "metadata": {
    "id": "ysia457Su9vi"
   },
   "source": [
    "# 3. 모델"
   ]
  },
  {
   "cell_type": "code",
   "execution_count": 5,
   "metadata": {},
   "outputs": [],
   "source": [
    "import numpy as np\n",
    "from scipy import sparse\n",
    "from copy import deepcopy\n",
    "\n",
    "class HOSLIM():\n",
    "    def __init__(self, threshold = 3500, lambdaBB = 500, lambdaCC = 5000, rho = 100000, epochs = 40):\n",
    "        self.threshold = threshold\n",
    "        self.lambdaBB = lambdaBB\n",
    "        self.lambdaCC = lambdaCC\n",
    "        self.rho = rho\n",
    "        self.epochs = epochs\n",
    "    \n",
    "    def create_list_feature_pairs(self, XtX):\n",
    "        AA = np.triu(np.abs(XtX))\n",
    "        AA[ np.diag_indices(AA.shape[0]) ]=0.0\n",
    "        ii_pairs = np.where((AA > self.threshold) == True)\n",
    "        return ii_pairs\n",
    "    \n",
    "    def create_matrix_Z(self, ii_pairs, X):\n",
    "        MM = np.zeros( (len(ii_pairs[0]), X.shape[1]),    dtype=np.float64)\n",
    "        MM[np.arange(MM.shape[0]) , ii_pairs[0]   ]=1.0\n",
    "        MM[np.arange(MM.shape[0]) , ii_pairs[1]   ]=1.0\n",
    "        CCmask = 1.0-MM\n",
    "        MM = sparse.csc_matrix(MM.T)\n",
    "        Z=  X * MM\n",
    "        Z= (Z == 2.0 )\n",
    "        Z=Z*1.0\n",
    "        return Z, CCmask\n",
    "\n",
    "    def train_higher(self, XtX, XtXdiag, ZtZ, ZtZdiag, CCmask, ZtX):\n",
    "        ii_diag=np.diag_indices(XtX.shape[0])\n",
    "        XtX[ii_diag] = XtXdiag + self.lambdaBB\n",
    "        PP = np.linalg.inv(XtX)\n",
    "        ii_diag_ZZ=np.diag_indices(ZtZ.shape[0])\n",
    "        ZtZ[ii_diag_ZZ] = ZtZdiag + self.lambdaCC + self.rho\n",
    "        QQ=np.linalg.inv(ZtZ)\n",
    "        CC = np.zeros( (ZtZ.shape[0], XtX.shape[0]),dtype=np.float64 )\n",
    "        DD = np.zeros( (ZtZ.shape[0], XtX.shape[0]),dtype=np.float64 )\n",
    "        UU = np.zeros( (ZtZ.shape[0], XtX.shape[0]),dtype=np.float64 )\n",
    "\n",
    "        for iter in range(self.epochs):\n",
    "            # learn BB\n",
    "            XtX[ii_diag] = XtXdiag\n",
    "            BB= PP.dot(XtX-ZtX.T.dot(CC))\n",
    "            gamma = np.diag(BB) / np.diag(PP)\n",
    "            BB-= PP * gamma\n",
    "            # learn CC\n",
    "            CC= QQ.dot(ZtX-ZtX.dot(BB) + self.rho * (DD-UU))\n",
    "            # learn DD\n",
    "            DD=  CC  * CCmask \n",
    "            #DD= np.maximum(0.0, DD) # if you want to enforce non-negative parameters\n",
    "            # learn UU (is Gamma in paper)\n",
    "            UU+= CC-DD\n",
    "        \n",
    "        return BB, DD\n",
    "\n",
    "    def fit(self, X):\n",
    "        print(' --- init')\n",
    "        XtX = (X.transpose() * X).toarray()\n",
    "        XtXdiag = deepcopy(np.diag(XtX))\n",
    "        ii_pairs = self.create_list_feature_pairs(XtX)\n",
    "        Z, CCmask = self.create_matrix_Z(ii_pairs, X)\n",
    "\n",
    "        ZtZ = (Z.transpose() * Z).toarray()\n",
    "        ZtZdiag = deepcopy(np.diag(ZtZ))\n",
    "\n",
    "        ZtX = (Z.transpose() * X).toarray()\n",
    "        \n",
    "        print(' --- iteration start.')\n",
    "        BB, CC = self.train_higher(XtX, XtXdiag, ZtZ, ZtZdiag, CCmask, ZtX)\n",
    "        print(' --- iteration end.')\n",
    "\n",
    "        self.pred = torch.from_numpy(X.toarray().dot(BB) + Z.toarray().dot(CC))\n",
    "    \n",
    "    \n",
    "class AdmmSlim():\n",
    "    def __init__(self, lambda_1=1, lambda_2=500, rho=10000, positive=True, n_iter=50, eps_rel=1e-4, eps_abs=1e-3, verbose=False):\n",
    "        self.lambda_1 = lambda_1\n",
    "        self.lambda_2 = lambda_2\n",
    "        self.rho = rho\n",
    "        self.positive = positive\n",
    "        self.n_iter = n_iter\n",
    "        self.eps_rel = eps_rel\n",
    "        self.eps_abs = eps_abs\n",
    "        self.verbose = verbose\n",
    "    \n",
    "    def soft_thresholding(self, B, Gamma):\n",
    "        if self.lambda_1 == 0:\n",
    "            if self.positive:\n",
    "                return np.abs(B)\n",
    "            else:\n",
    "                return B\n",
    "        else:\n",
    "            x = B + Gamma / self.rho\n",
    "            threshold = self.lambda_1 / self.rho\n",
    "            if self.positive:\n",
    "                return np.where(threshold < x, x - threshold, 0)\n",
    "            else:\n",
    "                return np.where(threshold < x, x - threshold,\n",
    "                                np.where(x < - threshold, x + threshold, 0))\n",
    "\n",
    "    def is_converged(self, B, C, C_old, Gamma):\n",
    "        B_norm = np.linalg.norm(B)\n",
    "        C_norm = np.linalg.norm(C)\n",
    "        Gamma_norm = np.linalg.norm(Gamma)\n",
    "\n",
    "        eps_primal = self.eps_abs * B.shape[0] - self.eps_rel * np.max([B_norm, C_norm])\n",
    "        eps_dual = self.eps_abs * B.shape[0] - self.eps_rel * Gamma_norm\n",
    "\n",
    "        R_primal_norm = np.linalg.norm(B - C)\n",
    "        R_dual_norm = np.linalg.norm(C  - C_old) * self.rho\n",
    "\n",
    "        converged = R_primal_norm < eps_primal and R_dual_norm < eps_dual\n",
    "        return converged\n",
    "\n",
    "    def fit(self, X):\n",
    "        XtX = X.T.dot(X)\n",
    "        if sparse.issparse(XtX):\n",
    "            XtX = XtX.todense().A\n",
    "\n",
    "        if self.verbose:\n",
    "            print(' --- init')\n",
    "        identity_mat = np.identity(XtX.shape[0])\n",
    "        diags = identity_mat * (self.lambda_2 + self.rho)\n",
    "        P = np.linalg.inv(XtX + diags).astype(np.float32)\n",
    "        B_aux = P.dot(XtX)\n",
    "\n",
    "        Gamma = np.zeros_like(XtX, dtype=np.float32)\n",
    "        C = np.zeros_like(XtX, dtype=np.float32)\n",
    "\n",
    "        if self.verbose:\n",
    "            print(' --- iteration start.')\n",
    "        for iter in range(self.n_iter):\n",
    "            if self.verbose:\n",
    "                print(f' --- iteration {iter+1}/{self.n_iter}')\n",
    "            C_old = C.copy()\n",
    "            B_tilde = B_aux + P.dot(self.rho * C - Gamma)\n",
    "            gamma = np.diag(B_tilde) / (np.diag(P) + 1e-8)\n",
    "            B = B_tilde - P * gamma\n",
    "            C = self.soft_thresholding(B, Gamma)\n",
    "            Gamma = Gamma + self.rho * (B - C)\n",
    "            if self.is_converged(B, C, C_old, Gamma):\n",
    "                if self.verbose:\n",
    "                    print(f' --- Converged. Stopped iteration.')\n",
    "                break\n",
    "\n",
    "        coef = C\n",
    "\n",
    "        self.pred = torch.from_numpy(X.dot(coef))\n",
    "\n",
    "class DenseSlim():\n",
    "    def __init__(self, X, reg):\n",
    "        self.X = self._convert_sp_mat_to_sp_tensor(X)\n",
    "        self.reg = reg\n",
    "    \n",
    "    def _convert_sp_mat_to_sp_tensor(self, X):\n",
    "        \"\"\"\n",
    "        Convert scipy sparse matrix to PyTorch sparse matrix\n",
    "\n",
    "        Arguments:\n",
    "        ----------\n",
    "        X = Adjacency matrix, scipy sparse matrix\n",
    "        \"\"\"\n",
    "        coo = X.tocoo().astype(np.float32)\n",
    "        i = torch.LongTensor(np.mat([coo.row, coo.col]))\n",
    "        v = torch.FloatTensor(coo.data)\n",
    "        res = torch.sparse.FloatTensor(i, v, coo.shape).to(device)\n",
    "        return res\n",
    "    \n",
    "    def fit(self):\n",
    "        '''\n",
    "\n",
    "        진짜 정말 간단한 식으로 모델을 만듬\n",
    "\n",
    "        '''\n",
    "        XtX = self.X.to_dense().t() @ self.X.to_dense()\n",
    "        identity_mat = torch.eye(XtX.shape[0]).to(device)\n",
    "        diags = identity_mat * self.reg\n",
    "        \n",
    "        P = XtX + diags\n",
    "        P = XtX.inverse()\n",
    "        diag_P = 1. / P.diag()\n",
    "        diag_P = diag_P.diag()\n",
    "\n",
    "        coef = identity_mat - (P @ diag_P)\n",
    "        \n",
    "        self.pred = self.X.to_dense() @ coef"
   ]
  },
  {
   "cell_type": "markdown",
   "metadata": {
    "id": "GwSexh43u9vk"
   },
   "source": [
    "# 4. 학습 함수"
   ]
  },
  {
   "cell_type": "code",
   "execution_count": 6,
   "metadata": {
    "id": "nws4JO2_rgQP"
   },
   "outputs": [],
   "source": [
    "def get_ndcg(pred_list, true_list):\n",
    "    idcg = sum((1 / np.log2(rank + 2) for rank in range(1, len(pred_list))))\n",
    "    dcg = 0\n",
    "    for rank, pred in enumerate(pred_list):\n",
    "        if pred in true_list:\n",
    "            dcg += 1 / np.log2(rank + 2)\n",
    "    ndcg = dcg / idcg\n",
    "    return ndcg\n",
    "\n",
    "# hit == recall == precision\n",
    "def get_hit(pred_list, true_list):\n",
    "    hit_list = set(true_list) & set(pred_list)\n",
    "    hit = len(hit_list) / len(true_list)\n",
    "    return hit\n",
    "\n",
    "\n",
    "def evaluate(model1, X, user_train, user_valid, candidate_cnt):\n",
    "\n",
    "    mat = torch.from_numpy(X)\n",
    "\n",
    "    NDCG = 0.0 # NDCG@10\n",
    "    HIT = 0.0 # HIT@10\n",
    "\n",
    "    recon_mat1 = model1.pred.cpu()\n",
    "    recon_mat1[mat == 1] = -np.inf\n",
    "    rec_list1 = recon_mat1.argsort(dim = 1)\n",
    "\n",
    "    for user, rec1 in tqdm(enumerate(rec_list1)):\n",
    "        uv = user_valid[user]\n",
    "\n",
    "        # ranking\n",
    "        up = rec1[-candidate_cnt:].cpu().numpy().tolist()[::-1]\n",
    "\n",
    "        NDCG += get_ndcg(pred_list = up, true_list = uv)\n",
    "        HIT += get_hit(pred_list = up, true_list = uv)\n",
    "\n",
    "    NDCG /= len(user_train)\n",
    "    HIT /= len(user_train)\n",
    "\n",
    "    return NDCG, HIT"
   ]
  },
  {
   "cell_type": "markdown",
   "metadata": {
    "id": "gupkaJHMslCi"
   },
   "source": [
    "# 5. 학습"
   ]
  },
  {
   "cell_type": "code",
   "execution_count": 7,
   "metadata": {},
   "outputs": [],
   "source": [
    "make_matrix_data_set = MakeMatrixDataSet(config = config)\n",
    "user_train, user_valid = make_matrix_data_set.get_train_valid_data()\n",
    "X = make_matrix_data_set.make_sparse_matrix()"
   ]
  },
  {
   "cell_type": "code",
   "execution_count": 8,
   "metadata": {},
   "outputs": [
    {
     "name": "stderr",
     "output_type": "stream",
     "text": [
      "31360it [00:00, 32555.42it/s]\n"
     ]
    },
    {
     "name": "stdout",
     "output_type": "stream",
     "text": [
      "NDCG@10: 0.25925| HIT@10: 0.17225\n"
     ]
    }
   ],
   "source": [
    "model = DenseSlim(X = X, reg = 750)\n",
    "model.fit()\n",
    "ndcg, hit = evaluate(model1 = model, X = X.todense(), user_train = user_train, user_valid = user_valid, candidate_cnt = 10)\n",
    "print(f'NDCG@10: {ndcg:.5f}| HIT@10: {hit:.5f}')"
   ]
  },
  {
   "cell_type": "code",
   "execution_count": 10,
   "metadata": {},
   "outputs": [
    {
     "name": "stderr",
     "output_type": "stream",
     "text": [
      "31360it [00:01, 24796.41it/s]\n"
     ]
    },
    {
     "name": "stdout",
     "output_type": "stream",
     "text": [
      "NDCG@10: 0.30600| HIT@10: 0.20024\n"
     ]
    }
   ],
   "source": [
    "model = AdmmSlim(lambda_2 = 1, rho = 1000)\n",
    "model.fit(X = X.toarray())\n",
    "ndcg, hit = evaluate(model1 = model, X = X.todense(), user_train = user_train, user_valid = user_valid, candidate_cnt = 10)\n",
    "print(f'NDCG@10: {ndcg:.5f}| HIT@10: {hit:.5f}')"
   ]
  },
  {
   "cell_type": "code",
   "execution_count": 8,
   "metadata": {},
   "outputs": [
    {
     "name": "stderr",
     "output_type": "stream",
     "text": [
      "31360it [00:01, 23279.86it/s]"
     ]
    },
    {
     "name": "stdout",
     "output_type": "stream",
     "text": [
      "NDCG@10: 0.30091| HIT@10: 0.19676\n"
     ]
    },
    {
     "name": "stderr",
     "output_type": "stream",
     "text": [
      "\n"
     ]
    }
   ],
   "source": [
    "model = AdmmSlim(lambda_1 = 10, lambda_2 = 1000, rho = 1000)\n",
    "model.fit(X = X.toarray())\n",
    "ndcg, hit = evaluate(model1 = model, X = X.todense(), user_train = user_train, user_valid = user_valid, candidate_cnt = 10)\n",
    "print(f'NDCG@10: {ndcg:.5f}| HIT@10: {hit:.5f}')"
   ]
  },
  {
   "cell_type": "code",
   "execution_count": 9,
   "metadata": {},
   "outputs": [
    {
     "name": "stderr",
     "output_type": "stream",
     "text": [
      "31360it [00:01, 25215.18it/s]\n"
     ]
    },
    {
     "name": "stdout",
     "output_type": "stream",
     "text": [
      "NDCG@10: 0.30321| HIT@10: 0.19844\n"
     ]
    }
   ],
   "source": [
    "model = AdmmSlim(lambda_1 = 10, lambda_2 = 500, rho = 1000)\n",
    "model.fit(X = X.toarray())\n",
    "ndcg, hit = evaluate(model1 = model, X = X.todense(), user_train = user_train, user_valid = user_valid, candidate_cnt = 10)\n",
    "print(f'NDCG@10: {ndcg:.5f}| HIT@10: {hit:.5f}')"
   ]
  },
  {
   "cell_type": "code",
   "execution_count": 10,
   "metadata": {},
   "outputs": [
    {
     "name": "stderr",
     "output_type": "stream",
     "text": [
      "31360it [00:01, 22634.20it/s]"
     ]
    },
    {
     "name": "stdout",
     "output_type": "stream",
     "text": [
      "NDCG@10: 0.30604| HIT@10: 0.20026\n"
     ]
    },
    {
     "name": "stderr",
     "output_type": "stream",
     "text": [
      "\n"
     ]
    }
   ],
   "source": [
    "model = AdmmSlim(lambda_1 = 10, lambda_2 = 50, rho = 1000)\n",
    "model.fit(X = X.toarray())\n",
    "ndcg, hit = evaluate(model1 = model, X = X.todense(), user_train = user_train, user_valid = user_valid, candidate_cnt = 10)\n",
    "print(f'NDCG@10: {ndcg:.5f}| HIT@10: {hit:.5f}')"
   ]
  },
  {
   "cell_type": "code",
   "execution_count": 11,
   "metadata": {},
   "outputs": [
    {
     "name": "stderr",
     "output_type": "stream",
     "text": [
      "31360it [00:01, 22536.45it/s]"
     ]
    },
    {
     "name": "stdout",
     "output_type": "stream",
     "text": [
      "NDCG@10: 0.30627| HIT@10: 0.20035\n"
     ]
    },
    {
     "name": "stderr",
     "output_type": "stream",
     "text": [
      "\n"
     ]
    }
   ],
   "source": [
    "model = AdmmSlim(lambda_1 = 10, lambda_2 = 5, rho = 1000)\n",
    "model.fit(X = X.toarray())\n",
    "ndcg, hit = evaluate(model1 = model, X = X.todense(), user_train = user_train, user_valid = user_valid, candidate_cnt = 10)\n",
    "print(f'NDCG@10: {ndcg:.5f}| HIT@10: {hit:.5f}')"
   ]
  },
  {
   "cell_type": "code",
   "execution_count": 16,
   "metadata": {},
   "outputs": [
    {
     "name": "stderr",
     "output_type": "stream",
     "text": [
      "31360it [00:01, 23276.79it/s]"
     ]
    },
    {
     "name": "stdout",
     "output_type": "stream",
     "text": [
      "NDCG@10: 0.30402| HIT@10: 0.19880\n"
     ]
    },
    {
     "name": "stderr",
     "output_type": "stream",
     "text": [
      "\n"
     ]
    }
   ],
   "source": [
    "model = AdmmSlim(lambda_1 = 10, lambda_2 = 5, rho = 10000)\n",
    "model.fit(X = X.toarray())\n",
    "ndcg, hit = evaluate(model1 = model, X = X.todense(), user_train = user_train, user_valid = user_valid, candidate_cnt = 10)\n",
    "print(f'NDCG@10: {ndcg:.5f}| HIT@10: {hit:.5f}')"
   ]
  },
  {
   "cell_type": "code",
   "execution_count": 17,
   "metadata": {},
   "outputs": [
    {
     "name": "stderr",
     "output_type": "stream",
     "text": [
      "31360it [00:01, 24534.46it/s]"
     ]
    },
    {
     "name": "stdout",
     "output_type": "stream",
     "text": [
      "NDCG@10: 0.30095| HIT@10: 0.19741\n"
     ]
    },
    {
     "name": "stderr",
     "output_type": "stream",
     "text": [
      "\n"
     ]
    }
   ],
   "source": [
    "model = AdmmSlim(lambda_1 = 10, lambda_2 = 5, rho = 100)\n",
    "model.fit(X = X.toarray())\n",
    "ndcg, hit = evaluate(model1 = model, X = X.todense(), user_train = user_train, user_valid = user_valid, candidate_cnt = 10)\n",
    "print(f'NDCG@10: {ndcg:.5f}| HIT@10: {hit:.5f}')"
   ]
  },
  {
   "cell_type": "code",
   "execution_count": null,
   "metadata": {},
   "outputs": [],
   "source": []
  },
  {
   "cell_type": "code",
   "execution_count": 8,
   "metadata": {},
   "outputs": [
    {
     "name": "stdout",
     "output_type": "stream",
     "text": [
      " --- init\n"
     ]
    }
   ],
   "source": [
    "model = HOSLIM(threshold = 3500, lambdaBB = 500, lambdaCC = 10000, rho = 50000)\n",
    "model.fit(X = X)\n",
    "ndcg, hit = evaluate(model1 = model, X = X.todense(), user_train = user_train, user_valid = user_valid, candidate_cnt = 10)\n",
    "print(f'NDCG@10: {ndcg:.5f}| HIT@10: {hit:.5f}')"
   ]
  },
  {
   "cell_type": "code",
   "execution_count": null,
   "metadata": {},
   "outputs": [
    {
     "name": "stdout",
     "output_type": "stream",
     "text": [
      " --- init\n",
      " --- iteration start.\n",
      " --- iteration end.\n"
     ]
    },
    {
     "name": "stderr",
     "output_type": "stream",
     "text": [
      "31360it [00:01, 24088.03it/s]\n"
     ]
    },
    {
     "name": "stdout",
     "output_type": "stream",
     "text": [
      "NDCG@10: 0.31118| HIT@10: 0.20455\n"
     ]
    }
   ],
   "source": [
    "model = HOSLIM(threshold = 3500, lambdaBB = 500, lambdaCC = 15000, rho = 10000)\n",
    "model.fit(X = X)\n",
    "ndcg, hit = evaluate(model1 = model, X = X.todense(), user_train = user_train, user_valid = user_valid, candidate_cnt = 10)\n",
    "print(f'NDCG@10: {ndcg:.5f}| HIT@10: {hit:.5f}')"
   ]
  },
  {
   "cell_type": "code",
   "execution_count": null,
   "metadata": {},
   "outputs": [
    {
     "name": "stdout",
     "output_type": "stream",
     "text": [
      " --- init\n",
      " --- iteration start.\n",
      " --- iteration end.\n"
     ]
    },
    {
     "name": "stderr",
     "output_type": "stream",
     "text": [
      "31360it [00:01, 22746.58it/s]"
     ]
    },
    {
     "name": "stdout",
     "output_type": "stream",
     "text": [
      "NDCG@10: 0.31118| HIT@10: 0.20455\n"
     ]
    },
    {
     "name": "stderr",
     "output_type": "stream",
     "text": [
      "\n"
     ]
    }
   ],
   "source": [
    "model = HOSLIM(threshold = 3500, lambdaBB = 1000, lambdaCC = 10000, rho = 50000)\n",
    "model.fit(X = X)\n",
    "ndcg, hit = evaluate(model1 = model, X = X.todense(), user_train = user_train, user_valid = user_valid, candidate_cnt = 10)\n",
    "print(f'NDCG@10: {ndcg:.5f}| HIT@10: {hit:.5f}')"
   ]
  },
  {
   "cell_type": "code",
   "execution_count": null,
   "metadata": {},
   "outputs": [
    {
     "name": "stdout",
     "output_type": "stream",
     "text": [
      " --- init\n",
      " --- iteration start.\n",
      " --- iteration end.\n"
     ]
    },
    {
     "name": "stderr",
     "output_type": "stream",
     "text": [
      "31360it [00:01, 22689.49it/s]"
     ]
    },
    {
     "name": "stdout",
     "output_type": "stream",
     "text": [
      "NDCG@10: 0.31118| HIT@10: 0.20455\n"
     ]
    },
    {
     "name": "stderr",
     "output_type": "stream",
     "text": [
      "\n"
     ]
    }
   ],
   "source": [
    "model = HOSLIM(threshold = 3500, lambdaBB = 10000, lambdaCC = 10000, rho = 50000)\n",
    "model.fit(X = X)\n",
    "ndcg, hit = evaluate(model1 = model, X = X.todense(), user_train = user_train, user_valid = user_valid, candidate_cnt = 10)\n",
    "print(f'NDCG@10: {ndcg:.5f}| HIT@10: {hit:.5f}')"
   ]
  },
  {
   "cell_type": "code",
   "execution_count": null,
   "metadata": {},
   "outputs": [
    {
     "name": "stderr",
     "output_type": "stream",
     "text": [
      "31360it [00:01, 26117.21it/s]"
     ]
    },
    {
     "name": "stdout",
     "output_type": "stream",
     "text": [
      "NDCG@10: 0.30095| HIT@10: 0.19741\n"
     ]
    },
    {
     "name": "stderr",
     "output_type": "stream",
     "text": [
      "\n"
     ]
    }
   ],
   "source": [
    "model = HOSLIM(threshold = 3500, lambdaBB = 5000, lambdaCC = 10000, rho = 25000)\n",
    "model.fit(X = X)\n",
    "ndcg, hit = evaluate(model1 = model, X = X.todense(), user_train = user_train, user_valid = user_valid, candidate_cnt = 10)\n",
    "print(f'NDCG@10: {ndcg:.5f}| HIT@10: {hit:.5f}')"
   ]
  },
  {
   "cell_type": "code",
   "execution_count": null,
   "metadata": {},
   "outputs": [],
   "source": []
  },
  {
   "cell_type": "code",
   "execution_count": null,
   "metadata": {},
   "outputs": [],
   "source": []
  },
  {
   "cell_type": "code",
   "execution_count": null,
   "metadata": {},
   "outputs": [],
   "source": []
  },
  {
   "cell_type": "code",
   "execution_count": 8,
   "metadata": {},
   "outputs": [
    {
     "name": "stdout",
     "output_type": "stream",
     "text": [
      " --- init\n",
      " --- iteration start.\n",
      " --- iteration end.\n"
     ]
    },
    {
     "name": "stderr",
     "output_type": "stream",
     "text": [
      "31360it [00:01, 24483.41it/s]"
     ]
    },
    {
     "name": "stdout",
     "output_type": "stream",
     "text": [
      "NDCG@10: 0.31057| HIT@10: 0.20379\n"
     ]
    },
    {
     "name": "stderr",
     "output_type": "stream",
     "text": [
      "\n"
     ]
    }
   ],
   "source": [
    "model = HOSLIM(threshold = 13000, lambdaBB = 1000, lambdaCC = 30000, rho = 100000)\n",
    "model.fit(X = X)\n",
    "ndcg, hit = evaluate(model1 = model, X = X.todense(), user_train = user_train, user_valid = user_valid, candidate_cnt = 10)\n",
    "print(f'NDCG@10: {ndcg:.5f}| HIT@10: {hit:.5f}')"
   ]
  },
  {
   "cell_type": "code",
   "execution_count": 9,
   "metadata": {},
   "outputs": [
    {
     "name": "stdout",
     "output_type": "stream",
     "text": [
      " --- init\n",
      " --- iteration start.\n",
      " --- iteration end.\n"
     ]
    },
    {
     "name": "stderr",
     "output_type": "stream",
     "text": [
      "31360it [00:01, 23422.15it/s]"
     ]
    },
    {
     "name": "stdout",
     "output_type": "stream",
     "text": [
      "NDCG@10: 0.31057| HIT@10: 0.20379\n"
     ]
    },
    {
     "name": "stderr",
     "output_type": "stream",
     "text": [
      "\n"
     ]
    }
   ],
   "source": [
    "model = HOSLIM(threshold = 22000, lambdaBB = 1000, lambdaCC = 30000, rho = 100000)\n",
    "model.fit(X = X)\n",
    "ndcg, hit = evaluate(model1 = model, X = X.todense(), user_train = user_train, user_valid = user_valid, candidate_cnt = 10)\n",
    "print(f'NDCG@10: {ndcg:.5f}| HIT@10: {hit:.5f}')"
   ]
  },
  {
   "cell_type": "code",
   "execution_count": 10,
   "metadata": {},
   "outputs": [
    {
     "name": "stdout",
     "output_type": "stream",
     "text": [
      " --- init\n",
      " --- iteration start.\n",
      " --- iteration end.\n"
     ]
    },
    {
     "name": "stderr",
     "output_type": "stream",
     "text": [
      "31360it [00:01, 24554.56it/s]\n"
     ]
    },
    {
     "name": "stdout",
     "output_type": "stream",
     "text": [
      "NDCG@10: 0.31057| HIT@10: 0.20379\n"
     ]
    }
   ],
   "source": [
    "model = HOSLIM(threshold = 33000, lambdaBB = 1000, lambdaCC = 10000, rho = 100000)\n",
    "model.fit(X = X)\n",
    "ndcg, hit = evaluate(model1 = model, X = X.todense(), user_train = user_train, user_valid = user_valid, candidate_cnt = 10)\n",
    "print(f'NDCG@10: {ndcg:.5f}| HIT@10: {hit:.5f}')"
   ]
  },
  {
   "cell_type": "code",
   "execution_count": 11,
   "metadata": {},
   "outputs": [
    {
     "name": "stdout",
     "output_type": "stream",
     "text": [
      " --- init\n",
      " --- iteration start.\n",
      " --- iteration end.\n"
     ]
    },
    {
     "name": "stderr",
     "output_type": "stream",
     "text": [
      "31360it [00:01, 25470.14it/s]"
     ]
    },
    {
     "name": "stdout",
     "output_type": "stream",
     "text": [
      "NDCG@10: 0.31057| HIT@10: 0.20379\n"
     ]
    },
    {
     "name": "stderr",
     "output_type": "stream",
     "text": [
      "\n"
     ]
    }
   ],
   "source": [
    "model = HOSLIM(threshold = 44000, lambdaBB = 1000, lambdaCC = 3000, rho = 30000)\n",
    "model.fit(X = X)\n",
    "ndcg, hit = evaluate(model1 = model, X = X.todense(), user_train = user_train, user_valid = user_valid, candidate_cnt = 10)\n",
    "print(f'NDCG@10: {ndcg:.5f}| HIT@10: {hit:.5f}')"
   ]
  },
  {
   "cell_type": "code",
   "execution_count": null,
   "metadata": {},
   "outputs": [],
   "source": []
  },
  {
   "cell_type": "code",
   "execution_count": 12,
   "metadata": {},
   "outputs": [
    {
     "name": "stdout",
     "output_type": "stream",
     "text": [
      " --- init\n"
     ]
    }
   ],
   "source": [
    "model = HOSLIM(threshold = 1750, lambdaBB = 500, lambdaCC = 10000, rho = 100000)\n",
    "model.fit(X = X)\n",
    "ndcg, hit = evaluate(model1 = model, X = X.todense(), user_train = user_train, user_valid = user_valid, candidate_cnt = 10)\n",
    "print(f'NDCG@10: {ndcg:.5f}| HIT@10: {hit:.5f}')"
   ]
  },
  {
   "cell_type": "code",
   "execution_count": 11,
   "metadata": {},
   "outputs": [
    {
     "name": "stdout",
     "output_type": "stream",
     "text": [
      " --- init\n",
      " --- iteration start.\n",
      " --- iteration end.\n"
     ]
    },
    {
     "name": "stderr",
     "output_type": "stream",
     "text": [
      "31360it [00:01, 25064.96it/s]"
     ]
    },
    {
     "name": "stdout",
     "output_type": "stream",
     "text": [
      "NDCG@10: 0.31016| HIT@10: 0.20423\n"
     ]
    },
    {
     "name": "stderr",
     "output_type": "stream",
     "text": [
      "\n"
     ]
    }
   ],
   "source": [
    "model = HOSLIM(threshold = 3000, lambdaBB = 500, lambdaCC = 5000, rho = 100000)\n",
    "model.fit(X = X)\n",
    "ndcg, hit = evaluate(model1 = model, X = X.todense(), user_train = user_train, user_valid = user_valid, candidate_cnt = 10)\n",
    "print(f'NDCG@10: {ndcg:.5f}| HIT@10: {hit:.5f}')"
   ]
  },
  {
   "cell_type": "code",
   "execution_count": 12,
   "metadata": {},
   "outputs": [
    {
     "name": "stdout",
     "output_type": "stream",
     "text": [
      " --- init\n",
      " --- iteration start.\n",
      " --- iteration end.\n"
     ]
    },
    {
     "name": "stderr",
     "output_type": "stream",
     "text": [
      "31360it [00:01, 24912.96it/s]\n"
     ]
    },
    {
     "name": "stdout",
     "output_type": "stream",
     "text": [
      "NDCG@10: 0.30651| HIT@10: 0.20179\n"
     ]
    }
   ],
   "source": [
    "model = HOSLIM(threshold = 3500, lambdaBB = 500, lambdaCC = 2000, rho = 30000)\n",
    "model.fit(X = X)\n",
    "ndcg, hit = evaluate(model1 = model, X = X.todense(), user_train = user_train, user_valid = user_valid, candidate_cnt = 10)\n",
    "print(f'NDCG@10: {ndcg:.5f}| HIT@10: {hit:.5f}')"
   ]
  },
  {
   "cell_type": "code",
   "execution_count": 10,
   "metadata": {},
   "outputs": [
    {
     "name": "stdout",
     "output_type": "stream",
     "text": [
      " --- init\n",
      " --- iteration start.\n",
      " --- iteration end.\n"
     ]
    },
    {
     "name": "stderr",
     "output_type": "stream",
     "text": [
      "31360it [00:01, 30437.35it/s]\n"
     ]
    },
    {
     "name": "stdout",
     "output_type": "stream",
     "text": [
      "NDCG@10: 0.31102| HIT@10: 0.20443\n"
     ]
    }
   ],
   "source": [
    "model = HOSLIM(threshold = 3500, lambdaBB = 500, lambdaCC = 10000, rho = 100000)\n",
    "model.fit(X = X)\n",
    "ndcg, hit = evaluate(model1 = model, X = X.todense(), user_train = user_train, user_valid = user_valid, candidate_cnt = 10)\n",
    "print(f'NDCG@10: {ndcg:.5f}| HIT@10: {hit:.5f}')"
   ]
  },
  {
   "cell_type": "code",
   "execution_count": 13,
   "metadata": {},
   "outputs": [
    {
     "name": "stdout",
     "output_type": "stream",
     "text": [
      " --- init\n",
      " --- iteration start.\n",
      " --- iteration end.\n"
     ]
    },
    {
     "name": "stderr",
     "output_type": "stream",
     "text": [
      "31360it [00:01, 23497.94it/s]\n"
     ]
    },
    {
     "name": "stdout",
     "output_type": "stream",
     "text": [
      "NDCG@10: 0.31091| HIT@10: 0.20431\n"
     ]
    }
   ],
   "source": [
    "model = HOSLIM(threshold = 3500, lambdaBB = 500, lambdaCC = 20000, rho = 100000)\n",
    "model.fit(X = X)\n",
    "ndcg, hit = evaluate(model1 = model, X = X.todense(), user_train = user_train, user_valid = user_valid, candidate_cnt = 10)\n",
    "print(f'NDCG@10: {ndcg:.5f}| HIT@10: {hit:.5f}')"
   ]
  },
  {
   "cell_type": "code",
   "execution_count": 8,
   "metadata": {},
   "outputs": [
    {
     "name": "stdout",
     "output_type": "stream",
     "text": [
      " --- init\n",
      " --- iteration start.\n",
      " --- iteration end.\n"
     ]
    },
    {
     "name": "stderr",
     "output_type": "stream",
     "text": [
      "31360it [00:01, 24928.76it/s]"
     ]
    },
    {
     "name": "stdout",
     "output_type": "stream",
     "text": [
      "NDCG@10: 0.31056| HIT@10: 0.20429\n"
     ]
    },
    {
     "name": "stderr",
     "output_type": "stream",
     "text": [
      "\n"
     ]
    }
   ],
   "source": [
    "model = HOSLIM(threshold = 3500, lambdaBB = 500, lambdaCC = 5000, rho = 100000)\n",
    "model.fit(X = X)\n",
    "ndcg, hit = evaluate(model1 = model, X = X.todense(), user_train = user_train, user_valid = user_valid, candidate_cnt = 10)\n",
    "print(f'NDCG@10: {ndcg:.5f}| HIT@10: {hit:.5f}')"
   ]
  },
  {
   "cell_type": "code",
   "execution_count": 9,
   "metadata": {},
   "outputs": [
    {
     "name": "stdout",
     "output_type": "stream",
     "text": [
      " --- init\n",
      " --- iteration start.\n",
      " --- iteration end.\n"
     ]
    },
    {
     "name": "stderr",
     "output_type": "stream",
     "text": [
      "31360it [00:01, 24317.15it/s]\n"
     ]
    },
    {
     "name": "stdout",
     "output_type": "stream",
     "text": [
      "NDCG@10: 0.30995| HIT@10: 0.20358\n"
     ]
    }
   ],
   "source": [
    "model = HOSLIM(threshold = 6500, lambdaBB = 500, lambdaCC = 5000, rho = 100000)\n",
    "model.fit(X = X)\n",
    "ndcg, hit = evaluate(model1 = model, X = X.todense(), user_train = user_train, user_valid = user_valid, candidate_cnt = 10)\n",
    "print(f'NDCG@10: {ndcg:.5f}| HIT@10: {hit:.5f}')"
   ]
  },
  {
   "cell_type": "code",
   "execution_count": 10,
   "metadata": {},
   "outputs": [
    {
     "name": "stdout",
     "output_type": "stream",
     "text": [
      " --- init\n",
      " --- iteration start.\n",
      " --- iteration end.\n"
     ]
    },
    {
     "name": "stderr",
     "output_type": "stream",
     "text": [
      "31360it [00:01, 24253.44it/s]"
     ]
    },
    {
     "name": "stdout",
     "output_type": "stream",
     "text": [
      "NDCG@10: 0.31003| HIT@10: 0.20364\n"
     ]
    },
    {
     "name": "stderr",
     "output_type": "stream",
     "text": [
      "\n"
     ]
    }
   ],
   "source": [
    "model = HOSLIM(threshold = 10000, lambdaBB = 500, lambdaCC = 2000, rho = 30000)\n",
    "model.fit(X = X)\n",
    "ndcg, hit = evaluate(model1 = model, X = X.todense(), user_train = user_train, user_valid = user_valid, candidate_cnt = 10)\n",
    "print(f'NDCG@10: {ndcg:.5f}| HIT@10: {hit:.5f}')"
   ]
  },
  {
   "cell_type": "code",
   "execution_count": null,
   "metadata": {},
   "outputs": [],
   "source": []
  },
  {
   "cell_type": "code",
   "execution_count": null,
   "metadata": {},
   "outputs": [],
   "source": [
    "model = HOSLIM(threshold = 750, lambdaBB = 200, lambdaCC = 1200, rho = 10000)\n",
    "model.fit(X = X)\n",
    "ndcg, hit = evaluate(model1 = model, X = X.todense(), user_train = user_train, user_valid = user_valid, candidate_cnt = 10)\n",
    "print(f'NDCG@10: {ndcg:.5f}| HIT@10: {hit:.5f}')"
   ]
  },
  {
   "cell_type": "code",
   "execution_count": null,
   "metadata": {},
   "outputs": [
    {
     "name": "stdout",
     "output_type": "stream",
     "text": [
      " --- init\n"
     ]
    }
   ],
   "source": [
    "model = HOSLIM(threshold = 1850, lambdaBB = 200, lambdaCC = 1000, rho = 10000)\n",
    "model.fit(X = X)\n",
    "ndcg, hit = evaluate(model1 = model, X = X.todense(), user_train = user_train, user_valid = user_valid, candidate_cnt = 10)\n",
    "print(f'NDCG@10: {ndcg:.5f}| HIT@10: {hit:.5f}')"
   ]
  },
  {
   "cell_type": "code",
   "execution_count": 9,
   "metadata": {},
   "outputs": [
    {
     "name": "stdout",
     "output_type": "stream",
     "text": [
      " --- init\n",
      " --- iteration start.\n",
      " --- iteration end.\n"
     ]
    },
    {
     "name": "stderr",
     "output_type": "stream",
     "text": [
      "31360it [00:01, 24901.50it/s]\n"
     ]
    },
    {
     "name": "stdout",
     "output_type": "stream",
     "text": [
      "NDCG@10: 0.28670| HIT@10: 0.19031\n"
     ]
    }
   ],
   "source": [
    "model = HOSLIM(threshold = 4050, lambdaBB = 200, lambdaCC = 200, rho = 10000)\n",
    "model.fit(X = X)\n",
    "ndcg, hit = evaluate(model1 = model, X = X.todense(), user_train = user_train, user_valid = user_valid, candidate_cnt = 10)\n",
    "print(f'NDCG@10: {ndcg:.5f}| HIT@10: {hit:.5f}')"
   ]
  },
  {
   "cell_type": "code",
   "execution_count": 8,
   "metadata": {},
   "outputs": [
    {
     "name": "stdout",
     "output_type": "stream",
     "text": [
      " --- init\n",
      " --- iteration start.\n",
      " --- iteration end.\n"
     ]
    },
    {
     "name": "stderr",
     "output_type": "stream",
     "text": [
      "31360it [00:01, 25120.80it/s]\n"
     ]
    },
    {
     "name": "stdout",
     "output_type": "stream",
     "text": [
      "NDCG@10: 0.30461| HIT@10: 0.20077\n"
     ]
    }
   ],
   "source": [
    "model = HOSLIM(threshold = 6820, lambdaBB = 200, lambdaCC = 1200, rho = 10000)\n",
    "model.fit(X = X)\n",
    "ndcg, hit = evaluate(model1 = model, X = X.todense(), user_train = user_train, user_valid = user_valid, candidate_cnt = 10)\n",
    "print(f'NDCG@10: {ndcg:.5f}| HIT@10: {hit:.5f}')"
   ]
  },
  {
   "cell_type": "code",
   "execution_count": 8,
   "metadata": {},
   "outputs": [
    {
     "name": "stderr",
     "output_type": "stream",
     "text": [
      "31360it [00:01, 26196.18it/s]\n"
     ]
    },
    {
     "name": "stdout",
     "output_type": "stream",
     "text": [
      "rho : 10000| NDCG@10: 0.30442| HIT@10: 0.19907\n"
     ]
    },
    {
     "name": "stderr",
     "output_type": "stream",
     "text": [
      "31360it [00:01, 23755.24it/s]\n"
     ]
    },
    {
     "name": "stdout",
     "output_type": "stream",
     "text": [
      "rho : 8000| NDCG@10: 0.30466| HIT@10: 0.19923\n"
     ]
    },
    {
     "name": "stderr",
     "output_type": "stream",
     "text": [
      "31360it [00:01, 25640.66it/s]\n"
     ]
    },
    {
     "name": "stdout",
     "output_type": "stream",
     "text": [
      "rho : 6000| NDCG@10: 0.30495| HIT@10: 0.19938\n"
     ]
    },
    {
     "name": "stderr",
     "output_type": "stream",
     "text": [
      "31360it [00:01, 26796.71it/s]\n"
     ]
    },
    {
     "name": "stdout",
     "output_type": "stream",
     "text": [
      "rho : 4000| NDCG@10: 0.30532| HIT@10: 0.19958\n"
     ]
    },
    {
     "name": "stderr",
     "output_type": "stream",
     "text": [
      "31360it [00:01, 22900.96it/s]\n"
     ]
    },
    {
     "name": "stdout",
     "output_type": "stream",
     "text": [
      "rho : 2000| NDCG@10: 0.30605| HIT@10: 0.20013\n"
     ]
    },
    {
     "name": "stderr",
     "output_type": "stream",
     "text": [
      "31360it [00:01, 23095.43it/s]\n"
     ]
    },
    {
     "name": "stdout",
     "output_type": "stream",
     "text": [
      "rho : 1000| NDCG@10: 0.30600| HIT@10: 0.20024\n"
     ]
    },
    {
     "name": "stderr",
     "output_type": "stream",
     "text": [
      "31360it [00:01, 24019.05it/s]\n"
     ]
    },
    {
     "name": "stdout",
     "output_type": "stream",
     "text": [
      "rho : 800| NDCG@10: 0.30573| HIT@10: 0.20016\n"
     ]
    },
    {
     "name": "stderr",
     "output_type": "stream",
     "text": [
      "31360it [00:01, 26868.35it/s]\n"
     ]
    },
    {
     "name": "stdout",
     "output_type": "stream",
     "text": [
      "rho : 600| NDCG@10: 0.30543| HIT@10: 0.20004\n"
     ]
    },
    {
     "name": "stderr",
     "output_type": "stream",
     "text": [
      "31360it [00:01, 23032.59it/s]\n"
     ]
    },
    {
     "name": "stdout",
     "output_type": "stream",
     "text": [
      "rho : 400| NDCG@10: 0.30504| HIT@10: 0.20002\n"
     ]
    },
    {
     "name": "stderr",
     "output_type": "stream",
     "text": [
      "31360it [00:01, 23314.67it/s]\n"
     ]
    },
    {
     "name": "stdout",
     "output_type": "stream",
     "text": [
      "rho : 200| NDCG@10: 0.30388| HIT@10: 0.19929\n"
     ]
    },
    {
     "name": "stderr",
     "output_type": "stream",
     "text": [
      "31360it [00:01, 25826.09it/s]"
     ]
    },
    {
     "name": "stdout",
     "output_type": "stream",
     "text": [
      "rho : 100| NDCG@10: 0.30144| HIT@10: 0.19778\n"
     ]
    },
    {
     "name": "stderr",
     "output_type": "stream",
     "text": [
      "\n"
     ]
    }
   ],
   "source": [
    "for reg in [10000, 8000, 6000, 4000, 2000, 1000, 800, 600, 400, 200, 100]:\n",
    "    model = AdmmSlim(lambda_2 = 1, rho = reg, verbose = False)\n",
    "    model.fit(X = X.toarray())\n",
    "    ndcg, hit = evaluate(model1 = model, X = X.todense(), user_train = user_train, user_valid = user_valid, candidate_cnt = 10)\n",
    "    print(f'rho : {reg}| NDCG@10: {ndcg:.5f}| HIT@10: {hit:.5f}')"
   ]
  },
  {
   "cell_type": "code",
   "execution_count": 8,
   "metadata": {},
   "outputs": [
    {
     "name": "stderr",
     "output_type": "stream",
     "text": [
      "31360it [00:01, 26722.55it/s]\n"
     ]
    },
    {
     "name": "stdout",
     "output_type": "stream",
     "text": [
      "rho : 10000| NDCG@10: 0.31052| HIT@10: 0.20434\n"
     ]
    },
    {
     "name": "stderr",
     "output_type": "stream",
     "text": [
      "31360it [00:01, 27630.96it/s]\n"
     ]
    },
    {
     "name": "stdout",
     "output_type": "stream",
     "text": [
      "rho : 1000| NDCG@10: 0.25501| HIT@10: 0.17144\n"
     ]
    }
   ],
   "source": [
    "for reg in [10000, 1000, 100, 10, 1]:\n",
    "    model = HOSLIM(rho = reg)\n",
    "    model.fit(X = X.toarray())\n",
    "    ndcg, hit = evaluate(model1 = model, X = X.todense(), user_train = user_train, user_valid = user_valid, candidate_cnt = 10)\n",
    "    print(f'rho : {reg}| NDCG@10: {ndcg:.5f}| HIT@10: {hit:.5f}')"
   ]
  },
  {
   "cell_type": "code",
   "execution_count": null,
   "metadata": {},
   "outputs": [],
   "source": []
  }
 ],
 "metadata": {
  "interpreter": {
   "hash": "d4d1e4263499bec80672ea0156c357c1ee493ec2b1c70f0acce89fc37c4a6abe"
  },
  "kernelspec": {
   "display_name": "Python 3.8.5 ('base')",
   "language": "python",
   "name": "python3"
  },
  "language_info": {
   "codemirror_mode": {
    "name": "ipython",
    "version": 3
   },
   "file_extension": ".py",
   "mimetype": "text/x-python",
   "name": "python",
   "nbconvert_exporter": "python",
   "pygments_lexer": "ipython3",
   "version": "3.8.5"
  },
  "orig_nbformat": 4
 },
 "nbformat": 4,
 "nbformat_minor": 2
}
