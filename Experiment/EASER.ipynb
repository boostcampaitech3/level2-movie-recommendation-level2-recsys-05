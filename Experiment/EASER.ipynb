{
 "cells": [
  {
   "cell_type": "code",
   "execution_count": 1,
   "metadata": {
    "id": "Ug-br-pPu9vZ"
   },
   "outputs": [],
   "source": [
    "import math\n",
    "import numpy as np\n",
    "import scipy.sparse as sp\n",
    "import pandas as pd\n",
    "from tqdm import tqdm\n",
    "from collections import defaultdict\n",
    "import os\n",
    "from copy import deepcopy\n",
    "\n",
    "import torch\n",
    "import torch.nn as nn\n",
    "import torch.nn.functional as F\n",
    "from torch.utils.data import Dataset, DataLoader\n",
    "\n",
    "from box import Box\n",
    "\n",
    "import warnings\n",
    "\n",
    "warnings.filterwarnings(action='ignore')\n",
    "torch.set_printoptions(sci_mode=True)"
   ]
  },
  {
   "cell_type": "markdown",
   "metadata": {
    "id": "pbRKDSg4u9vc"
   },
   "source": [
    "# 1. 학습 설정"
   ]
  },
  {
   "cell_type": "code",
   "execution_count": 2,
   "metadata": {
    "id": "MEhK_fLIu9vd"
   },
   "outputs": [],
   "source": [
    "config = {\n",
    "    'data_path' : \"/opt/ml/input/data/train\" , # 데이터 경로\n",
    "    'model_path' : \"../model\",\n",
    "\n",
    "\n",
    "    'submission_path' : \"../submission\",\n",
    "    'submission_name' : 'Ensembel_v7_submission.csv',\n",
    "\n",
    "    'candidate_item_num' : 50,\n",
    "    'valid_samples' : 10, # 검증에 사용할 sample 수\n",
    "    'seed' : 22,\n",
    "}\n",
    "\n",
    "device = 'cuda' if torch.cuda.is_available() else 'cpu'\n",
    "\n",
    "config = Box(config)"
   ]
  },
  {
   "cell_type": "markdown",
   "metadata": {
    "id": "wjDxy0fJu9vf"
   },
   "source": [
    "# 2. 데이터 전처리"
   ]
  },
  {
   "cell_type": "code",
   "execution_count": 3,
   "metadata": {
    "id": "W64BYWl0u9vg"
   },
   "outputs": [],
   "source": [
    "class MakeMatrixDataSet():\n",
    "    \"\"\"\n",
    "    MatrixDataSet 생성\n",
    "    \"\"\"\n",
    "    def __init__(self, config):\n",
    "        self.config = config\n",
    "        self.df = pd.read_csv(os.path.join(self.config.data_path, 'train_ratings.csv'))\n",
    "        \n",
    "        self.item_encoder, self.item_decoder = self.generate_encoder_decoder('item')\n",
    "        self.user_encoder, self.user_decoder = self.generate_encoder_decoder('user')\n",
    "        self.num_item, self.num_user = len(self.item_encoder), len(self.user_encoder)\n",
    "\n",
    "        self.df['item_idx'] = self.df['item'].apply(lambda x : self.item_encoder[x])\n",
    "        self.df['user_idx'] = self.df['user'].apply(lambda x : self.user_encoder[x])\n",
    "\n",
    "        self.user_train, self.user_valid = self.generate_sequence_data()\n",
    "\n",
    "    def generate_encoder_decoder(self, col : str) -> dict:\n",
    "        \"\"\"\n",
    "        encoder, decoder 생성\n",
    "\n",
    "        Args:\n",
    "            col (str): 생성할 columns 명\n",
    "        Returns:\n",
    "            dict: 생성된 user encoder, decoder\n",
    "        \"\"\"\n",
    "\n",
    "        encoder = {}\n",
    "        decoder = {}\n",
    "        ids = self.df[col].unique()\n",
    "\n",
    "        for idx, _id in enumerate(ids):\n",
    "            encoder[_id] = idx\n",
    "            decoder[idx] = _id\n",
    "\n",
    "        return encoder, decoder\n",
    "    \n",
    "    def generate_sequence_data(self) -> dict:\n",
    "        \"\"\"\n",
    "        sequence_data 생성\n",
    "\n",
    "        Returns:\n",
    "            dict: train user sequence / valid user sequence\n",
    "        \"\"\"\n",
    "        users = defaultdict(list)\n",
    "        user_train = {}\n",
    "        user_valid = {}\n",
    "        for user, item, time in zip(self.df['user_idx'], self.df['item_idx'], self.df['time']):\n",
    "            users[user].append(item)\n",
    "        \n",
    "        for user in users:\n",
    "            np.random.seed(self.config.seed)\n",
    "\n",
    "            user_total = users[user]\n",
    "            valid = np.random.choice(user_total, size = self.config.valid_samples, replace = False).tolist()\n",
    "            train = list(set(user_total) - set(valid))\n",
    "\n",
    "            user_train[user] = train\n",
    "            user_valid[user] = valid # valid_samples 개수 만큼 검증에 활용 (현재 Task와 가장 유사하게)\n",
    "\n",
    "        return user_train, user_valid\n",
    "    \n",
    "    def get_train_valid_data(self):\n",
    "        return self.user_train, self.user_valid\n",
    "\n",
    "    def make_matrix(self, user_list, train = True):\n",
    "        \"\"\"\n",
    "        user_item_dict를 바탕으로 행렬 생성\n",
    "        \"\"\"\n",
    "        mat = torch.zeros(size = (user_list.size(0), self.num_item))\n",
    "        for idx, user in enumerate(user_list):\n",
    "            if train:\n",
    "                mat[idx, self.user_train[user.item()]] = 1\n",
    "            else:\n",
    "                mat[idx, self.user_train[user.item()] + self.user_valid[user.item()]] = 1\n",
    "        return mat\n",
    "\n",
    "    def make_sparse_matrix(self, test = False):\n",
    "        X = sp.dok_matrix((self.num_user, self.num_item), dtype=np.float32)\n",
    "        \n",
    "        for user in self.user_train.keys():\n",
    "            item_list = self.user_train[user]\n",
    "            X[user, item_list] = 1.0\n",
    "        \n",
    "        if test:\n",
    "            for user in self.user_valid.keys():\n",
    "                item_list = self.user_valid[user]\n",
    "                X[user, item_list] = 1.0\n",
    "\n",
    "        return X.tocsr()"
   ]
  },
  {
   "cell_type": "code",
   "execution_count": 4,
   "metadata": {
    "id": "IldCGmY8u9vh"
   },
   "outputs": [],
   "source": [
    "class AEDataSet(Dataset):\n",
    "    def __init__(self, num_user):\n",
    "        self.num_user = num_user\n",
    "        self.users = [i for i in range(num_user)]\n",
    "\n",
    "    def __len__(self):\n",
    "        return self.num_user\n",
    "\n",
    "    def __getitem__(self, idx): \n",
    "        user = self.users[idx]\n",
    "        return torch.LongTensor([user])"
   ]
  },
  {
   "cell_type": "markdown",
   "metadata": {
    "id": "ysia457Su9vi"
   },
   "source": [
    "# 3. 모델"
   ]
  },
  {
   "cell_type": "code",
   "execution_count": 5,
   "metadata": {},
   "outputs": [],
   "source": [
    "import numpy as np\n",
    "from scipy import sparse\n",
    "from copy import deepcopy\n",
    "\n",
    "class EASER():\n",
    "    def __init__(self, threshold = 3500, lambdaBB = 500, lambdaCC = 5000, rho = 100000, epochs = 40):\n",
    "        self.threshold = threshold\n",
    "        self.lambdaBB = lambdaBB\n",
    "        self.lambdaCC = lambdaCC\n",
    "        self.rho = rho\n",
    "        self.epochs = epochs\n",
    "    \n",
    "    def create_list_feature_pairs(self, XtX):\n",
    "        AA = np.triu(np.abs(XtX))\n",
    "        AA[ np.diag_indices(AA.shape[0]) ]=0.0\n",
    "        ii_pairs = np.where((AA > self.threshold) == True)\n",
    "        return ii_pairs\n",
    "    \n",
    "    def create_matrix_Z(self, ii_pairs, X):\n",
    "        MM = np.zeros( (len(ii_pairs[0]), X.shape[1]),    dtype=np.float64)\n",
    "        MM[np.arange(MM.shape[0]) , ii_pairs[0]   ]=1.0\n",
    "        MM[np.arange(MM.shape[0]) , ii_pairs[1]   ]=1.0\n",
    "        CCmask = 1.0-MM\n",
    "        MM = sparse.csc_matrix(MM.T)\n",
    "        Z=  X * MM\n",
    "        Z= (Z == 2.0 )\n",
    "        Z=Z*1.0\n",
    "        return Z, CCmask\n",
    "\n",
    "    def train_higher(self, XtX, XtXdiag, ZtZ, ZtZdiag, CCmask, ZtX):\n",
    "        ii_diag=np.diag_indices(XtX.shape[0])\n",
    "        XtX[ii_diag] = XtXdiag + self.lambdaBB\n",
    "        PP = np.linalg.inv(XtX)\n",
    "        ii_diag_ZZ=np.diag_indices(ZtZ.shape[0])\n",
    "        ZtZ[ii_diag_ZZ] = ZtZdiag + self.lambdaCC + self.rho\n",
    "        QQ=np.linalg.inv(ZtZ)\n",
    "        CC = np.zeros( (ZtZ.shape[0], XtX.shape[0]),dtype=np.float64 )\n",
    "        DD = np.zeros( (ZtZ.shape[0], XtX.shape[0]),dtype=np.float64 )\n",
    "        UU = np.zeros( (ZtZ.shape[0], XtX.shape[0]),dtype=np.float64 )\n",
    "\n",
    "        for iter in range(self.epochs):\n",
    "            # learn BB\n",
    "            XtX[ii_diag] = XtXdiag\n",
    "            BB= PP.dot(XtX-ZtX.T.dot(CC))\n",
    "            gamma = np.diag(BB) / np.diag(PP)\n",
    "            BB-= PP * gamma\n",
    "            # learn CC\n",
    "            CC= QQ.dot(ZtX-ZtX.dot(BB) + self.rho * (DD-UU))\n",
    "            # learn DD\n",
    "            DD=  CC  * CCmask \n",
    "            #DD= np.maximum(0.0, DD) # if you want to enforce non-negative parameters\n",
    "            # learn UU (is Gamma in paper)\n",
    "            UU+= CC-DD\n",
    "        \n",
    "        return BB, DD\n",
    "\n",
    "    def fit(self, X):\n",
    "        print(' --- init')\n",
    "        XtX = (X.transpose() * X).toarray()\n",
    "        XtXdiag = deepcopy(np.diag(XtX))\n",
    "        ii_pairs = self.create_list_feature_pairs(XtX)\n",
    "        Z, CCmask = self.create_matrix_Z(ii_pairs, X)\n",
    "\n",
    "        ZtZ = (Z.transpose() * Z).toarray()\n",
    "        ZtZdiag = deepcopy(np.diag(ZtZ))\n",
    "\n",
    "        ZtX = (Z.transpose() * X).toarray()\n",
    "        \n",
    "        print(' --- iteration start.')\n",
    "        BB, CC = self.train_higher(XtX, XtXdiag, ZtZ, ZtZdiag, CCmask, ZtX)\n",
    "        print(' --- iteration end.')\n",
    "\n",
    "        self.pred = torch.from_numpy(X.toarray().dot(BB) + Z.toarray().dot(CC))"
   ]
  },
  {
   "cell_type": "markdown",
   "metadata": {
    "id": "GwSexh43u9vk"
   },
   "source": [
    "# 4. 학습 함수"
   ]
  },
  {
   "cell_type": "code",
   "execution_count": 6,
   "metadata": {
    "id": "nws4JO2_rgQP"
   },
   "outputs": [],
   "source": [
    "def get_ndcg(pred_list, true_list):\n",
    "    idcg = sum((1 / np.log2(rank + 2) for rank in range(1, len(pred_list))))\n",
    "    dcg = 0\n",
    "    for rank, pred in enumerate(pred_list):\n",
    "        if pred in true_list:\n",
    "            dcg += 1 / np.log2(rank + 2)\n",
    "    ndcg = dcg / idcg\n",
    "    return ndcg\n",
    "\n",
    "# hit == recall == precision\n",
    "def get_hit(pred_list, true_list):\n",
    "    hit_list = set(true_list) & set(pred_list)\n",
    "    hit = len(hit_list) / len(true_list)\n",
    "    return hit\n",
    "\n",
    "\n",
    "def evaluate(model1, X, user_train, user_valid, candidate_cnt):\n",
    "\n",
    "    mat = torch.from_numpy(X)\n",
    "\n",
    "    NDCG = 0.0 # NDCG@10\n",
    "    HIT = 0.0 # HIT@10\n",
    "\n",
    "    recon_mat1 = model1.pred.cpu()\n",
    "    recon_mat1[mat == 1] = -np.inf\n",
    "    rec_list1 = recon_mat1.argsort(dim = 1)\n",
    "\n",
    "    for user, rec1 in tqdm(enumerate(rec_list1)):\n",
    "        uv = user_valid[user]\n",
    "\n",
    "        # ranking\n",
    "        up = rec1[-candidate_cnt:].cpu().numpy().tolist()[::-1]\n",
    "\n",
    "        NDCG += get_ndcg(pred_list = up, true_list = uv)\n",
    "        HIT += get_hit(pred_list = up, true_list = uv)\n",
    "\n",
    "    NDCG /= len(user_train)\n",
    "    HIT /= len(user_train)\n",
    "\n",
    "    return NDCG, HIT"
   ]
  },
  {
   "cell_type": "markdown",
   "metadata": {
    "id": "gupkaJHMslCi"
   },
   "source": [
    "# 5. 학습"
   ]
  },
  {
   "cell_type": "code",
   "execution_count": 7,
   "metadata": {},
   "outputs": [],
   "source": [
    "make_matrix_data_set = MakeMatrixDataSet(config = config)\n",
    "user_train, user_valid = make_matrix_data_set.get_train_valid_data()\n",
    "X = make_matrix_data_set.make_sparse_matrix()"
   ]
  },
  {
   "cell_type": "code",
   "execution_count": null,
   "metadata": {},
   "outputs": [],
   "source": [
    "model = EASER(threshold = 3500, lambdaBB = 500, lambdaCC = 10000, rho = 50000)\n",
    "model.fit(X = X)\n",
    "ndcg, hit = evaluate(model1 = model, X = X.todense(), user_train = user_train, user_valid = user_valid, candidate_cnt = 10)\n",
    "print(f'NDCG@10: {ndcg:.5f}| HIT@10: {hit:.5f}')"
   ]
  }
 ],
 "metadata": {
  "interpreter": {
   "hash": "d4d1e4263499bec80672ea0156c357c1ee493ec2b1c70f0acce89fc37c4a6abe"
  },
  "kernelspec": {
   "display_name": "Python 3.8.5 ('base')",
   "language": "python",
   "name": "python3"
  },
  "language_info": {
   "codemirror_mode": {
    "name": "ipython",
    "version": 3
   },
   "file_extension": ".py",
   "mimetype": "text/x-python",
   "name": "python",
   "nbconvert_exporter": "python",
   "pygments_lexer": "ipython3",
   "version": "3.8.5"
  },
  "orig_nbformat": 4
 },
 "nbformat": 4,
 "nbformat_minor": 2
}
