{
 "cells": [
  {
   "cell_type": "code",
   "execution_count": 1,
   "metadata": {},
   "outputs": [],
   "source": [
    "import time\n",
    "import seaborn as sns\n",
    "import matplotlib.pyplot as plt\n",
    "import pandas as pd\n",
    "import numpy as np\n",
    "import os\n",
    "\n",
    "import warnings\n",
    "warnings.filterwarnings(action='ignore')\n",
    "\n",
    "data_path = '/opt/ml/input/data/train'"
   ]
  },
  {
   "cell_type": "code",
   "execution_count": 2,
   "metadata": {},
   "outputs": [],
   "source": [
    "train_df = pd.read_csv(os.path.join(data_path, 'train_ratings.csv')) # 전체 학습 데이터\n",
    "year_data = pd.read_csv(os.path.join(data_path, 'years.tsv'), sep='\\t')\n",
    "writer_data = pd.read_csv(os.path.join(data_path, 'writers.tsv'), sep='\\t')\n",
    "title_data = pd.read_csv(os.path.join(data_path, 'titles.tsv'), sep='\\t')\n",
    "genre_data = pd.read_csv(os.path.join(data_path, 'genres.tsv'), sep='\\t')\n",
    "director_data = pd.read_csv(os.path.join(data_path, 'directors.tsv'), sep='\\t')"
   ]
  },
  {
   "cell_type": "markdown",
   "metadata": {},
   "source": [
    "# 유저 프로파일"
   ]
  },
  {
   "cell_type": "code",
   "execution_count": 3,
   "metadata": {},
   "outputs": [],
   "source": [
    "# 2005 년에 본 영화의 경우 주로 몇넌도 개봉 영화인지 파악\n",
    "\n",
    "\n",
    "def get_item_in_year(train_df, title_data, year):\n",
    "    '''\n",
    "    2005년 까지의 영화 시청 기록안에는 미래의 영화 시청 기록이 없음\n",
    "    따라서 user가 주로 소비한 영화의 시청 연도는 영화를 필터링 하는 것에 중요한 요소로 작용할 수 있음\n",
    "    ex) 2005년 주로 영화를 시청한 유저는 2005년 이후에 개봉한 영화를 추천해주는 것은 사실상 의미가 없음 (근데 이건 본 대회 Task에만 적용하는 문제임) \n",
    "    '''\n",
    "    item_list = train_df[train_df['year'] <= year]['item'].unique().tolist()\n",
    "    item_list = title_data.set_index('item').loc[item_list, :]['year'].unique().tolist()\n",
    "    print(f'{year} 년')\n",
    "    print(f'최대 년도: {max(item_list)}')\n",
    "    print(f'최소 년도: {min(item_list)}')"
   ]
  },
  {
   "cell_type": "code",
   "execution_count": 4,
   "metadata": {},
   "outputs": [],
   "source": [
    "import re\n",
    "\n",
    "# year data에 결측치가 존재하여 따로 title에서 year를 가져옴\n",
    "\n",
    "def get_title_year(x):\n",
    "    # 가로 안에 있는 4자리의 숫자만 매칭\n",
    "    pattern = r\"\\(([\\d]{4})\\)\"\n",
    "    ret = re.search(pattern, x)\n",
    "    if ret: return ret.group(1)\n",
    "    else: \n",
    "        if x == 'Fawlty Towers (1975-1979)': return '1975'\n",
    "        if x == 'Big Bang Theory, The (2007-)': return '2007'\n",
    "\n",
    "title_data['year'] = title_data['title'].apply(get_title_year)"
   ]
  },
  {
   "cell_type": "code",
   "execution_count": 7,
   "metadata": {},
   "outputs": [],
   "source": [
    "title_data.to_csv(os.path.join(data_path, 'item_pro.csv'), index = False)"
   ]
  },
  {
   "cell_type": "markdown",
   "metadata": {},
   "source": [
    "# 아이템 프로파일"
   ]
  },
  {
   "cell_type": "code",
   "execution_count": 18,
   "metadata": {},
   "outputs": [],
   "source": [
    "def get_item_in_year(user, user_item_list, title_data):\n",
    "    user_item_year_list = title_data.set_index('item').loc[user_item_list, :]['year'].unique().tolist()\n",
    "    min_year = min(user_item_year_list)\n",
    "    max_year = max(user_item_year_list)\n",
    "    return min_year, max_year"
   ]
  },
  {
   "cell_type": "code",
   "execution_count": null,
   "metadata": {},
   "outputs": [],
   "source": [
    "group_df = train_df.groupby('user')\n",
    "user_data = []\n",
    "for user, df in group_df:\n",
    "    user_item_list = df['item'].tolist()\n",
    "    min_year, max_year = get_item_in_year(user, user_item_list, title_data)\n",
    "    user_data.append({\n",
    "        'user' : user,\n",
    "        'min_year' : min_year, \n",
    "        'max_year' : max_year, \n",
    "    })\n",
    "\n",
    "user_data = pd.DataFrame(user_data)"
   ]
  },
  {
   "cell_type": "code",
   "execution_count": 20,
   "metadata": {},
   "outputs": [],
   "source": [
    "user_data.to_csv(os.path.join(data_path, 'user_pro.csv'), index = False)"
   ]
  }
 ],
 "metadata": {
  "interpreter": {
   "hash": "d4d1e4263499bec80672ea0156c357c1ee493ec2b1c70f0acce89fc37c4a6abe"
  },
  "kernelspec": {
   "display_name": "Python 3.8.5 ('base')",
   "language": "python",
   "name": "python3"
  },
  "language_info": {
   "codemirror_mode": {
    "name": "ipython",
    "version": 3
   },
   "file_extension": ".py",
   "mimetype": "text/x-python",
   "name": "python",
   "nbconvert_exporter": "python",
   "pygments_lexer": "ipython3",
   "version": "3.8.5"
  },
  "orig_nbformat": 4
 },
 "nbformat": 4,
 "nbformat_minor": 2
}
