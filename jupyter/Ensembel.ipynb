{
 "cells": [
  {
   "cell_type": "code",
   "execution_count": 1,
   "metadata": {
    "id": "Ug-br-pPu9vZ"
   },
   "outputs": [],
   "source": [
    "import math\n",
    "import numpy as np\n",
    "import scipy.sparse as sp\n",
    "import pandas as pd\n",
    "from tqdm import tqdm\n",
    "from collections import defaultdict\n",
    "import os\n",
    "import numpy as np\n",
    "from copy import deepcopy\n",
    "\n",
    "import torch\n",
    "import torch.nn as nn\n",
    "import torch.nn.functional as F\n",
    "from torch.utils.data import Dataset, DataLoader\n",
    "\n",
    "from box import Box\n",
    "\n",
    "import warnings\n",
    "\n",
    "warnings.filterwarnings(action='ignore')\n",
    "torch.set_printoptions(sci_mode=True)"
   ]
  },
  {
   "cell_type": "markdown",
   "metadata": {
    "id": "pbRKDSg4u9vc"
   },
   "source": [
    "# 1. 학습 설정"
   ]
  },
  {
   "cell_type": "code",
   "execution_count": 2,
   "metadata": {
    "id": "MEhK_fLIu9vd"
   },
   "outputs": [],
   "source": [
    "config = {\n",
    "    'data_path' : \"/opt/ml/input/data/train\" , # 데이터 경로\n",
    "    'model_path' : \"../model\",\n",
    "\n",
    "\n",
    "    'submission_path' : \"../submission\",\n",
    "    'submission_name' : 'Ensembel_v8_submission.csv',\n",
    "\n",
    "    'candidate_item_num' : 50,\n",
    "    'valid_samples' : 10, # 검증에 사용할 sample 수\n",
    "    'seed' : 22,\n",
    "}\n",
    "\n",
    "device = 'cuda' if torch.cuda.is_available() else 'cpu'\n",
    "\n",
    "config = Box(config)"
   ]
  },
  {
   "cell_type": "markdown",
   "metadata": {
    "id": "wjDxy0fJu9vf"
   },
   "source": [
    "# 2. 데이터 전처리"
   ]
  },
  {
   "cell_type": "code",
   "execution_count": 3,
   "metadata": {
    "id": "W64BYWl0u9vg"
   },
   "outputs": [],
   "source": [
    "class MakeMatrixDataSet():\n",
    "    \"\"\"\n",
    "    MatrixDataSet 생성\n",
    "    \"\"\"\n",
    "    def __init__(self, config):\n",
    "        self.config = config\n",
    "        self.df = pd.read_csv(os.path.join(self.config.data_path, 'train_ratings.csv'))\n",
    "        \n",
    "        self.item_encoder, self.item_decoder = self.generate_encoder_decoder('item')\n",
    "        self.user_encoder, self.user_decoder = self.generate_encoder_decoder('user')\n",
    "        self.num_item, self.num_user = len(self.item_encoder), len(self.user_encoder)\n",
    "\n",
    "        self.df['item_idx'] = self.df['item'].apply(lambda x : self.item_encoder[x])\n",
    "        self.df['user_idx'] = self.df['user'].apply(lambda x : self.user_encoder[x])\n",
    "\n",
    "        self.user_train, self.user_valid = self.generate_sequence_data()\n",
    "\n",
    "    def generate_encoder_decoder(self, col : str) -> dict:\n",
    "        \"\"\"\n",
    "        encoder, decoder 생성\n",
    "\n",
    "        Args:\n",
    "            col (str): 생성할 columns 명\n",
    "        Returns:\n",
    "            dict: 생성된 user encoder, decoder\n",
    "        \"\"\"\n",
    "\n",
    "        encoder = {}\n",
    "        decoder = {}\n",
    "        ids = self.df[col].unique()\n",
    "\n",
    "        for idx, _id in enumerate(ids):\n",
    "            encoder[_id] = idx\n",
    "            decoder[idx] = _id\n",
    "\n",
    "        return encoder, decoder\n",
    "    \n",
    "    def generate_sequence_data(self) -> dict:\n",
    "        \"\"\"\n",
    "        sequence_data 생성\n",
    "\n",
    "        Returns:\n",
    "            dict: train user sequence / valid user sequence\n",
    "        \"\"\"\n",
    "        users = defaultdict(list)\n",
    "        user_train = {}\n",
    "        user_valid = {}\n",
    "        for user, item, time in zip(self.df['user_idx'], self.df['item_idx'], self.df['time']):\n",
    "            users[user].append(item)\n",
    "        \n",
    "        for user in users:\n",
    "            np.random.seed(self.config.seed)\n",
    "\n",
    "            user_total = users[user]\n",
    "            valid = np.random.choice(user_total, size = self.config.valid_samples, replace = False).tolist()\n",
    "            train = list(set(user_total) - set(valid))\n",
    "\n",
    "            user_train[user] = train\n",
    "            user_valid[user] = valid # valid_samples 개수 만큼 검증에 활용 (현재 Task와 가장 유사하게)\n",
    "\n",
    "        return user_train, user_valid\n",
    "    \n",
    "    def get_train_valid_data(self):\n",
    "        return self.user_train, self.user_valid\n",
    "\n",
    "    def make_matrix(self, user_list, train = True):\n",
    "        \"\"\"\n",
    "        user_item_dict를 바탕으로 행렬 생성\n",
    "        \"\"\"\n",
    "        mat = torch.zeros(size = (user_list.size(0), self.num_item))\n",
    "        for idx, user in enumerate(user_list):\n",
    "            if train:\n",
    "                mat[idx, self.user_train[user.item()]] = 1\n",
    "            else:\n",
    "                mat[idx, self.user_train[user.item()] + self.user_valid[user.item()]] = 1\n",
    "        return mat\n",
    "\n",
    "    def make_sparse_matrix(self, test = False):\n",
    "        X = sp.dok_matrix((self.num_user, self.num_item), dtype=np.float32)\n",
    "        \n",
    "        for user in self.user_train.keys():\n",
    "            item_list = self.user_train[user]\n",
    "            X[user, item_list] = 1.0\n",
    "        \n",
    "        if test:\n",
    "            for user in self.user_valid.keys():\n",
    "                item_list = self.user_valid[user]\n",
    "                X[user, item_list] = 1.0\n",
    "\n",
    "        return X.tocsr()"
   ]
  },
  {
   "cell_type": "code",
   "execution_count": 4,
   "metadata": {
    "id": "IldCGmY8u9vh"
   },
   "outputs": [],
   "source": [
    "class AEDataSet(Dataset):\n",
    "    def __init__(self, num_user):\n",
    "        self.num_user = num_user\n",
    "        self.users = [i for i in range(num_user)]\n",
    "\n",
    "    def __len__(self):\n",
    "        return self.num_user\n",
    "\n",
    "    def __getitem__(self, idx): \n",
    "        user = self.users[idx]\n",
    "        return torch.LongTensor([user])"
   ]
  },
  {
   "cell_type": "markdown",
   "metadata": {
    "id": "ysia457Su9vi"
   },
   "source": [
    "# 3. 모델"
   ]
  },
  {
   "cell_type": "code",
   "execution_count": 5,
   "metadata": {},
   "outputs": [],
   "source": [
    "class HOSLIM():\n",
    "    def __init__(self, threshold = 3500, lambdaBB = 500, lambdaCC = 5000, rho = 100000, epochs = 40):\n",
    "        self.threshold = threshold\n",
    "        self.lambdaBB = lambdaBB\n",
    "        self.lambdaCC = lambdaCC\n",
    "        self.rho = rho\n",
    "        self.epochs = epochs\n",
    "    \n",
    "    def create_list_feature_pairs(self, XtX):\n",
    "        AA = np.triu(np.abs(XtX))\n",
    "        AA[ np.diag_indices(AA.shape[0]) ]=0.0\n",
    "        ii_pairs = np.where((AA > self.threshold) == True)\n",
    "        return ii_pairs\n",
    "    \n",
    "    def create_matrix_Z(self, ii_pairs, X):\n",
    "        MM = np.zeros( (len(ii_pairs[0]), X.shape[1]),    dtype=np.float)\n",
    "        MM[np.arange(MM.shape[0]) , ii_pairs[0]   ]=1.0\n",
    "        MM[np.arange(MM.shape[0]) , ii_pairs[1]   ]=1.0\n",
    "        CCmask = 1.0-MM\n",
    "        MM = MM.T\n",
    "        Z=  X.dot(MM)\n",
    "        Z= (Z == 2.0 )\n",
    "        Z=Z*1.0\n",
    "        return Z, CCmask\n",
    "\n",
    "    def train_higher(self, XtX, XtXdiag, ZtZ, ZtZdiag, CCmask, ZtX):\n",
    "        ii_diag=np.diag_indices(XtX.shape[0])\n",
    "        XtX[ii_diag] = XtXdiag + self.lambdaBB\n",
    "        PP = np.linalg.inv(XtX)\n",
    "        ii_diag_ZZ=np.diag_indices(ZtZ.shape[0])\n",
    "        ZtZ[ii_diag_ZZ] = ZtZdiag + self.lambdaCC + self.rho\n",
    "        QQ=np.linalg.inv(ZtZ)\n",
    "        CC = np.zeros( (ZtZ.shape[0], XtX.shape[0]),dtype=np.float )\n",
    "        DD = np.zeros( (ZtZ.shape[0], XtX.shape[0]),dtype=np.float )\n",
    "        UU = np.zeros( (ZtZ.shape[0], XtX.shape[0]),dtype=np.float )\n",
    "\n",
    "        for iter in range(self.epochs):\n",
    "            # learn BB\n",
    "            XtX[ii_diag] = XtXdiag\n",
    "            BB= PP.dot(XtX-ZtX.T.dot(CC))\n",
    "            gamma = np.diag(BB) / np.diag(PP)\n",
    "            BB-= PP * gamma\n",
    "            # learn CC\n",
    "            CC= QQ.dot(ZtX-ZtX.dot(BB) + self.rho * (DD-UU))\n",
    "            # learn DD\n",
    "            DD=  CC  * CCmask \n",
    "            #DD= np.maximum(0.0, DD) # if you want to enforce non-negative parameters\n",
    "            # learn UU (is Gamma in paper)\n",
    "            UU+= CC-DD\n",
    "        \n",
    "        return BB, DD\n",
    "\n",
    "    def fit(self, X):\n",
    "        XtX = X.T.dot(X)\n",
    "        XtXdiag = deepcopy(np.diag(XtX))\n",
    "        ii_pairs = self.create_list_feature_pairs(XtX)\n",
    "        Z, CCmask = self.create_matrix_Z(ii_pairs, X)\n",
    "\n",
    "        ZtZ = Z.T.dot(Z)\n",
    "        ZtZdiag = deepcopy(np.diag(ZtZ))\n",
    "\n",
    "        ZtX = Z.T.dot(X)\n",
    "\n",
    "        BB, CC = self.train_higher(XtX, XtXdiag, ZtZ, ZtZdiag, CCmask, ZtX)\n",
    "\n",
    "        self.pred = torch.from_numpy(X.dot(BB) + Z.dot(CC))"
   ]
  },
  {
   "cell_type": "code",
   "execution_count": 6,
   "metadata": {},
   "outputs": [],
   "source": [
    "class AdmmSlim():\n",
    "    def __init__(self, lambda_1=1, lambda_2=500, rho=10000, positive=True, n_iter=50, eps_rel=1e-4, eps_abs=1e-3, verbose=False):\n",
    "        self.lambda_1 = lambda_1\n",
    "        self.lambda_2 = lambda_2\n",
    "        self.rho = rho\n",
    "        self.positive = positive\n",
    "        self.n_iter = n_iter\n",
    "        self.eps_rel = eps_rel\n",
    "        self.eps_abs = eps_abs\n",
    "        self.verbose = verbose\n",
    "    \n",
    "    def soft_thresholding(self, B, Gamma):\n",
    "        if self.lambda_1 == 0:\n",
    "            if self.positive:\n",
    "                return np.abs(B)\n",
    "            else:\n",
    "                return B\n",
    "        else:\n",
    "            x = B + Gamma / self.rho\n",
    "            threshold = self.lambda_1 / self.rho\n",
    "            if self.positive:\n",
    "                return np.where(threshold < x, x - threshold, 0)\n",
    "            else:\n",
    "                return np.where(threshold < x, x - threshold,\n",
    "                                np.where(x < - threshold, x + threshold, 0))\n",
    "\n",
    "    def is_converged(self, B, C, C_old, Gamma):\n",
    "        B_norm = np.linalg.norm(B)\n",
    "        C_norm = np.linalg.norm(C)\n",
    "        Gamma_norm = np.linalg.norm(Gamma)\n",
    "\n",
    "        eps_primal = self.eps_abs * B.shape[0] - self.eps_rel * np.max([B_norm, C_norm])\n",
    "        eps_dual = self.eps_abs * B.shape[0] - self.eps_rel * Gamma_norm\n",
    "\n",
    "        R_primal_norm = np.linalg.norm(B - C)\n",
    "        R_dual_norm = np.linalg.norm(C  - C_old) * self.rho\n",
    "\n",
    "        converged = R_primal_norm < eps_primal and R_dual_norm < eps_dual\n",
    "        return converged\n",
    "\n",
    "    def fit(self, X):\n",
    "        XtX = X.T.dot(X)\n",
    "        if sp.issparse(XtX):\n",
    "            XtX = XtX.todense().A\n",
    "\n",
    "        if self.verbose:\n",
    "            print(' --- init')\n",
    "        identity_mat = np.identity(XtX.shape[0])\n",
    "        diags = identity_mat * (self.lambda_2 + self.rho)\n",
    "        P = np.linalg.inv(XtX + diags).astype(np.float32)\n",
    "        B_aux = P.dot(XtX)\n",
    "\n",
    "        Gamma = np.zeros_like(XtX, dtype=np.float32)\n",
    "        C = np.zeros_like(XtX, dtype=np.float32)\n",
    "\n",
    "        if self.verbose:\n",
    "            print(' --- iteration start.')\n",
    "        for iter in range(self.n_iter):\n",
    "            if self.verbose:\n",
    "                print(f' --- iteration {iter+1}/{self.n_iter}')\n",
    "            C_old = C.copy()\n",
    "            B_tilde = B_aux + P.dot(self.rho * C - Gamma)\n",
    "            gamma = np.diag(B_tilde) / (np.diag(P) + 1e-8)\n",
    "            B = B_tilde - P * gamma\n",
    "            C = self.soft_thresholding(B, Gamma)\n",
    "            Gamma = Gamma + self.rho * (B - C)\n",
    "            if self.is_converged(B, C, C_old, Gamma):\n",
    "                if self.verbose:\n",
    "                    print(f' --- Converged. Stopped iteration.')\n",
    "                break\n",
    "\n",
    "        coef = C\n",
    "\n",
    "        self.pred = torch.from_numpy(X.dot(coef))"
   ]
  },
  {
   "cell_type": "code",
   "execution_count": 7,
   "metadata": {},
   "outputs": [],
   "source": [
    "class MultiVAE(nn.Module):\n",
    "    \"\"\"\n",
    "    Container module for Multi-DAE.\n",
    "\n",
    "    Multi-DAE : Denoising Autoencoder with Multinomial Likelihood\n",
    "    See Variational Autoencoders for Collaborative Filtering\n",
    "    https://arxiv.org/abs/1802.05814\n",
    "    \"\"\"\n",
    "\n",
    "    def __init__(self, p_dims, dropout_rate = 0.5):\n",
    "        super(MultiVAE, self).__init__()\n",
    "        self.p_dims = p_dims\n",
    "        self.q_dims = p_dims[::-1]\n",
    "\n",
    "        temp_q_dims = self.q_dims[:-1] + [self.q_dims[-1] * 2]\n",
    "\n",
    "        self.q_layers = nn.ModuleList([nn.Linear(d_in, d_out) for\n",
    "            d_in, d_out in zip(temp_q_dims[:-1], temp_q_dims[1:])])\n",
    "\n",
    "        self.p_layers = nn.ModuleList([nn.Linear(d_in, d_out) for\n",
    "            d_in, d_out in zip(self.p_dims[:-1], self.p_dims[1:])])\n",
    "\n",
    "        self.drop = nn.Dropout(dropout_rate)\n",
    "        self.init_weights()\n",
    "    \n",
    "    def forward(self, input):\n",
    "        mu, logvar = self.encode(input)\n",
    "        z = self.reparameterize(mu, logvar)\n",
    "        return self.decode(z), mu, logvar\n",
    "    \n",
    "    def encode(self, input):\n",
    "        h = F.normalize(input)\n",
    "        h = self.drop(h)\n",
    "\n",
    "        for i, layer in enumerate(self.q_layers):\n",
    "            h = layer(h)\n",
    "            if i != len(self.q_layers) - 1:\n",
    "                h = F.tanh(h)\n",
    "            else:\n",
    "                mu = h[:, :self.q_dims[-1]]\n",
    "                logvar = h[:, self.q_dims[-1]:]\n",
    "        return mu, logvar\n",
    "\n",
    "    def reparameterize(self, mu, logvar):\n",
    "        if self.training:\n",
    "            std = torch.exp(0.5 * logvar)\n",
    "            eps = torch.randn_like(std)\n",
    "            return eps.mul(std).add_(mu)\n",
    "        else:\n",
    "            return mu\n",
    "    \n",
    "    def decode(self, z):\n",
    "        h = z\n",
    "        for i, layer in enumerate(self.p_layers):\n",
    "            h = layer(h)\n",
    "            if i != len(self.p_layers) - 1:\n",
    "                h = F.tanh(h)\n",
    "        return h\n",
    "\n",
    "    def init_weights(self):\n",
    "        for layer in self.q_layers:\n",
    "            # Xavier Initialization for weights\n",
    "            size = layer.weight.size()\n",
    "            fan_out = size[0]\n",
    "            fan_in = size[1]\n",
    "            std = np.sqrt(2.0/(fan_in + fan_out))\n",
    "            layer.weight.data.normal_(0.0, std)\n",
    "\n",
    "            # Normal Initialization for Biases\n",
    "            layer.bias.data.normal_(0.0, 0.001)\n",
    "        \n",
    "        for layer in self.p_layers:\n",
    "            # Xavier Initialization for weights\n",
    "            size = layer.weight.size()\n",
    "            fan_out = size[0]\n",
    "            fan_in = size[1]\n",
    "            std = np.sqrt(2.0/(fan_in + fan_out))\n",
    "            layer.weight.data.normal_(0.0, std)\n",
    "\n",
    "            # Normal Initialization for Biases\n",
    "            layer.bias.data.normal_(0.0, 0.001)"
   ]
  },
  {
   "cell_type": "code",
   "execution_count": 8,
   "metadata": {},
   "outputs": [],
   "source": [
    "class MultiDAE(nn.Module):\n",
    "    \"\"\"\n",
    "    Container module for Multi-DAE.\n",
    "\n",
    "    Multi-DAE : Denoising Autoencoder with Multinomial Likelihood\n",
    "    See Variational Autoencoders for Collaborative Filtering\n",
    "    https://arxiv.org/abs/1802.05814\n",
    "    \"\"\"\n",
    "\n",
    "    def __init__(self, p_dims, dropout_rate = 0.5):\n",
    "        super(MultiDAE, self).__init__()\n",
    "        self.p_dims = p_dims\n",
    "        self.q_dims = p_dims[::-1]\n",
    "\n",
    "        self.dims = self.q_dims + self.p_dims[1:]\n",
    "        self.layers = nn.ModuleList([nn.Linear(d_in, d_out) for\n",
    "            d_in, d_out in zip(self.dims[:-1], self.dims[1:])])\n",
    "        self.drop = nn.Dropout(dropout_rate)\n",
    "        \n",
    "        self.init_weights()\n",
    "    \n",
    "    def forward(self, input):\n",
    "        h = F.normalize(input)\n",
    "        h = self.drop(h)\n",
    "\n",
    "        for i, layer in enumerate(self.layers):\n",
    "            h = layer(h)\n",
    "            if i != len(self.layers) - 1:\n",
    "                h = F.tanh(h)\n",
    "        return h\n",
    "\n",
    "    def init_weights(self):\n",
    "        for layer in self.layers:\n",
    "            # Xavier Initialization for weights\n",
    "            size = layer.weight.size()\n",
    "            fan_out = size[0]\n",
    "            fan_in = size[1]\n",
    "            std = np.sqrt(2.0/(fan_in + fan_out))\n",
    "            layer.weight.data.normal_(0.0, std)\n",
    "\n",
    "            # Normal Initialization for Biases\n",
    "            layer.bias.data.normal_(0.0, 0.001)"
   ]
  },
  {
   "cell_type": "code",
   "execution_count": 9,
   "metadata": {},
   "outputs": [],
   "source": [
    "class AutoRec(nn.Module):\n",
    "    def __init__(self, num, num_factor):\n",
    "        super(AutoRec, self).__init__()\n",
    "        self.encoder = nn.Sequential(\n",
    "            nn.Linear(num, num_factor),\n",
    "            nn.Sigmoid(),\n",
    "            nn.Linear(num_factor, num_factor // 2),\n",
    "        )\n",
    "        self.decoder = nn.Sequential(\n",
    "            nn.Linear(num_factor // 2, num_factor),\n",
    "            nn.Sigmoid(),\n",
    "            nn.Linear(num_factor, num),\n",
    "        )\n",
    "\n",
    "        self.init_weights()\n",
    "\n",
    "    def forward(self, mat):\n",
    "        latent = self.encoder(mat)\n",
    "        recont_mat = self.decoder(latent)\n",
    "\n",
    "        return recont_mat\n",
    "\n",
    "    def init_weights(self):\n",
    "        for layer in self.encoder:\n",
    "            if isinstance(layer, nn.Linear):\n",
    "                size = layer.weight.size()\n",
    "                fan_out = size[0]\n",
    "                fan_in = size[1]\n",
    "                std = np.sqrt(2.0/(fan_in + fan_out))\n",
    "                layer.weight.data.normal_(0.0, std)\n",
    "                layer.bias.data.normal_(0.0, 0.001)\n",
    "        \n",
    "        for layer in self.decoder:\n",
    "            if isinstance(layer, nn.Linear):\n",
    "                size = layer.weight.size()\n",
    "                fan_out = size[0]\n",
    "                fan_in = size[1]\n",
    "                std = np.sqrt(2.0/(fan_in + fan_out))\n",
    "                layer.weight.data.normal_(0.0, std)\n",
    "                layer.bias.data.normal_(0.0, 0.001)"
   ]
  },
  {
   "cell_type": "code",
   "execution_count": 10,
   "metadata": {},
   "outputs": [],
   "source": [
    "class EASE():\n",
    "    def __init__(self, X, reg):\n",
    "        self.X = self._convert_sp_mat_to_sp_tensor(X)\n",
    "        self.reg = reg\n",
    "    \n",
    "    def _convert_sp_mat_to_sp_tensor(self, X):\n",
    "        \"\"\"\n",
    "        Convert scipy sparse matrix to PyTorch sparse matrix\n",
    "\n",
    "        Arguments:\n",
    "        ----------\n",
    "        X = Adjacency matrix, scipy sparse matrix\n",
    "        \"\"\"\n",
    "        coo = X.tocoo().astype(np.float32)\n",
    "        i = torch.LongTensor(np.mat([coo.row, coo.col]))\n",
    "        v = torch.FloatTensor(coo.data)\n",
    "        res = torch.sparse.FloatTensor(i, v, coo.shape).to(device)\n",
    "        return res\n",
    "    \n",
    "    def fit(self):\n",
    "        '''\n",
    "\n",
    "        진짜 정말 간단한 식으로 모델을 만듬\n",
    "\n",
    "        '''\n",
    "        G = self.X.to_dense().t() @ self.X.to_dense()\n",
    "        diagIndices = torch.eye(G.shape[0]) == 1\n",
    "        G[diagIndices] += self.reg\n",
    "\n",
    "        P = G.inverse()\n",
    "        B = P / (-1 * P.diag())\n",
    "        B[diagIndices] = 0\n",
    "\n",
    "        self.pred = self.X.to_dense() @ B"
   ]
  },
  {
   "cell_type": "code",
   "execution_count": 11,
   "metadata": {},
   "outputs": [],
   "source": [
    "def swish(x):\n",
    "    return x.mul(torch.sigmoid(x))\n",
    "\n",
    "def log_norm_pdf(x, mu, logvar):\n",
    "    return -0.5*(logvar + np.log(2 * np.pi) + (x - mu).pow(2) / logvar.exp())\n",
    "\n",
    "class CompositePrior(nn.Module):\n",
    "    def __init__(self, hidden_dim, latent_dim, input_dim, mixture_weights=[3/20, 3/4, 1/10]):\n",
    "        super(CompositePrior, self).__init__()\n",
    "        \n",
    "        self.mixture_weights = mixture_weights\n",
    "        \n",
    "        self.mu_prior = nn.Parameter(torch.Tensor(1, latent_dim), requires_grad=False)\n",
    "        self.mu_prior.data.fill_(0)\n",
    "        \n",
    "        self.logvar_prior = nn.Parameter(torch.Tensor(1, latent_dim), requires_grad=False)\n",
    "        self.logvar_prior.data.fill_(0)\n",
    "        \n",
    "        self.logvar_uniform_prior = nn.Parameter(torch.Tensor(1, latent_dim), requires_grad=False)\n",
    "        self.logvar_uniform_prior.data.fill_(10)\n",
    "        \n",
    "        self.encoder_old = Encoder(hidden_dim, latent_dim, input_dim)\n",
    "        self.encoder_old.requires_grad_(False)\n",
    "        \n",
    "    def forward(self, x, z):\n",
    "\n",
    "        post_mu, post_logvar = self.encoder_old(x, dropout_rate = 0)\n",
    "\n",
    "        stnd_prior = log_norm_pdf(z, self.mu_prior, self.logvar_prior)\n",
    "        post_prior = log_norm_pdf(z, post_mu, post_logvar)\n",
    "        unif_prior = log_norm_pdf(z, self.mu_prior, self.logvar_uniform_prior)\n",
    "        \n",
    "        gaussians = [stnd_prior, post_prior, unif_prior]\n",
    "        gaussians = [g.add(np.log(w)) for g, w in zip(gaussians, self.mixture_weights)]\n",
    "\n",
    "        density_per_gaussian = torch.stack(gaussians, dim=-1)\n",
    "\n",
    "        return torch.logsumexp(density_per_gaussian, dim=-1)\n",
    "\n",
    "    \n",
    "class Encoder(nn.Module):\n",
    "    def __init__(self, hidden_dim, latent_dim, input_dim, eps=1e-1):\n",
    "        super(Encoder, self).__init__()\n",
    "        \n",
    "        self.fc1 = nn.Linear(input_dim, hidden_dim)\n",
    "        self.ln1 = nn.LayerNorm(hidden_dim, eps=eps)\n",
    "        self.fc2 = nn.Linear(hidden_dim, hidden_dim)\n",
    "        self.ln2 = nn.LayerNorm(hidden_dim, eps=eps)\n",
    "        self.fc3 = nn.Linear(hidden_dim, hidden_dim)\n",
    "        self.ln3 = nn.LayerNorm(hidden_dim, eps=eps)\n",
    "        self.fc4 = nn.Linear(hidden_dim, hidden_dim)\n",
    "        self.ln4 = nn.LayerNorm(hidden_dim, eps=eps)\n",
    "        self.fc5 = nn.Linear(hidden_dim, hidden_dim)\n",
    "        self.ln5 = nn.LayerNorm(hidden_dim, eps=eps)\n",
    "        self.fc_mu = nn.Linear(hidden_dim, latent_dim)\n",
    "        self.fc_logvar = nn.Linear(hidden_dim, latent_dim)\n",
    "        \n",
    "    def forward(self, x, dropout_rate):\n",
    "        norm = x.pow(2).sum(dim=-1).sqrt()\n",
    "        x = x / norm[:, None]\n",
    "    \n",
    "        x = F.dropout(x, p=dropout_rate, training=self.training)\n",
    "        \n",
    "        h1 = self.ln1(swish(self.fc1(x)))\n",
    "        h2 = self.ln2(swish(self.fc2(h1) + h1))\n",
    "        h3 = self.ln3(swish(self.fc3(h2) + h1 + h2))\n",
    "        h4 = self.ln4(swish(self.fc4(h3) + h1 + h2 + h3))\n",
    "        h5 = self.ln5(swish(self.fc5(h4) + h1 + h2 + h3 + h4))\n",
    "        return self.fc_mu(h5), self.fc_logvar(h5)\n",
    "\n",
    "\n",
    "class RecVAE(nn.Module):\n",
    "    def __init__(self, input_dim, hidden_dim = 600, latent_dim = 200):\n",
    "        super(RecVAE, self).__init__()\n",
    "\n",
    "        self.encoder = Encoder(hidden_dim, latent_dim, input_dim)\n",
    "        self.prior = CompositePrior(hidden_dim, latent_dim, input_dim)\n",
    "        self.decoder = nn.Linear(latent_dim, input_dim)\n",
    "        \n",
    "    def reparameterize(self, mu, logvar):\n",
    "        if self.training:\n",
    "            std = torch.exp(0.5*logvar)\n",
    "            eps = torch.randn_like(std)\n",
    "            return eps.mul(std).add_(mu)\n",
    "        else:\n",
    "            return mu\n",
    "\n",
    "    def forward(self, user_ratings, beta=None, gamma=0.0005, dropout_rate=0.7, calculate_loss=True):\n",
    "        mu, logvar = self.encoder(user_ratings, dropout_rate=dropout_rate)    \n",
    "        z = self.reparameterize(mu, logvar)\n",
    "        x_pred = self.decoder(z)\n",
    "\n",
    "        if calculate_loss:\n",
    "            if gamma:\n",
    "                norm = user_ratings.sum(dim=-1)\n",
    "                kl_weight = gamma * norm\n",
    "            elif beta:\n",
    "                kl_weight = beta\n",
    "\n",
    "            mll = (F.log_softmax(x_pred, dim=-1) * user_ratings).sum(dim=-1).mean()\n",
    "            kld = (log_norm_pdf(z, mu, logvar) - self.prior(user_ratings, z)).sum(dim=-1).mul(kl_weight).mean()\n",
    "            negative_elbo = -(mll - kld)\n",
    "            \n",
    "            return (mll, kld), negative_elbo\n",
    "            \n",
    "        else:\n",
    "            return x_pred\n",
    "\n",
    "    def update_prior(self):\n",
    "        self.prior.encoder_old.load_state_dict(deepcopy(self.encoder.state_dict()))"
   ]
  },
  {
   "cell_type": "markdown",
   "metadata": {
    "id": "GwSexh43u9vk"
   },
   "source": [
    "# 4. 학습 함수"
   ]
  },
  {
   "cell_type": "code",
   "execution_count": 12,
   "metadata": {},
   "outputs": [],
   "source": [
    "def get_ndcg(pred_list, true_list):\n",
    "    idcg = sum((1 / np.log2(rank + 2) for rank in range(1, len(pred_list))))\n",
    "    dcg = 0\n",
    "    for rank, pred in enumerate(pred_list):\n",
    "        if pred in true_list:\n",
    "            dcg += 1 / np.log2(rank + 2)\n",
    "    ndcg = dcg / idcg\n",
    "    return ndcg\n",
    "\n",
    "# hit == recall == precision\n",
    "def get_hit(pred_list, true_list):\n",
    "    hit_list = set(true_list) & set(pred_list)\n",
    "    hit = len(hit_list) / len(true_list)\n",
    "    return hit"
   ]
  },
  {
   "cell_type": "markdown",
   "metadata": {},
   "source": [
    "\n",
    "```\n",
    "['rec4_score', 'rec1_score', 'rec3_score', 'rec2_score', 'rec5_score']\n",
    "[1.0, 0.6, 0.8, 0.7, 1.0]\n",
    "```\n",
    "\n",
    "```\n",
    "['rec4_score', 'rec1_score', 'rec3_score', 'rec2_score', 'rec5_score'] \n",
    "[1.0, 0.8, 0.9, 1.0, 1.0]\n",
    "```"
   ]
  },
  {
   "cell_type": "code",
   "execution_count": 32,
   "metadata": {},
   "outputs": [],
   "source": [
    "def evaluate(model1, model2, model3, model4, RecVAE, X, user_train, user_valid, candidate_cnt):\n",
    "    RecVAE.eval()\n",
    "\n",
    "    mat = torch.from_numpy(X)\n",
    "\n",
    "    NDCG = 0.0 # NDCG@10\n",
    "    HIT = 0.0 # HIT@10\n",
    "\n",
    "    recon_mat1 = model1.pred.cpu()\n",
    "    recon_mat1[mat == 1] = -np.inf\n",
    "    rec_list1 = recon_mat1.argsort(dim = 1)\n",
    "\n",
    "    recon_mat2 = model2.pred.T.cpu()\n",
    "    recon_mat2[mat == 1] = -np.inf\n",
    "    rec_list2 = recon_mat2.argsort(dim = 1)\n",
    "\n",
    "    recon_mat3 = model3.pred.cpu()\n",
    "    recon_mat3[mat == 1] = -np.inf\n",
    "    rec_list3 = recon_mat3.argsort(dim = 1)\n",
    "\n",
    "    recon_mat4 = model4.pred.cpu()\n",
    "    recon_mat4[mat == 1] = -np.inf\n",
    "    rec_list4 = recon_mat4.argsort(dim = 1)\n",
    "\n",
    "    recon_mat5 = RecVAE(mat.to(device), calculate_loss = False).cpu().detach()\n",
    "    recon_mat5[mat == 1] = -np.inf\n",
    "    rec_list5 = recon_mat5.argsort(dim = 1)\n",
    "\n",
    "    score_li = np.array([1/np.log2(rank + 2) for rank in range(0, candidate_cnt)])\n",
    "\n",
    "    for user, (rec1, rec2, rec3, rec4, rec5) in tqdm(enumerate(zip(rec_list1, rec_list2, rec_list3, rec_list4, rec_list5))):\n",
    "        uv = user_valid[user]\n",
    "\n",
    "        # ranking\n",
    "        rec1 = rec1[-candidate_cnt:].cpu().numpy().tolist()[::-1]\n",
    "        rec2 = rec2[-candidate_cnt:].cpu().numpy().tolist()[::-1]\n",
    "        rec3 = rec3[-candidate_cnt:].cpu().numpy().tolist()[::-1]\n",
    "        rec4 = rec4[-candidate_cnt:].cpu().numpy().tolist()[::-1]\n",
    "        rec5 = rec5[-candidate_cnt:].cpu().numpy().tolist()[::-1]\n",
    "\n",
    "        items = list(set(rec1 + rec2 + rec3 + rec4 + rec5))\n",
    "\n",
    "        movie_df = pd.DataFrame(index = items)\n",
    "        movie_df.loc[rec1, 'rec1_score'] = score_li * 0.6\n",
    "        movie_df.loc[rec2, 'rec2_score'] = score_li * 0.7\n",
    "        movie_df.loc[rec3, 'rec3_score'] = score_li * 0.8\n",
    "        movie_df.loc[rec4, 'rec4_score'] = score_li * 1.0\n",
    "        movie_df.loc[rec5, 'rec5_score'] = score_li * 1.0\n",
    "        movie_df = movie_df.fillna(min(score_li * 0.6))\n",
    "        movie_df['total_score'] = movie_df['rec1_score'] + movie_df['rec2_score'] + movie_df['rec3_score'] + movie_df['rec4_score'] + movie_df['rec5_score']\n",
    "        movie_df = movie_df.sort_values('total_score', ascending = False)\n",
    "        up = movie_df.index.tolist()[:10]\n",
    "\n",
    "        NDCG += get_ndcg(pred_list = up, true_list = uv)\n",
    "        HIT += get_hit(pred_list = up, true_list = uv)\n",
    "\n",
    "    NDCG /= len(user_train)\n",
    "    HIT /= len(user_train)\n",
    "\n",
    "    return NDCG, HIT\n",
    "\n",
    "def predict(model1, model2, model3, model4, RecVAE, X, candidate_cnt):\n",
    "    user2rec = {}\n",
    "\n",
    "    RecVAE.eval()\n",
    "\n",
    "    mat = torch.from_numpy(X)\n",
    "\n",
    "    recon_mat1 = model1.pred.cpu()\n",
    "    recon_mat1[mat == 1] = -np.inf\n",
    "    rec_list1 = recon_mat1.argsort(dim = 1)\n",
    "\n",
    "    recon_mat2 = model2.pred.T.cpu()\n",
    "    recon_mat2[mat == 1] = -np.inf\n",
    "    rec_list2 = recon_mat2.argsort(dim = 1)\n",
    "\n",
    "    recon_mat3 = model3.pred.cpu()\n",
    "    recon_mat3[mat == 1] = -np.inf\n",
    "    rec_list3 = recon_mat3.argsort(dim = 1)\n",
    "\n",
    "    recon_mat4 = model4.pred.cpu()\n",
    "    recon_mat4[mat == 1] = -np.inf\n",
    "    rec_list4 = recon_mat4.argsort(dim = 1)\n",
    "\n",
    "    recon_mat5 = RecVAE(mat.to(device), calculate_loss = False).cpu().detach()\n",
    "    recon_mat5[mat == 1] = -np.inf\n",
    "    rec_list5 = recon_mat5.argsort(dim = 1)\n",
    "\n",
    "    score_li = np.array([1/np.log2(rank + 2) for rank in range(0, candidate_cnt)])\n",
    "\n",
    "    for user, (rec1, rec2, rec3, rec4, rec5) in tqdm(enumerate(zip(rec_list1, rec_list2, rec_list3, rec_list4, rec_list5))):\n",
    "        \n",
    "        # ranking\n",
    "        rec1 = rec1[-candidate_cnt:].cpu().numpy().tolist()[::-1]\n",
    "        rec2 = rec2[-candidate_cnt:].cpu().numpy().tolist()[::-1]\n",
    "        rec3 = rec3[-candidate_cnt:].cpu().numpy().tolist()[::-1]\n",
    "        rec4 = rec4[-candidate_cnt:].cpu().numpy().tolist()[::-1]\n",
    "        rec5 = rec5[-candidate_cnt:].cpu().numpy().tolist()[::-1]\n",
    "\n",
    "        items = list(set(rec1 + rec2 + rec3 + rec4 + rec5))\n",
    "\n",
    "        movie_df = pd.DataFrame(index = items)\n",
    "        movie_df.loc[rec1, 'rec1_score'] = score_li * 0.6\n",
    "        movie_df.loc[rec2, 'rec2_score'] = score_li * 0.7\n",
    "        movie_df.loc[rec3, 'rec3_score'] = score_li * 0.8\n",
    "        movie_df.loc[rec4, 'rec4_score'] = score_li * 1.0\n",
    "        movie_df.loc[rec5, 'rec5_score'] = score_li * 1.0\n",
    "        movie_df = movie_df.fillna(min(score_li * 0.6))\n",
    "        movie_df['total_score'] = movie_df['rec1_score'] + movie_df['rec2_score'] + movie_df['rec3_score'] + movie_df['rec4_score'] + movie_df['rec5_score']\n",
    "        movie_df = movie_df.sort_values('total_score', ascending = False)\n",
    "        up = movie_df.index.tolist()[:10]\n",
    "\n",
    "        user2rec[user] = up\n",
    "\n",
    "    return user2rec\n",
    "\n",
    "\n",
    "def total_evaluate(model1, model2, model3, model4, RecVAE, X, user_train, user_valid, candidate_cnt):\n",
    "    df = []\n",
    "    RecVAE.eval()\n",
    "\n",
    "    mat = torch.from_numpy(X)\n",
    "\n",
    "    recon_mat1 = model1.pred.cpu()\n",
    "    recon_mat1[mat == 1] = -np.inf\n",
    "    rec_list1 = recon_mat1.argsort(dim = 1)\n",
    "\n",
    "    recon_mat2 = model2.pred.T.cpu()\n",
    "    recon_mat2[mat == 1] = -np.inf\n",
    "    rec_list2 = recon_mat2.argsort(dim = 1)\n",
    "\n",
    "    recon_mat3 = model3.pred.cpu()\n",
    "    recon_mat3[mat == 1] = -np.inf\n",
    "    rec_list3 = recon_mat3.argsort(dim = 1)\n",
    "\n",
    "    recon_mat4 = model4.pred.cpu()\n",
    "    recon_mat4[mat == 1] = -np.inf\n",
    "    rec_list4 = recon_mat4.argsort(dim = 1)\n",
    "\n",
    "    recon_mat5 = RecVAE(mat.to(device), calculate_loss = False).cpu().detach()\n",
    "    recon_mat5[mat == 1] = -np.inf\n",
    "    rec_list5 = recon_mat5.argsort(dim = 1)\n",
    "\n",
    "    for user, (rec1, rec2, rec3, rec4, rec5) in tqdm(enumerate(zip(rec_list1, rec_list2, rec_list3, rec_list4, rec_list5))):\n",
    "        uv = user_valid[user]\n",
    "\n",
    "        # ranking\n",
    "        rec1 = rec1[-candidate_cnt:].cpu().numpy().tolist()[::-1]\n",
    "        rec2 = rec2[-candidate_cnt:].cpu().numpy().tolist()[::-1]\n",
    "        rec3 = rec3[-candidate_cnt:].cpu().numpy().tolist()[::-1]\n",
    "        rec4 = rec4[-candidate_cnt:].cpu().numpy().tolist()[::-1]\n",
    "        rec5 = rec5[-candidate_cnt:].cpu().numpy().tolist()[::-1]\n",
    "\n",
    "        rec12345 = list(set(rec1 + rec2 + rec3 + rec4 + rec5))\n",
    "\n",
    "        df.append(\n",
    "            {\n",
    "               'user' : user,\n",
    "               'len' : len(rec12345),\n",
    "\n",
    "               'rec1' : get_hit(pred_list = rec1, true_list = uv),\n",
    "               'rec2' : get_hit(pred_list = rec2, true_list = uv),\n",
    "               'rec3' : get_hit(pred_list = rec3, true_list = uv),\n",
    "               'rec4' : get_hit(pred_list = rec4, true_list = uv),\n",
    "               'rec5' : get_hit(pred_list = rec5, true_list = uv),\n",
    "\n",
    "               'rec12345' : get_hit(pred_list = rec12345, true_list = uv),\n",
    "            }\n",
    "        )\n",
    "\n",
    "    return df"
   ]
  },
  {
   "cell_type": "markdown",
   "metadata": {
    "id": "gupkaJHMslCi"
   },
   "source": [
    "# 5. 학습"
   ]
  },
  {
   "cell_type": "code",
   "execution_count": 14,
   "metadata": {},
   "outputs": [],
   "source": [
    "make_matrix_data_set = MakeMatrixDataSet(config = config)\n",
    "user_train, user_valid = make_matrix_data_set.get_train_valid_data()\n",
    "X = make_matrix_data_set.make_sparse_matrix()"
   ]
  },
  {
   "cell_type": "code",
   "execution_count": 15,
   "metadata": {},
   "outputs": [],
   "source": [
    "model1 = EASE(X = X, reg = 750)\n",
    "model1.fit()"
   ]
  },
  {
   "cell_type": "code",
   "execution_count": 16,
   "metadata": {},
   "outputs": [],
   "source": [
    "model2 = EASE(X = X.T, reg = 4400)\n",
    "model2.fit()"
   ]
  },
  {
   "cell_type": "code",
   "execution_count": 17,
   "metadata": {},
   "outputs": [],
   "source": [
    "model3 = AdmmSlim(lambda_2 = 1, rho = 1000)\n",
    "model3.fit(X = X.toarray())"
   ]
  },
  {
   "cell_type": "code",
   "execution_count": 18,
   "metadata": {},
   "outputs": [],
   "source": [
    "model4 = HOSLIM()\n",
    "model4.fit(X = X.toarray())"
   ]
  },
  {
   "cell_type": "code",
   "execution_count": 19,
   "metadata": {},
   "outputs": [
    {
     "data": {
      "text/plain": [
       "<All keys matched successfully>"
      ]
     },
     "execution_count": 19,
     "metadata": {},
     "output_type": "execute_result"
    }
   ],
   "source": [
    "model5 = RecVAE(\n",
    "    input_dim = make_matrix_data_set.num_item,).to(device)\n",
    "\n",
    "model5.load_state_dict(torch.load(os.path.join(config.model_path, 'RecVAE_v3.pt')))"
   ]
  },
  {
   "cell_type": "code",
   "execution_count": 20,
   "metadata": {},
   "outputs": [
    {
     "name": "stderr",
     "output_type": "stream",
     "text": [
      "31360it [00:01, 23357.69it/s]\n"
     ]
    }
   ],
   "source": [
    "df = total_evaluate(\n",
    "    model1 = model1, \n",
    "    model2 = model2, \n",
    "    model3 = model3, \n",
    "    model4 = model4, \n",
    "    RecVAE = model5,\n",
    "    X = X.todense(), \n",
    "    user_train = user_train, \n",
    "    user_valid = user_valid, \n",
    "    candidate_cnt = 10)"
   ]
  },
  {
   "cell_type": "code",
   "execution_count": 21,
   "metadata": {},
   "outputs": [
    {
     "data": {
      "text/html": [
       "<div>\n",
       "<style scoped>\n",
       "    .dataframe tbody tr th:only-of-type {\n",
       "        vertical-align: middle;\n",
       "    }\n",
       "\n",
       "    .dataframe tbody tr th {\n",
       "        vertical-align: top;\n",
       "    }\n",
       "\n",
       "    .dataframe thead th {\n",
       "        text-align: right;\n",
       "    }\n",
       "</style>\n",
       "<table border=\"1\" class=\"dataframe\">\n",
       "  <thead>\n",
       "    <tr style=\"text-align: right;\">\n",
       "      <th></th>\n",
       "      <th>user</th>\n",
       "      <th>len</th>\n",
       "      <th>rec1</th>\n",
       "      <th>rec2</th>\n",
       "      <th>rec3</th>\n",
       "      <th>rec4</th>\n",
       "      <th>rec5</th>\n",
       "      <th>rec12345</th>\n",
       "      <th>total_val</th>\n",
       "      <th>total_name</th>\n",
       "    </tr>\n",
       "  </thead>\n",
       "  <tbody>\n",
       "    <tr>\n",
       "      <th>0</th>\n",
       "      <td>0</td>\n",
       "      <td>19</td>\n",
       "      <td>0.3</td>\n",
       "      <td>0.3</td>\n",
       "      <td>0.3</td>\n",
       "      <td>0.3</td>\n",
       "      <td>0.2</td>\n",
       "      <td>0.5</td>\n",
       "      <td>0.3</td>\n",
       "      <td>rec1</td>\n",
       "    </tr>\n",
       "    <tr>\n",
       "      <th>1</th>\n",
       "      <td>1</td>\n",
       "      <td>16</td>\n",
       "      <td>0.1</td>\n",
       "      <td>0.1</td>\n",
       "      <td>0.1</td>\n",
       "      <td>0.1</td>\n",
       "      <td>0.2</td>\n",
       "      <td>0.2</td>\n",
       "      <td>0.2</td>\n",
       "      <td>rec5</td>\n",
       "    </tr>\n",
       "    <tr>\n",
       "      <th>2</th>\n",
       "      <td>2</td>\n",
       "      <td>14</td>\n",
       "      <td>0.3</td>\n",
       "      <td>0.3</td>\n",
       "      <td>0.3</td>\n",
       "      <td>0.3</td>\n",
       "      <td>0.3</td>\n",
       "      <td>0.3</td>\n",
       "      <td>0.3</td>\n",
       "      <td>rec1</td>\n",
       "    </tr>\n",
       "    <tr>\n",
       "      <th>3</th>\n",
       "      <td>3</td>\n",
       "      <td>15</td>\n",
       "      <td>0.3</td>\n",
       "      <td>0.3</td>\n",
       "      <td>0.4</td>\n",
       "      <td>0.3</td>\n",
       "      <td>0.2</td>\n",
       "      <td>0.4</td>\n",
       "      <td>0.4</td>\n",
       "      <td>rec3</td>\n",
       "    </tr>\n",
       "    <tr>\n",
       "      <th>4</th>\n",
       "      <td>4</td>\n",
       "      <td>20</td>\n",
       "      <td>0.4</td>\n",
       "      <td>0.3</td>\n",
       "      <td>0.5</td>\n",
       "      <td>0.4</td>\n",
       "      <td>0.4</td>\n",
       "      <td>0.6</td>\n",
       "      <td>0.5</td>\n",
       "      <td>rec3</td>\n",
       "    </tr>\n",
       "    <tr>\n",
       "      <th>...</th>\n",
       "      <td>...</td>\n",
       "      <td>...</td>\n",
       "      <td>...</td>\n",
       "      <td>...</td>\n",
       "      <td>...</td>\n",
       "      <td>...</td>\n",
       "      <td>...</td>\n",
       "      <td>...</td>\n",
       "      <td>...</td>\n",
       "      <td>...</td>\n",
       "    </tr>\n",
       "    <tr>\n",
       "      <th>31355</th>\n",
       "      <td>31355</td>\n",
       "      <td>14</td>\n",
       "      <td>0.2</td>\n",
       "      <td>0.4</td>\n",
       "      <td>0.3</td>\n",
       "      <td>0.3</td>\n",
       "      <td>0.2</td>\n",
       "      <td>0.4</td>\n",
       "      <td>0.4</td>\n",
       "      <td>rec2</td>\n",
       "    </tr>\n",
       "    <tr>\n",
       "      <th>31356</th>\n",
       "      <td>31356</td>\n",
       "      <td>19</td>\n",
       "      <td>0.3</td>\n",
       "      <td>0.3</td>\n",
       "      <td>0.2</td>\n",
       "      <td>0.3</td>\n",
       "      <td>0.3</td>\n",
       "      <td>0.4</td>\n",
       "      <td>0.3</td>\n",
       "      <td>rec1</td>\n",
       "    </tr>\n",
       "    <tr>\n",
       "      <th>31357</th>\n",
       "      <td>31357</td>\n",
       "      <td>15</td>\n",
       "      <td>0.2</td>\n",
       "      <td>0.3</td>\n",
       "      <td>0.2</td>\n",
       "      <td>0.2</td>\n",
       "      <td>0.2</td>\n",
       "      <td>0.3</td>\n",
       "      <td>0.3</td>\n",
       "      <td>rec2</td>\n",
       "    </tr>\n",
       "    <tr>\n",
       "      <th>31358</th>\n",
       "      <td>31358</td>\n",
       "      <td>19</td>\n",
       "      <td>0.1</td>\n",
       "      <td>0.1</td>\n",
       "      <td>0.1</td>\n",
       "      <td>0.1</td>\n",
       "      <td>0.0</td>\n",
       "      <td>0.1</td>\n",
       "      <td>0.1</td>\n",
       "      <td>rec1</td>\n",
       "    </tr>\n",
       "    <tr>\n",
       "      <th>31359</th>\n",
       "      <td>31359</td>\n",
       "      <td>23</td>\n",
       "      <td>0.0</td>\n",
       "      <td>0.2</td>\n",
       "      <td>0.0</td>\n",
       "      <td>0.0</td>\n",
       "      <td>0.1</td>\n",
       "      <td>0.2</td>\n",
       "      <td>0.2</td>\n",
       "      <td>rec2</td>\n",
       "    </tr>\n",
       "  </tbody>\n",
       "</table>\n",
       "<p>31360 rows × 10 columns</p>\n",
       "</div>"
      ],
      "text/plain": [
       "        user  len  rec1  rec2  rec3  rec4  rec5  rec12345  total_val  \\\n",
       "0          0   19   0.3   0.3   0.3   0.3   0.2       0.5        0.3   \n",
       "1          1   16   0.1   0.1   0.1   0.1   0.2       0.2        0.2   \n",
       "2          2   14   0.3   0.3   0.3   0.3   0.3       0.3        0.3   \n",
       "3          3   15   0.3   0.3   0.4   0.3   0.2       0.4        0.4   \n",
       "4          4   20   0.4   0.3   0.5   0.4   0.4       0.6        0.5   \n",
       "...      ...  ...   ...   ...   ...   ...   ...       ...        ...   \n",
       "31355  31355   14   0.2   0.4   0.3   0.3   0.2       0.4        0.4   \n",
       "31356  31356   19   0.3   0.3   0.2   0.3   0.3       0.4        0.3   \n",
       "31357  31357   15   0.2   0.3   0.2   0.2   0.2       0.3        0.3   \n",
       "31358  31358   19   0.1   0.1   0.1   0.1   0.0       0.1        0.1   \n",
       "31359  31359   23   0.0   0.2   0.0   0.0   0.1       0.2        0.2   \n",
       "\n",
       "      total_name  \n",
       "0           rec1  \n",
       "1           rec5  \n",
       "2           rec1  \n",
       "3           rec3  \n",
       "4           rec3  \n",
       "...          ...  \n",
       "31355       rec2  \n",
       "31356       rec1  \n",
       "31357       rec2  \n",
       "31358       rec1  \n",
       "31359       rec2  \n",
       "\n",
       "[31360 rows x 10 columns]"
      ]
     },
     "execution_count": 21,
     "metadata": {},
     "output_type": "execute_result"
    }
   ],
   "source": [
    "# 유저들 마다 rec1 or rec2 or rec3 or ranking 등 맞는 방법에 따라사 추천을 해주는 것도 좋은 방법이 될 수 있음\n",
    "\n",
    "new_df = pd.DataFrame(df)\n",
    "\n",
    "def get_total_name(x):\n",
    "    val_list = [x['rec1'], x['rec2'], x['rec3'], x['rec4'], x['rec5']]\n",
    "    max_val = max(val_list)\n",
    "    val_idx = val_list.index(max_val)\n",
    "    if val_idx == 0 : return 'rec1'\n",
    "    elif val_idx == 1 : return 'rec2'\n",
    "    elif val_idx == 2 : return 'rec3'\n",
    "    elif val_idx == 3 : return 'rec4'\n",
    "    elif val_idx == 4 : return 'rec5'\n",
    "\n",
    "new_df['total_val'] = new_df.apply(lambda x: max(x['rec1'], x['rec2'], x['rec3'], x['rec4'], x['rec5']), axis = 1)\n",
    "new_df['total_name'] = new_df.apply(lambda x: get_total_name(x), axis = 1)\n",
    "new_df"
   ]
  },
  {
   "cell_type": "code",
   "execution_count": 22,
   "metadata": {},
   "outputs": [
    {
     "data": {
      "image/png": "[encoded data removed]",
      "text/plain": [
       "<Figure size 1440x360 with 1 Axes>"
      ]
     },
     "metadata": {
      "needs_background": "light"
     },
     "output_type": "display_data"
    }
   ],
   "source": [
    "import seaborn as sns\n",
    "import matplotlib.pyplot as plt\n",
    "\n",
    "plt.figure(figsize = (20, 5))\n",
    "sns.histplot(data = new_df[[\"rec1\", \"rec2\", \"rec3\", \"rec4\", \"rec5\", 'rec12345', 'total_val']])\n",
    "plt.show()"
   ]
  },
  {
   "cell_type": "code",
   "execution_count": 23,
   "metadata": {},
   "outputs": [
    {
     "data": {
      "text/plain": [
       "rec1    17836\n",
       "rec2     4347\n",
       "rec5     4094\n",
       "rec3     3845\n",
       "rec4     1238\n",
       "Name: total_name, dtype: int64"
      ]
     },
     "execution_count": 23,
     "metadata": {},
     "output_type": "execute_result"
    }
   ],
   "source": [
    "new_df['total_name'].value_counts()"
   ]
  },
  {
   "cell_type": "code",
   "execution_count": 24,
   "metadata": {},
   "outputs": [
    {
     "data": {
      "text/plain": [
       "user         15679.500000\n",
       "len             18.487372\n",
       "rec1             0.203839\n",
       "rec2             0.200207\n",
       "rec3             0.200236\n",
       "rec4             0.204426\n",
       "rec5             0.192140\n",
       "rec12345         0.282586\n",
       "total_val        0.254110\n",
       "dtype: float64"
      ]
     },
     "execution_count": 24,
     "metadata": {},
     "output_type": "execute_result"
    }
   ],
   "source": [
    "new_df.mean()"
   ]
  },
  {
   "cell_type": "code",
   "execution_count": 25,
   "metadata": {},
   "outputs": [
    {
     "name": "stderr",
     "output_type": "stream",
     "text": [
      "31360it [02:35, 201.37it/s]\n"
     ]
    },
    {
     "name": "stdout",
     "output_type": "stream",
     "text": [
      "candidate_cnt: 35| NDCG@10: 0.32099| HIT@10: 0.21087\n"
     ]
    }
   ],
   "source": [
    "candidate_cnt = 35\n",
    "\n",
    "ndcg, hit = evaluate(\n",
    "    model1 = model1, \n",
    "    model2 = model2, \n",
    "    model3 = model3, \n",
    "    model4 = model4, \n",
    "    RecVAE = model5, \n",
    "    X = X.todense(),\n",
    "    user_train = user_train, \n",
    "    user_valid = user_valid, \n",
    "    candidate_cnt = candidate_cnt)\n",
    "\n",
    "print(f'candidate_cnt: {candidate_cnt}| NDCG@10: {ndcg:.5f}| HIT@10: {hit:.5f}')"
   ]
  },
  {
   "cell_type": "code",
   "execution_count": 33,
   "metadata": {},
   "outputs": [
    {
     "name": "stderr",
     "output_type": "stream",
     "text": [
      "31360it [02:34, 203.33it/s]\n"
     ]
    },
    {
     "name": "stdout",
     "output_type": "stream",
     "text": [
      "candidate_cnt: 10| NDCG@10: 0.31945| HIT@10: 0.20952\n"
     ]
    },
    {
     "name": "stderr",
     "output_type": "stream",
     "text": [
      "31360it [02:34, 202.62it/s]\n"
     ]
    },
    {
     "name": "stdout",
     "output_type": "stream",
     "text": [
      "candidate_cnt: 15| NDCG@10: 0.31997| HIT@10: 0.21003\n"
     ]
    },
    {
     "name": "stderr",
     "output_type": "stream",
     "text": [
      "31360it [02:38, 198.20it/s]\n"
     ]
    },
    {
     "name": "stdout",
     "output_type": "stream",
     "text": [
      "candidate_cnt: 20| NDCG@10: 0.32015| HIT@10: 0.21019\n"
     ]
    },
    {
     "name": "stderr",
     "output_type": "stream",
     "text": [
      "31360it [02:35, 202.19it/s]\n"
     ]
    },
    {
     "name": "stdout",
     "output_type": "stream",
     "text": [
      "candidate_cnt: 25| NDCG@10: 0.32026| HIT@10: 0.21032\n"
     ]
    },
    {
     "name": "stderr",
     "output_type": "stream",
     "text": [
      "31360it [02:37, 199.35it/s]\n"
     ]
    },
    {
     "name": "stdout",
     "output_type": "stream",
     "text": [
      "candidate_cnt: 30| NDCG@10: 0.32039| HIT@10: 0.21046\n"
     ]
    },
    {
     "name": "stderr",
     "output_type": "stream",
     "text": [
      "31360it [02:36, 200.17it/s]\n"
     ]
    },
    {
     "name": "stdout",
     "output_type": "stream",
     "text": [
      "candidate_cnt: 35| NDCG@10: 0.32034| HIT@10: 0.21040\n"
     ]
    },
    {
     "name": "stderr",
     "output_type": "stream",
     "text": [
      "31360it [02:37, 198.80it/s]\n"
     ]
    },
    {
     "name": "stdout",
     "output_type": "stream",
     "text": [
      "candidate_cnt: 40| NDCG@10: 0.32030| HIT@10: 0.21037\n"
     ]
    },
    {
     "name": "stderr",
     "output_type": "stream",
     "text": [
      "31360it [02:39, 196.13it/s]\n"
     ]
    },
    {
     "name": "stdout",
     "output_type": "stream",
     "text": [
      "candidate_cnt: 45| NDCG@10: 0.32035| HIT@10: 0.21041\n"
     ]
    },
    {
     "name": "stderr",
     "output_type": "stream",
     "text": [
      "31360it [02:40, 195.62it/s]\n"
     ]
    },
    {
     "name": "stdout",
     "output_type": "stream",
     "text": [
      "candidate_cnt: 50| NDCG@10: 0.32036| HIT@10: 0.21044\n"
     ]
    },
    {
     "name": "stderr",
     "output_type": "stream",
     "text": [
      "31360it [02:42, 193.25it/s]\n"
     ]
    },
    {
     "name": "stdout",
     "output_type": "stream",
     "text": [
      "candidate_cnt: 55| NDCG@10: 0.32036| HIT@10: 0.21043\n"
     ]
    },
    {
     "name": "stderr",
     "output_type": "stream",
     "text": [
      "31360it [02:46, 188.75it/s]\n"
     ]
    },
    {
     "name": "stdout",
     "output_type": "stream",
     "text": [
      "candidate_cnt: 60| NDCG@10: 0.32035| HIT@10: 0.21042\n"
     ]
    },
    {
     "name": "stderr",
     "output_type": "stream",
     "text": [
      "31360it [02:45, 188.97it/s]\n"
     ]
    },
    {
     "name": "stdout",
     "output_type": "stream",
     "text": [
      "candidate_cnt: 65| NDCG@10: 0.32035| HIT@10: 0.21042\n"
     ]
    },
    {
     "name": "stderr",
     "output_type": "stream",
     "text": [
      "31360it [02:53, 180.94it/s]\n"
     ]
    },
    {
     "name": "stdout",
     "output_type": "stream",
     "text": [
      "candidate_cnt: 70| NDCG@10: 0.32036| HIT@10: 0.21042\n"
     ]
    },
    {
     "name": "stderr",
     "output_type": "stream",
     "text": [
      "31360it [02:53, 181.18it/s]\n"
     ]
    },
    {
     "name": "stdout",
     "output_type": "stream",
     "text": [
      "candidate_cnt: 75| NDCG@10: 0.32034| HIT@10: 0.21039\n"
     ]
    },
    {
     "name": "stderr",
     "output_type": "stream",
     "text": [
      "31360it [02:52, 181.30it/s]\n"
     ]
    },
    {
     "name": "stdout",
     "output_type": "stream",
     "text": [
      "candidate_cnt: 80| NDCG@10: 0.32036| HIT@10: 0.21042\n"
     ]
    },
    {
     "name": "stderr",
     "output_type": "stream",
     "text": [
      "31360it [02:56, 178.11it/s]\n"
     ]
    },
    {
     "name": "stdout",
     "output_type": "stream",
     "text": [
      "candidate_cnt: 85| NDCG@10: 0.32037| HIT@10: 0.21044\n"
     ]
    },
    {
     "name": "stderr",
     "output_type": "stream",
     "text": [
      "31360it [02:58, 175.86it/s]\n"
     ]
    },
    {
     "name": "stdout",
     "output_type": "stream",
     "text": [
      "candidate_cnt: 90| NDCG@10: 0.32036| HIT@10: 0.21042\n"
     ]
    },
    {
     "name": "stderr",
     "output_type": "stream",
     "text": [
      "31360it [03:02, 172.23it/s]\n"
     ]
    },
    {
     "name": "stdout",
     "output_type": "stream",
     "text": [
      "candidate_cnt: 95| NDCG@10: 0.32036| HIT@10: 0.21042\n"
     ]
    },
    {
     "name": "stderr",
     "output_type": "stream",
     "text": [
      "31360it [02:59, 174.35it/s]\n"
     ]
    },
    {
     "name": "stdout",
     "output_type": "stream",
     "text": [
      "candidate_cnt: 100| NDCG@10: 0.32037| HIT@10: 0.21043\n"
     ]
    }
   ],
   "source": [
    "for candidate_cnt in [5 * i for i in range(2, 21)]:\n",
    "    \n",
    "    ndcg, hit = evaluate(\n",
    "        model1 = model1,\n",
    "        model2 = model2,\n",
    "        model3 = model3,\n",
    "        model4 = model4,\n",
    "        RecVAE = model5,\n",
    "        X = X.todense(),\n",
    "        user_train = user_train, \n",
    "        user_valid = user_valid, \n",
    "        candidate_cnt = candidate_cnt)\n",
    "\n",
    "    print(f'candidate_cnt: {candidate_cnt}| NDCG@10: {ndcg:.5f}| HIT@10: {hit:.5f}')"
   ]
  },
  {
   "cell_type": "code",
   "execution_count": 25,
   "metadata": {},
   "outputs": [
    {
     "name": "stderr",
     "output_type": "stream",
     "text": [
      "31360it [02:33, 204.31it/s]\n"
     ]
    },
    {
     "name": "stdout",
     "output_type": "stream",
     "text": [
      "candidate_cnt: 10| NDCG@10: 0.31989| HIT@10: 0.20949\n"
     ]
    },
    {
     "name": "stderr",
     "output_type": "stream",
     "text": [
      "31360it [02:33, 203.98it/s]\n"
     ]
    },
    {
     "name": "stdout",
     "output_type": "stream",
     "text": [
      "candidate_cnt: 15| NDCG@10: 0.32088| HIT@10: 0.21066\n"
     ]
    },
    {
     "name": "stderr",
     "output_type": "stream",
     "text": [
      "31360it [02:34, 203.10it/s]\n"
     ]
    },
    {
     "name": "stdout",
     "output_type": "stream",
     "text": [
      "candidate_cnt: 20| NDCG@10: 0.32105| HIT@10: 0.21084\n"
     ]
    },
    {
     "name": "stderr",
     "output_type": "stream",
     "text": [
      "31360it [02:35, 202.13it/s]\n"
     ]
    },
    {
     "name": "stdout",
     "output_type": "stream",
     "text": [
      "candidate_cnt: 25| NDCG@10: 0.32116| HIT@10: 0.21093\n"
     ]
    },
    {
     "name": "stderr",
     "output_type": "stream",
     "text": [
      "31360it [02:36, 200.14it/s]\n"
     ]
    },
    {
     "name": "stdout",
     "output_type": "stream",
     "text": [
      "candidate_cnt: 30| NDCG@10: 0.32117| HIT@10: 0.21099\n"
     ]
    },
    {
     "name": "stderr",
     "output_type": "stream",
     "text": [
      "31360it [02:36, 199.89it/s]\n"
     ]
    },
    {
     "name": "stdout",
     "output_type": "stream",
     "text": [
      "candidate_cnt: 35| NDCG@10: 0.32121| HIT@10: 0.21105\n"
     ]
    },
    {
     "name": "stderr",
     "output_type": "stream",
     "text": [
      "31360it [02:37, 198.95it/s]\n"
     ]
    },
    {
     "name": "stdout",
     "output_type": "stream",
     "text": [
      "candidate_cnt: 40| NDCG@10: 0.32112| HIT@10: 0.21095\n"
     ]
    }
   ],
   "source": [
    "for candidate_cnt in [5 * i for i in range(2, 21)]:\n",
    "    \n",
    "    ndcg, hit = evaluate(\n",
    "        model1 = model1,\n",
    "        model2 = model2,\n",
    "        model3 = model3,\n",
    "        model4 = model4,\n",
    "        RecVAE = model5,\n",
    "        X = X.todense(),\n",
    "        user_train = user_train, \n",
    "        user_valid = user_valid, \n",
    "        candidate_cnt = candidate_cnt)\n",
    "\n",
    "    print(f'candidate_cnt: {candidate_cnt}| NDCG@10: {ndcg:.5f}| HIT@10: {hit:.5f}')"
   ]
  },
  {
   "cell_type": "code",
   "execution_count": 26,
   "metadata": {},
   "outputs": [],
   "source": [
    "def get_weighted_ensemble_df(model1, model2, model3, model4, RecVAE, X, candidate_cnt):\n",
    "    weighted_ensemble_df = {}\n",
    "    \n",
    "    RecVAE.eval()\n",
    "\n",
    "    mat = torch.from_numpy(X)\n",
    "\n",
    "    recon_mat1 = model1.pred.cpu()\n",
    "    recon_mat1[mat == 1] = -np.inf\n",
    "    rec_list1 = recon_mat1.argsort(dim = 1)\n",
    "\n",
    "    recon_mat2 = model2.pred.T.cpu()\n",
    "    recon_mat2[mat == 1] = -np.inf\n",
    "    rec_list2 = recon_mat2.argsort(dim = 1)\n",
    "\n",
    "    recon_mat3 = model3.pred.cpu()\n",
    "    recon_mat3[mat == 1] = -np.inf\n",
    "    rec_list3 = recon_mat3.argsort(dim = 1)\n",
    "\n",
    "    recon_mat4 = model4.pred.cpu()\n",
    "    recon_mat4[mat == 1] = -np.inf\n",
    "    rec_list4 = recon_mat4.argsort(dim = 1)\n",
    "\n",
    "    recon_mat5 = RecVAE(mat.to(device), calculate_loss = False).cpu().detach()\n",
    "    recon_mat5[mat == 1] = -np.inf\n",
    "    rec_list5 = recon_mat5.argsort(dim = 1)\n",
    "\n",
    "    score_li = np.array([1/np.log2(rank + 2) for rank in range(0, candidate_cnt)])\n",
    "\n",
    "    for user, (rec1, rec2, rec3, rec4, rec5) in tqdm(enumerate(zip(rec_list1, rec_list2, rec_list3, rec_list4, rec_list5))):\n",
    "\n",
    "        # ranking\n",
    "        rec1 = rec1[-candidate_cnt:].cpu().numpy().tolist()[::-1]\n",
    "        rec2 = rec2[-candidate_cnt:].cpu().numpy().tolist()[::-1]\n",
    "        rec3 = rec3[-candidate_cnt:].cpu().numpy().tolist()[::-1]\n",
    "        rec4 = rec4[-candidate_cnt:].cpu().numpy().tolist()[::-1]\n",
    "        rec5 = rec5[-candidate_cnt:].cpu().numpy().tolist()[::-1]\n",
    "\n",
    "        items = list(set(rec1 + rec2 + rec3 + rec4 + rec5))\n",
    "\n",
    "        movie_df = pd.DataFrame(index = items)\n",
    "        movie_df.loc[rec1, 'rec1_score'] = score_li\n",
    "        movie_df.loc[rec2, 'rec2_score'] = score_li\n",
    "        movie_df.loc[rec3, 'rec3_score'] = score_li\n",
    "        movie_df.loc[rec4, 'rec4_score'] = score_li\n",
    "        movie_df.loc[rec5, 'rec5_score'] = score_li\n",
    "\n",
    "        weighted_ensemble_df[user] = movie_df\n",
    "\n",
    "    return weighted_ensemble_df"
   ]
  },
  {
   "cell_type": "code",
   "execution_count": 27,
   "metadata": {},
   "outputs": [
    {
     "name": "stderr",
     "output_type": "stream",
     "text": [
      "31360it [01:48, 289.47it/s]\n"
     ]
    }
   ],
   "source": [
    "weighted_ensemble_df = get_weighted_ensemble_df(\n",
    "    model1 = model1, \n",
    "    model2 = model2, \n",
    "    model3 = model3, \n",
    "    model4 = model4, \n",
    "    RecVAE = model5, \n",
    "    X = X.todense(),\n",
    "    candidate_cnt = 10,\n",
    "    )"
   ]
  },
  {
   "cell_type": "code",
   "execution_count": 31,
   "metadata": {},
   "outputs": [
    {
     "name": "stderr",
     "output_type": "stream",
     "text": [
      "  5%|▌         | 1/20 [02:09<40:56, 129.27s/it]"
     ]
    },
    {
     "name": "stdout",
     "output_type": "stream",
     "text": [
      "cols : ['rec4_score', 'rec1_score', 'rec3_score', 'rec2_score', 'rec5_score']| weighte : [1.0, 0.8, 0.9, 1.0, 1.0]| NDCG@10: 0.31945| HIT@10: 0.20952\n"
     ]
    },
    {
     "name": "stderr",
     "output_type": "stream",
     "text": [
      " 10%|█         | 2/20 [04:16<38:24, 128.00s/it]"
     ]
    },
    {
     "name": "stdout",
     "output_type": "stream",
     "text": [
      "cols : ['rec4_score', 'rec1_score', 'rec3_score', 'rec2_score', 'rec5_score']| weighte : [1.0, 0.8, 0.9, 1.0, 0.95]| NDCG@10: 0.31928| HIT@10: 0.20942\n"
     ]
    },
    {
     "name": "stderr",
     "output_type": "stream",
     "text": [
      " 15%|█▌        | 3/20 [06:24<36:15, 127.99s/it]"
     ]
    },
    {
     "name": "stdout",
     "output_type": "stream",
     "text": [
      "cols : ['rec4_score', 'rec1_score', 'rec3_score', 'rec2_score', 'rec5_score']| weighte : [1.0, 0.8, 0.9, 1.0, 0.9]| NDCG@10: 0.31908| HIT@10: 0.20929\n"
     ]
    },
    {
     "name": "stderr",
     "output_type": "stream",
     "text": [
      " 20%|██        | 4/20 [08:31<34:01, 127.59s/it]"
     ]
    },
    {
     "name": "stdout",
     "output_type": "stream",
     "text": [
      "cols : ['rec4_score', 'rec1_score', 'rec3_score', 'rec2_score', 'rec5_score']| weighte : [1.0, 0.8, 0.9, 1.0, 0.85]| NDCG@10: 0.31873| HIT@10: 0.20901\n"
     ]
    },
    {
     "name": "stderr",
     "output_type": "stream",
     "text": [
      " 25%|██▌       | 5/20 [10:38<31:52, 127.50s/it]"
     ]
    },
    {
     "name": "stdout",
     "output_type": "stream",
     "text": [
      "cols : ['rec4_score', 'rec1_score', 'rec3_score', 'rec2_score', 'rec5_score']| weighte : [1.0, 0.8, 0.9, 1.0, 0.8]| NDCG@10: 0.31839| HIT@10: 0.20870\n"
     ]
    },
    {
     "name": "stderr",
     "output_type": "stream",
     "text": [
      " 25%|██▌       | 5/20 [10:45<32:15, 129.05s/it]\n"
     ]
    },
    {
     "ename": "KeyboardInterrupt",
     "evalue": "",
     "output_type": "error",
     "traceback": [
      "\u001b[0;31m---------------------------------------------------------------------------\u001b[0m",
      "\u001b[0;31mKeyboardInterrupt\u001b[0m                         Traceback (most recent call last)",
      "\u001b[1;32m/opt/ml/level2-movie-recommendation-level2-recsys-05/jupyter/Ensembel.ipynb Cell 35'\u001b[0m in \u001b[0;36m<cell line: 6>\u001b[0;34m()\u001b[0m\n\u001b[1;32m     <a href='vscode-notebook-cell://ssh-remote%2B115.85.181.67/opt/ml/level2-movie-recommendation-level2-recsys-05/jupyter/Ensembel.ipynb#ch0000034vscode-remote?line=26'>27</a>\u001b[0m     df \u001b[39m=\u001b[39m df\u001b[39m.\u001b[39msort_values(\u001b[39m'\u001b[39m\u001b[39mtotal_score\u001b[39m\u001b[39m'\u001b[39m, ascending \u001b[39m=\u001b[39m \u001b[39mFalse\u001b[39;00m)\n\u001b[1;32m     <a href='vscode-notebook-cell://ssh-remote%2B115.85.181.67/opt/ml/level2-movie-recommendation-level2-recsys-05/jupyter/Ensembel.ipynb#ch0000034vscode-remote?line=27'>28</a>\u001b[0m     up \u001b[39m=\u001b[39m df\u001b[39m.\u001b[39mindex\u001b[39m.\u001b[39mtolist()[:\u001b[39m10\u001b[39m]\n\u001b[0;32m---> <a href='vscode-notebook-cell://ssh-remote%2B115.85.181.67/opt/ml/level2-movie-recommendation-level2-recsys-05/jupyter/Ensembel.ipynb#ch0000034vscode-remote?line=29'>30</a>\u001b[0m     NDCG \u001b[39m+\u001b[39m\u001b[39m=\u001b[39m get_ndcg(pred_list \u001b[39m=\u001b[39;49m up, true_list \u001b[39m=\u001b[39;49m uv)\n\u001b[1;32m     <a href='vscode-notebook-cell://ssh-remote%2B115.85.181.67/opt/ml/level2-movie-recommendation-level2-recsys-05/jupyter/Ensembel.ipynb#ch0000034vscode-remote?line=30'>31</a>\u001b[0m     HIT \u001b[39m+\u001b[39m\u001b[39m=\u001b[39m get_hit(pred_list \u001b[39m=\u001b[39m up, true_list \u001b[39m=\u001b[39m uv)\n\u001b[1;32m     <a href='vscode-notebook-cell://ssh-remote%2B115.85.181.67/opt/ml/level2-movie-recommendation-level2-recsys-05/jupyter/Ensembel.ipynb#ch0000034vscode-remote?line=32'>33</a>\u001b[0m NDCG \u001b[39m/\u001b[39m\u001b[39m=\u001b[39m \u001b[39mlen\u001b[39m(users)\n",
      "\u001b[1;32m/opt/ml/level2-movie-recommendation-level2-recsys-05/jupyter/Ensembel.ipynb Cell 16'\u001b[0m in \u001b[0;36mget_ndcg\u001b[0;34m(pred_list, true_list)\u001b[0m\n\u001b[1;32m      <a href='vscode-notebook-cell://ssh-remote%2B115.85.181.67/opt/ml/level2-movie-recommendation-level2-recsys-05/jupyter/Ensembel.ipynb#ch0000015vscode-remote?line=0'>1</a>\u001b[0m \u001b[39mdef\u001b[39;00m \u001b[39mget_ndcg\u001b[39m(pred_list, true_list):\n\u001b[0;32m----> <a href='vscode-notebook-cell://ssh-remote%2B115.85.181.67/opt/ml/level2-movie-recommendation-level2-recsys-05/jupyter/Ensembel.ipynb#ch0000015vscode-remote?line=1'>2</a>\u001b[0m     idcg \u001b[39m=\u001b[39m \u001b[39msum\u001b[39;49m((\u001b[39m1\u001b[39;49m \u001b[39m/\u001b[39;49m np\u001b[39m.\u001b[39;49mlog2(rank \u001b[39m+\u001b[39;49m \u001b[39m2\u001b[39;49m) \u001b[39mfor\u001b[39;49;00m rank \u001b[39min\u001b[39;49;00m \u001b[39mrange\u001b[39;49m(\u001b[39m1\u001b[39;49m, \u001b[39mlen\u001b[39;49m(pred_list))))\n\u001b[1;32m      <a href='vscode-notebook-cell://ssh-remote%2B115.85.181.67/opt/ml/level2-movie-recommendation-level2-recsys-05/jupyter/Ensembel.ipynb#ch0000015vscode-remote?line=2'>3</a>\u001b[0m     dcg \u001b[39m=\u001b[39m \u001b[39m0\u001b[39m\n\u001b[1;32m      <a href='vscode-notebook-cell://ssh-remote%2B115.85.181.67/opt/ml/level2-movie-recommendation-level2-recsys-05/jupyter/Ensembel.ipynb#ch0000015vscode-remote?line=3'>4</a>\u001b[0m     \u001b[39mfor\u001b[39;00m rank, pred \u001b[39min\u001b[39;00m \u001b[39menumerate\u001b[39m(pred_list):\n",
      "\u001b[0;31mKeyboardInterrupt\u001b[0m: "
     ]
    }
   ],
   "source": [
    "target_cols = ['rec5_score']\n",
    "weightes_list = [np.round(0.05 * i, 2) for i in range(20, 0, -1)]\n",
    "cols = ['rec4_score', 'rec1_score', 'rec3_score', 'rec2_score']\n",
    "weightes = [1.0, 0.8, 0.9, 1.0]\n",
    "users = weighted_ensemble_df.keys()\n",
    "for target_col in target_cols:\n",
    "    cols += [target_col]\n",
    "    best_hit = 0\n",
    "    best_weightes = deepcopy(weightes)\n",
    "\n",
    "    for target_weighte in tqdm(weightes_list):\n",
    "        _weightes = deepcopy(weightes)\n",
    "        _weightes += [target_weighte]\n",
    "\n",
    "        NDCG = 0\n",
    "        HIT = 0\n",
    "\n",
    "        for user in users:\n",
    "            uv = user_valid[user]\n",
    "            df = weighted_ensemble_df[user].copy()\n",
    "\n",
    "            for c, w in zip(cols, _weightes):\n",
    "                df[c] = df[c] * w\n",
    "            \n",
    "            df = df.fillna(df[cols].min().min())\n",
    "            df['total_score'] = df[cols].sum(axis = 1)\n",
    "            df = df.sort_values('total_score', ascending = False)\n",
    "            up = df.index.tolist()[:10]\n",
    "\n",
    "            NDCG += get_ndcg(pred_list = up, true_list = uv)\n",
    "            HIT += get_hit(pred_list = up, true_list = uv)\n",
    "\n",
    "        NDCG /= len(users)\n",
    "        HIT /= len(users)\n",
    "        \n",
    "        if best_hit < HIT:\n",
    "            best_weightes = deepcopy(_weightes)\n",
    "            best_hit = HIT\n",
    "            best_ndcg = NDCG\n",
    "\n",
    "        print(f'cols : {cols}| weighte : {_weightes}| NDCG@10: {NDCG:.5f}| HIT@10: {HIT:.5f}')\n",
    "\n",
    "    weightes = deepcopy(best_weightes)\n",
    "    print(f'BEST cols : {cols}| weighte : {weightes}| NDCG@10: {best_ndcg:.5f}| HIT@10: {best_hit:.5f} \\n')\n",
    "\n",
    "print(f'cols : {cols}| weighte : {weightes}')"
   ]
  },
  {
   "cell_type": "markdown",
   "metadata": {},
   "source": [
    "# 6. 예측"
   ]
  },
  {
   "cell_type": "code",
   "execution_count": 14,
   "metadata": {},
   "outputs": [],
   "source": [
    "make_matrix_data_set = MakeMatrixDataSet(config = config)\n",
    "X_test = make_matrix_data_set.make_sparse_matrix(test = True)"
   ]
  },
  {
   "cell_type": "code",
   "execution_count": 15,
   "metadata": {},
   "outputs": [],
   "source": [
    "model1 = EASE(X = X_test, reg = 750)\n",
    "model1.fit()"
   ]
  },
  {
   "cell_type": "code",
   "execution_count": 16,
   "metadata": {},
   "outputs": [],
   "source": [
    "model2 = EASE(X = X_test.T, reg = 4400)\n",
    "model2.fit()"
   ]
  },
  {
   "cell_type": "code",
   "execution_count": 17,
   "metadata": {},
   "outputs": [],
   "source": [
    "model3 = AdmmSlim(lambda_2 = 1, rho = 1000)\n",
    "model3.fit(X = X_test.toarray())"
   ]
  },
  {
   "cell_type": "code",
   "execution_count": 18,
   "metadata": {},
   "outputs": [],
   "source": [
    "model4 = HOSLIM(threshold = 3500, lambdaBB = 500, lambdaCC = 10000, rho = 100000)\n",
    "model4.fit(X = X_test.toarray())"
   ]
  },
  {
   "cell_type": "code",
   "execution_count": 19,
   "metadata": {},
   "outputs": [
    {
     "data": {
      "text/plain": [
       "<All keys matched successfully>"
      ]
     },
     "execution_count": 19,
     "metadata": {},
     "output_type": "execute_result"
    }
   ],
   "source": [
    "model5 = RecVAE(\n",
    "    input_dim = make_matrix_data_set.num_item,).to(device)\n",
    "\n",
    "model5.load_state_dict(torch.load(os.path.join(config.model_path, 'RecVAE_v3.pt')))"
   ]
  },
  {
   "cell_type": "code",
   "execution_count": 22,
   "metadata": {},
   "outputs": [
    {
     "name": "stderr",
     "output_type": "stream",
     "text": [
      "31360it [02:36, 200.20it/s]\n"
     ]
    }
   ],
   "source": [
    "user2rec_list = predict(\n",
    "    model1 = model1, \n",
    "    model2 = model2, \n",
    "    model3 = model3, \n",
    "    model4 = model4, \n",
    "    RecVAE = model5, \n",
    "    X = X_test.todense(),\n",
    "    candidate_cnt = 35,)\n",
    "\n",
    "submision = []\n",
    "users = [i for i in range(0, make_matrix_data_set.num_user)]\n",
    "for user in users:\n",
    "    rec_item_list = user2rec_list[user]\n",
    "    for item in rec_item_list:\n",
    "        submision.append(\n",
    "            {   \n",
    "                'user' : make_matrix_data_set.user_decoder[user],\n",
    "                'item' : make_matrix_data_set.item_decoder[item],\n",
    "            }\n",
    "        )\n",
    "\n",
    "submision = pd.DataFrame(submision)"
   ]
  },
  {
   "cell_type": "code",
   "execution_count": 23,
   "metadata": {},
   "outputs": [],
   "source": [
    "submision.to_csv(os.path.join(config.submission_path, config.submission_name), index=False)"
   ]
  },
  {
   "cell_type": "code",
   "execution_count": 24,
   "metadata": {},
   "outputs": [
    {
     "data": {
      "text/html": [
       "<div>\n",
       "<style scoped>\n",
       "    .dataframe tbody tr th:only-of-type {\n",
       "        vertical-align: middle;\n",
       "    }\n",
       "\n",
       "    .dataframe tbody tr th {\n",
       "        vertical-align: top;\n",
       "    }\n",
       "\n",
       "    .dataframe thead th {\n",
       "        text-align: right;\n",
       "    }\n",
       "</style>\n",
       "<table border=\"1\" class=\"dataframe\">\n",
       "  <thead>\n",
       "    <tr style=\"text-align: right;\">\n",
       "      <th></th>\n",
       "      <th>user</th>\n",
       "      <th>item</th>\n",
       "    </tr>\n",
       "  </thead>\n",
       "  <tbody>\n",
       "    <tr>\n",
       "      <th>0</th>\n",
       "      <td>11</td>\n",
       "      <td>4370</td>\n",
       "    </tr>\n",
       "    <tr>\n",
       "      <th>1</th>\n",
       "      <td>11</td>\n",
       "      <td>40815</td>\n",
       "    </tr>\n",
       "    <tr>\n",
       "      <th>2</th>\n",
       "      <td>11</td>\n",
       "      <td>4886</td>\n",
       "    </tr>\n",
       "    <tr>\n",
       "      <th>3</th>\n",
       "      <td>11</td>\n",
       "      <td>8961</td>\n",
       "    </tr>\n",
       "    <tr>\n",
       "      <th>4</th>\n",
       "      <td>11</td>\n",
       "      <td>7373</td>\n",
       "    </tr>\n",
       "    <tr>\n",
       "      <th>...</th>\n",
       "      <td>...</td>\n",
       "      <td>...</td>\n",
       "    </tr>\n",
       "    <tr>\n",
       "      <th>313595</th>\n",
       "      <td>138493</td>\n",
       "      <td>27660</td>\n",
       "    </tr>\n",
       "    <tr>\n",
       "      <th>313596</th>\n",
       "      <td>138493</td>\n",
       "      <td>110</td>\n",
       "    </tr>\n",
       "    <tr>\n",
       "      <th>313597</th>\n",
       "      <td>138493</td>\n",
       "      <td>53125</td>\n",
       "    </tr>\n",
       "    <tr>\n",
       "      <th>313598</th>\n",
       "      <td>138493</td>\n",
       "      <td>8970</td>\n",
       "    </tr>\n",
       "    <tr>\n",
       "      <th>313599</th>\n",
       "      <td>138493</td>\n",
       "      <td>1022</td>\n",
       "    </tr>\n",
       "  </tbody>\n",
       "</table>\n",
       "<p>313600 rows × 2 columns</p>\n",
       "</div>"
      ],
      "text/plain": [
       "          user   item\n",
       "0           11   4370\n",
       "1           11  40815\n",
       "2           11   4886\n",
       "3           11   8961\n",
       "4           11   7373\n",
       "...        ...    ...\n",
       "313595  138493  27660\n",
       "313596  138493    110\n",
       "313597  138493  53125\n",
       "313598  138493   8970\n",
       "313599  138493   1022\n",
       "\n",
       "[313600 rows x 2 columns]"
      ]
     },
     "execution_count": 24,
     "metadata": {},
     "output_type": "execute_result"
    }
   ],
   "source": [
    "submision"
   ]
  },
  {
   "cell_type": "markdown",
   "metadata": {},
   "source": [
    "# 과거"
   ]
  },
  {
   "cell_type": "code",
   "execution_count": null,
   "metadata": {
    "id": "nws4JO2_rgQP"
   },
   "outputs": [],
   "source": [
    "# def evaluate(model1, model2, RecVAE, AutoRec, MultiDAE, MultiVAE, X, user_train, user_valid, candidate_cnt):\n",
    "#     RecVAE.eval()\n",
    "#     AutoRec.eval()\n",
    "#     MultiDAE.eval()\n",
    "#     MultiVAE.eval()\n",
    "\n",
    "#     mat = torch.from_numpy(X)\n",
    "\n",
    "#     NDCG = 0.0 # NDCG@10\n",
    "#     HIT = 0.0 # HIT@10\n",
    "\n",
    "#     recon_mat1 = model1.pred.cpu()\n",
    "#     recon_mat1[mat == 1] = -np.inf\n",
    "#     rec_list1 = recon_mat1.argsort(dim = 1)\n",
    "\n",
    "#     recon_mat2 = model2.pred.T.cpu()\n",
    "#     recon_mat2[mat == 1] = -np.inf\n",
    "#     rec_list2 = recon_mat2.argsort(dim = 1)\n",
    "\n",
    "#     recon_mat3 = RecVAE(mat.to(device), calculate_loss = False).cpu().detach()\n",
    "#     recon_mat3[mat == 1] = -np.inf\n",
    "#     rec_list3 = recon_mat3.argsort(dim = 1)\n",
    "\n",
    "#     recon_mat4 = AutoRec(mat.to(device)).cpu().detach()\n",
    "#     recon_mat4[mat == 1] = -np.inf\n",
    "#     rec_list4 = recon_mat4.argsort(dim = 1)\n",
    "\n",
    "#     recon_mat5 = MultiDAE(mat.to(device)).cpu().detach()\n",
    "#     recon_mat5[mat == 1] = -np.inf\n",
    "#     rec_list5 = recon_mat5.argsort(dim = 1)\n",
    "\n",
    "#     recon_mat6, mu, logvar = MultiVAE(mat.to(device))\n",
    "#     recon_mat6 = recon_mat6.cpu().detach()\n",
    "#     recon_mat6[mat == 1] = -np.inf\n",
    "#     rec_list6 = recon_mat6.argsort(dim = 1)\n",
    "\n",
    "#     score_li = np.array([1/np.log2(rank + 2) for rank in range(0, candidate_cnt)])\n",
    "\n",
    "#     for user, (rec1, rec2, rec3, rec4, rec5, rec6) in tqdm(enumerate(zip(rec_list1, rec_list2, rec_list3, rec_list4, rec_list5, rec_list6))):\n",
    "#         uv = user_valid[user]\n",
    "\n",
    "#         # ranking\n",
    "#         rec1 = rec1[-candidate_cnt:].cpu().numpy().tolist()[::-1]\n",
    "#         rec2 = rec2[-candidate_cnt:].cpu().numpy().tolist()[::-1]\n",
    "#         rec3 = rec3[-candidate_cnt:].cpu().numpy().tolist()[::-1]\n",
    "#         rec4 = rec4[-candidate_cnt:].cpu().numpy().tolist()[::-1]\n",
    "#         rec5 = rec5[-candidate_cnt:].cpu().numpy().tolist()[::-1]\n",
    "#         rec6 = rec6[-candidate_cnt:].cpu().numpy().tolist()[::-1]\n",
    "\n",
    "#         items = list(set(rec1 + rec2 + rec3 + rec4 + rec5 + rec6))\n",
    "\n",
    "#         movie_df = pd.DataFrame(index = items)\n",
    "#         movie_df.loc[rec1, 'rec1_score'] = score_li * 1.0\n",
    "#         movie_df.loc[rec2, 'rec2_score'] = score_li * 0.4\n",
    "#         movie_df.loc[rec3, 'rec3_score'] = score_li * 0.6\n",
    "#         movie_df.loc[rec4, 'rec4_score'] = score_li * 0.1\n",
    "#         movie_df.loc[rec5, 'rec5_score'] = score_li * 0.3\n",
    "#         movie_df.loc[rec6, 'rec6_score'] = score_li * 0.2\n",
    "#         movie_df = movie_df.fillna(min(score_li) * 0.1)\n",
    "#         movie_df['total_score'] = movie_df['rec1_score'] + movie_df['rec2_score'] + movie_df['rec3_score'] + movie_df['rec4_score'] + movie_df['rec5_score'] + movie_df['rec6_score']\n",
    "#         movie_df = movie_df.sort_values('total_score', ascending = False)\n",
    "#         up = movie_df.index.tolist()[:10]\n",
    "\n",
    "#         NDCG += get_ndcg(pred_list = up, true_list = uv)\n",
    "#         HIT += get_hit(pred_list = up, true_list = uv)\n",
    "\n",
    "#     NDCG /= len(user_train)\n",
    "#     HIT /= len(user_train)\n",
    "\n",
    "#     return NDCG, HIT\n",
    "\n",
    "# def predict(model1, model2, RecVAE, AutoRec, MultiDAE, MultiVAE, X, candidate_cnt):\n",
    "#     user2rec = {}\n",
    "\n",
    "#     RecVAE.eval()\n",
    "#     AutoRec.eval()\n",
    "#     MultiDAE.eval()\n",
    "#     MultiVAE.eval()\n",
    "\n",
    "#     mat = torch.from_numpy(X)\n",
    "\n",
    "#     recon_mat1 = model1.pred.cpu()\n",
    "#     recon_mat1[mat == 1] = -np.inf\n",
    "#     rec_list1 = recon_mat1.argsort(dim = 1)\n",
    "\n",
    "#     recon_mat2 = model2.pred.T.cpu()\n",
    "#     recon_mat2[mat == 1] = -np.inf\n",
    "#     rec_list2 = recon_mat2.argsort(dim = 1)\n",
    "\n",
    "#     recon_mat3 = RecVAE(mat.to(device), calculate_loss = False).cpu().detach()\n",
    "#     recon_mat3[mat == 1] = -np.inf\n",
    "#     rec_list3 = recon_mat3.argsort(dim = 1)\n",
    "\n",
    "#     recon_mat4 = AutoRec(mat.to(device)).cpu().detach()\n",
    "#     recon_mat4[mat == 1] = -np.inf\n",
    "#     rec_list4 = recon_mat4.argsort(dim = 1)\n",
    "\n",
    "#     recon_mat5 = MultiDAE(mat.to(device)).cpu().detach()\n",
    "#     recon_mat5[mat == 1] = -np.inf\n",
    "#     rec_list5 = recon_mat5.argsort(dim = 1)\n",
    "\n",
    "#     recon_mat6, mu, logvar = MultiVAE(mat.to(device))\n",
    "#     recon_mat6 = recon_mat6.cpu().detach()\n",
    "#     recon_mat6[mat == 1] = -np.inf\n",
    "#     rec_list6 = recon_mat6.argsort(dim = 1)\n",
    "\n",
    "#     score_li = np.array([1/np.log2(rank + 2) for rank in range(0, candidate_cnt)])\n",
    "\n",
    "#     for user, (rec1, rec2, rec3, rec4, rec5, rec6) in tqdm(enumerate(zip(rec_list1, rec_list2, rec_list3, rec_list4, rec_list5, rec_list6))):\n",
    "        \n",
    "#         # ranking\n",
    "#         rec1 = rec1[-candidate_cnt:].cpu().numpy().tolist()[::-1]\n",
    "#         rec2 = rec2[-candidate_cnt:].cpu().numpy().tolist()[::-1]\n",
    "#         rec3 = rec3[-candidate_cnt:].cpu().numpy().tolist()[::-1]\n",
    "#         rec4 = rec4[-candidate_cnt:].cpu().numpy().tolist()[::-1]\n",
    "#         rec5 = rec5[-candidate_cnt:].cpu().numpy().tolist()[::-1]\n",
    "#         rec6 = rec6[-candidate_cnt:].cpu().numpy().tolist()[::-1]\n",
    "\n",
    "#         items = list(set(rec1 + rec2 + rec3 + rec4 + rec5 + rec6))\n",
    "\n",
    "#         movie_df = pd.DataFrame(index = items)\n",
    "#         movie_df.loc[rec1, 'rec1_score'] = score_li * 1.0\n",
    "#         movie_df.loc[rec2, 'rec2_score'] = score_li * 0.4\n",
    "#         movie_df.loc[rec3, 'rec3_score'] = score_li * 0.6\n",
    "#         movie_df.loc[rec4, 'rec4_score'] = score_li * 0.1\n",
    "#         movie_df.loc[rec5, 'rec5_score'] = score_li * 0.3\n",
    "#         movie_df.loc[rec6, 'rec6_score'] = score_li * 0.2\n",
    "#         movie_df = movie_df.fillna(min(score_li) * 0.1)\n",
    "#         movie_df['total_score'] = movie_df['rec1_score'] + movie_df['rec2_score'] + movie_df['rec3_score'] + movie_df['rec4_score'] + movie_df['rec5_score'] + movie_df['rec6_score']\n",
    "#         movie_df = movie_df.sort_values('total_score', ascending = False)\n",
    "#         up = movie_df.index.tolist()[:10]\n",
    "\n",
    "#         user2rec[user] = up\n",
    "\n",
    "#     return user2rec\n",
    "\n",
    "\n",
    "# def total_evaluate(model1, model2, RecVAE, AutoRec, MultiDAE, MultiVAE, X, user_train, user_valid, candidate_cnt):\n",
    "#     RecVAE.eval()\n",
    "#     AutoRec.eval()\n",
    "#     MultiDAE.eval()\n",
    "#     MultiVAE.eval()\n",
    "\n",
    "#     df = []\n",
    "\n",
    "#     mat = torch.from_numpy(X)\n",
    "\n",
    "#     recon_mat1 = model1.pred.cpu()\n",
    "#     recon_mat1[mat == 1] = -np.inf\n",
    "#     rec_list1 = recon_mat1.argsort(dim = 1)\n",
    "\n",
    "#     recon_mat2 = model2.pred.T.cpu()\n",
    "#     recon_mat2[mat == 1] = -np.inf\n",
    "#     rec_list2 = recon_mat2.argsort(dim = 1)\n",
    "\n",
    "#     recon_mat3 = RecVAE(mat.to(device), calculate_loss = False).cpu().detach()\n",
    "#     recon_mat3[mat == 1] = -np.inf\n",
    "#     rec_list3 = recon_mat3.argsort(dim = 1)\n",
    "\n",
    "#     recon_mat4 = AutoRec(mat.to(device)).cpu().detach()\n",
    "#     recon_mat4[mat == 1] = -np.inf\n",
    "#     rec_list4 = recon_mat4.argsort(dim = 1)\n",
    "\n",
    "#     recon_mat5 = MultiDAE(mat.to(device)).cpu().detach()\n",
    "#     recon_mat5[mat == 1] = -np.inf\n",
    "#     rec_list5 = recon_mat5.argsort(dim = 1)\n",
    "\n",
    "#     recon_mat6, mu, logvar = MultiVAE(mat.to(device))\n",
    "#     recon_mat6 = recon_mat6.cpu().detach()\n",
    "#     recon_mat6[mat == 1] = -np.inf\n",
    "#     rec_list6 = recon_mat6.argsort(dim = 1)\n",
    "\n",
    "#     for user, (rec1, rec2, rec3, rec4, rec5, rec6) in tqdm(enumerate(zip(rec_list1, rec_list2, rec_list3, rec_list4, rec_list5, rec_list6))):\n",
    "#         uv = user_valid[user]\n",
    "\n",
    "#         # ranking\n",
    "#         rec1 = rec1[-candidate_cnt:].cpu().numpy().tolist()[::-1]\n",
    "#         rec2 = rec2[-candidate_cnt:].cpu().numpy().tolist()[::-1]\n",
    "#         rec3 = rec3[-candidate_cnt:].cpu().numpy().tolist()[::-1]\n",
    "#         rec4 = rec4[-candidate_cnt:].cpu().numpy().tolist()[::-1]\n",
    "#         rec5 = rec5[-candidate_cnt:].cpu().numpy().tolist()[::-1]\n",
    "#         rec6 = rec6[-candidate_cnt:].cpu().numpy().tolist()[::-1]\n",
    "\n",
    "#         rec123456 = list(set(rec1 + rec2 + rec3 + rec4 + rec5 + rec6))\n",
    "\n",
    "#         df.append(\n",
    "#             {\n",
    "#                'user' : user,\n",
    "#                'len' : len(rec123456),\n",
    "\n",
    "#                'rec1' : get_hit(pred_list = rec1, true_list = uv),\n",
    "#                'rec2' : get_hit(pred_list = rec2, true_list = uv),\n",
    "#                'rec3' : get_hit(pred_list = rec3, true_list = uv),\n",
    "#                'rec4' : get_hit(pred_list = rec4, true_list = uv),\n",
    "#                'rec5' : get_hit(pred_list = rec5, true_list = uv),\n",
    "#                'rec6' : get_hit(pred_list = rec6, true_list = uv),\n",
    "\n",
    "#                'rec123456' : get_hit(pred_list = rec123456, true_list = uv),\n",
    "#             }\n",
    "#         )\n",
    "\n",
    "#     return df"
   ]
  },
  {
   "cell_type": "code",
   "execution_count": null,
   "metadata": {},
   "outputs": [],
   "source": [
    "# from sklearn.linear_model import LogisticRegression\n",
    "# from sklearn.tree import DecisionTreeClassifier\n",
    "\n",
    "# def evaluate(model1, model2, RecVAE, AutoRec, MultiDAE, MultiVAE, X_df, y_df, X, user_train, user_valid, candidate_cnt):\n",
    "#     RecVAE.eval()\n",
    "#     AutoRec.eval()\n",
    "#     MultiDAE.eval()\n",
    "#     MultiVAE.eval()\n",
    "\n",
    "#     mat = torch.from_numpy(X)\n",
    "\n",
    "#     NDCG = 0.0 # NDCG@10\n",
    "#     HIT = 0.0 # HIT@10\n",
    "\n",
    "#     recon_mat1 = model1.pred.cpu()\n",
    "#     copy_recon_mat1 = deepcopy(recon_mat1.sigmoid())\n",
    "#     recon_mat1[mat == 1] = -np.inf\n",
    "#     rec_list1 = recon_mat1.argsort(dim = 1)\n",
    "\n",
    "#     recon_mat2 = model2.pred.T.cpu()\n",
    "#     copy_recon_mat2 = deepcopy(recon_mat2.sigmoid())\n",
    "#     recon_mat2[mat == 1] = -np.inf\n",
    "#     rec_list2 = recon_mat2.argsort(dim = 1)\n",
    "\n",
    "#     recon_mat3 = RecVAE(mat.to(device), calculate_loss = False).cpu().detach()\n",
    "#     copy_recon_mat3 = deepcopy(recon_mat3.sigmoid())\n",
    "#     recon_mat3[mat == 1] = -np.inf\n",
    "#     rec_list3 = recon_mat3.argsort(dim = 1)\n",
    "\n",
    "#     recon_mat4 = AutoRec(mat.to(device)).cpu().detach()\n",
    "#     copy_recon_mat4 = deepcopy(recon_mat4.sigmoid())\n",
    "#     recon_mat4[mat == 1] = -np.inf\n",
    "#     rec_list4 = recon_mat4.argsort(dim = 1)\n",
    "\n",
    "#     recon_mat5 = MultiDAE(mat.to(device)).cpu().detach()\n",
    "#     copy_recon_mat5 = deepcopy(recon_mat5.sigmoid())\n",
    "#     recon_mat5[mat == 1] = -np.inf\n",
    "#     rec_list5 = recon_mat5.argsort(dim = 1)\n",
    "\n",
    "#     recon_mat6, mu, logvar = MultiVAE(mat.to(device))\n",
    "#     recon_mat6 = recon_mat6.cpu().detach()\n",
    "#     copy_recon_mat6 = deepcopy(recon_mat6.sigmoid())\n",
    "#     recon_mat6[mat == 1] = -np.inf\n",
    "#     rec_list6 = recon_mat6.argsort(dim = 1)\n",
    "\n",
    "\n",
    "#     for user, (rec1, rec2, rec3, rec4, rec5, rec6) in tqdm(enumerate(zip(rec_list1, rec_list2, rec_list3, rec_list4, rec_list5, rec_list6))):\n",
    "\n",
    "#         cif = DecisionTreeClassifier(random_state = config.seed).fit(X_df[6807 * user : 6807 * (user + 1), 1:], y_df[6807 * user : 6807 * (user + 1)])\n",
    "\n",
    "#         uv = user_valid[user]\n",
    "\n",
    "#         rec1 = rec1[-candidate_cnt:].cpu().numpy().tolist()[::-1]\n",
    "#         rec2 = rec2[-candidate_cnt:].cpu().numpy().tolist()[::-1]\n",
    "#         rec3 = rec3[-candidate_cnt:].cpu().numpy().tolist()[::-1]\n",
    "#         rec4 = rec4[-candidate_cnt:].cpu().numpy().tolist()[::-1]\n",
    "#         rec5 = rec5[-candidate_cnt:].cpu().numpy().tolist()[::-1]\n",
    "#         rec6 = rec6[-candidate_cnt:].cpu().numpy().tolist()[::-1]\n",
    "\n",
    "#         items = list(set(rec1 + rec2 + rec3 + rec4 + rec5 + rec6))\n",
    "#         score_li = np.array([[copy_recon_mat1.numpy()[user][item], copy_recon_mat2.numpy()[user][item], copy_recon_mat3.numpy()[user][item] , copy_recon_mat4.numpy()[user][item] , copy_recon_mat5.numpy()[user][item] , copy_recon_mat6.numpy()[user][item]] for item in items])\n",
    "#         score_li = cif.predict_proba(score_li)[:, 1]\n",
    "        \n",
    "#         movie_df = pd.DataFrame(index = items)\n",
    "#         movie_df.loc[items, 'total_score'] = score_li\n",
    "#         movie_df = movie_df.sort_values('total_score', ascending = False)\n",
    "#         up = movie_df.index.tolist()[:10]\n",
    "\n",
    "#         NDCG += get_ndcg(pred_list = up, true_list = uv)\n",
    "#         HIT += get_hit(pred_list = up, true_list = uv)\n",
    "\n",
    "#     NDCG /= len(user_train)\n",
    "#     HIT /= len(user_train)\n",
    "\n",
    "#     return NDCG, HIT\n",
    "\n",
    "\n",
    "# def predict(model1, model2, RecVAE, X_df, y_df, X, candidate_cnt):\n",
    "#     RecVAE.eval()\n",
    "\n",
    "#     user2rec = {}\n",
    "\n",
    "#     neg = torch.from_numpy(1 - X)\n",
    "#     pos = torch.from_numpy(X)\n",
    "\n",
    "#     recon_mat1 = model1.pred.cpu()\n",
    "#     score1 = recon_mat1 * neg\n",
    "#     rec_list1 = score1.argsort(dim = 1)\n",
    "\n",
    "#     recon_mat2 = model2.pred.T.cpu()\n",
    "#     score2 = recon_mat2 * neg\n",
    "#     rec_list2 = score2.argsort(dim = 1)\n",
    "\n",
    "#     recon_mat3 = RecVAE(pos.to(device), calculate_loss = False).cpu().detach()\n",
    "#     score3 = recon_mat3 * neg\n",
    "#     rec_list3 = score3.argsort(dim = 1)\n",
    "\n",
    "#     for user, (rec1, rec2, rec3) in tqdm(enumerate(zip(rec_list1, rec_list2, rec_list3))):\n",
    "\n",
    "#         cif = LogisticRegression(random_state = config.seed).fit(X_df[6807 * user : 6807 * (user + 1), 1:], y_df[6807 * user : 6807 * (user + 1)])\n",
    "\n",
    "#         rec1 = rec1[-candidate_cnt:].cpu().numpy().tolist()[::-1]\n",
    "#         rec2 = rec2[-candidate_cnt:].cpu().numpy().tolist()[::-1]\n",
    "#         rec3 = rec3[-candidate_cnt:].cpu().numpy().tolist()[::-1]\n",
    "\n",
    "#         items = list(set(rec1 + rec2 + rec3))\n",
    "#         score_li = np.array([[recon_mat1.numpy()[user][item], recon_mat2.numpy()[user][item], recon_mat3.numpy()[user][item]] for item in items])\n",
    "#         score_li = cif.predict_proba(score_li)[:, 1]\n",
    "        \n",
    "#         movie_df = pd.DataFrame(index = items)\n",
    "#         movie_df.loc[items, 'total_score'] = score_li\n",
    "#         movie_df = movie_df.sort_values('total_score', ascending = False)\n",
    "#         up = movie_df.index.tolist()[:10]\n",
    "        \n",
    "#         user2rec[user] = up\n",
    "\n",
    "#     return user2rec"
   ]
  },
  {
   "cell_type": "code",
   "execution_count": null,
   "metadata": {},
   "outputs": [],
   "source": [
    "make_matrix_data_set = MakeMatrixDataSet(config = config)\n",
    "user_train, user_valid = make_matrix_data_set.get_train_valid_data()\n",
    "X = make_matrix_data_set.make_sparse_matrix()"
   ]
  },
  {
   "cell_type": "code",
   "execution_count": null,
   "metadata": {},
   "outputs": [],
   "source": [
    "model1 = EASE(X = X, reg = 750)\n",
    "model1.fit()"
   ]
  },
  {
   "cell_type": "code",
   "execution_count": null,
   "metadata": {},
   "outputs": [],
   "source": [
    "model2 = EASE(X = X.T, reg = 4400)\n",
    "model2.fit()"
   ]
  },
  {
   "cell_type": "code",
   "execution_count": null,
   "metadata": {},
   "outputs": [
    {
     "data": {
      "text/plain": [
       "<All keys matched successfully>"
      ]
     },
     "metadata": {},
     "output_type": "display_data"
    }
   ],
   "source": [
    "model3 = RecVAE(\n",
    "    input_dim = make_matrix_data_set.num_item,).to(device)\n",
    "\n",
    "model3.load_state_dict(torch.load(os.path.join(config.model_path, 'RecVAE_v3.pt')))"
   ]
  },
  {
   "cell_type": "code",
   "execution_count": 18,
   "metadata": {},
   "outputs": [
    {
     "data": {
      "text/plain": [
       "<All keys matched successfully>"
      ]
     },
     "execution_count": 18,
     "metadata": {},
     "output_type": "execute_result"
    }
   ],
   "source": [
    "model4 = AutoRec(\n",
    "    num = make_matrix_data_set.num_item, \n",
    "    num_factor = 64).to(device)\n",
    "\n",
    "model4.load_state_dict(torch.load(os.path.join(config.model_path, 'AutoRec_v1.pt')))"
   ]
  },
  {
   "cell_type": "code",
   "execution_count": 19,
   "metadata": {},
   "outputs": [
    {
     "data": {
      "text/plain": [
       "<All keys matched successfully>"
      ]
     },
     "execution_count": 19,
     "metadata": {},
     "output_type": "execute_result"
    }
   ],
   "source": [
    "model5 = MultiDAE(\n",
    "    p_dims = [100, 200, 400] + [make_matrix_data_set.num_item], \n",
    "    dropout_rate = 0.5).to(device)\n",
    "\n",
    "model5.load_state_dict(torch.load(os.path.join(config.model_path, 'Multi-DAE_v1.pt')))"
   ]
  },
  {
   "cell_type": "code",
   "execution_count": 20,
   "metadata": {},
   "outputs": [
    {
     "data": {
      "text/plain": [
       "<All keys matched successfully>"
      ]
     },
     "execution_count": 20,
     "metadata": {},
     "output_type": "execute_result"
    }
   ],
   "source": [
    "model6 = MultiVAE(\n",
    "    p_dims = [100, 200, 400] + [make_matrix_data_set.num_item], \n",
    "    dropout_rate = 0.5).to(device)\n",
    "\n",
    "model6.load_state_dict(torch.load(os.path.join(config.model_path, 'Multi-VAE_v1.pt')))"
   ]
  },
  {
   "cell_type": "code",
   "execution_count": 19,
   "metadata": {},
   "outputs": [],
   "source": [
    "def get_weighted_ensemble_df(model1, model2, RecVAE, AutoRec, MultiDAE, MultiVAE, X, candidate_cnt):\n",
    "    weighted_ensemble_df = {}\n",
    "    \n",
    "    RecVAE.eval()\n",
    "    AutoRec.eval()\n",
    "    MultiDAE.eval()\n",
    "    MultiVAE.eval()\n",
    "\n",
    "    mat = torch.from_numpy(X)\n",
    "\n",
    "    recon_mat1 = model1.pred.cpu()\n",
    "    recon_mat1[mat == 1] = -np.inf\n",
    "    rec_list1 = recon_mat1.argsort(dim = 1)\n",
    "\n",
    "    recon_mat2 = model2.pred.T.cpu()\n",
    "    recon_mat2[mat == 1] = -np.inf\n",
    "    rec_list2 = recon_mat2.argsort(dim = 1)\n",
    "\n",
    "    recon_mat3 = RecVAE(mat.to(device), calculate_loss = False).cpu().detach()\n",
    "    recon_mat3[mat == 1] = -np.inf\n",
    "    rec_list3 = recon_mat3.argsort(dim = 1)\n",
    "\n",
    "    recon_mat4 = AutoRec(mat.to(device)).cpu().detach()\n",
    "    recon_mat4[mat == 1] = -np.inf\n",
    "    rec_list4 = recon_mat4.argsort(dim = 1)\n",
    "\n",
    "    recon_mat5 = MultiDAE(mat.to(device)).cpu().detach()\n",
    "    recon_mat5[mat == 1] = -np.inf\n",
    "    rec_list5 = recon_mat5.argsort(dim = 1)\n",
    "\n",
    "    recon_mat6, mu, logvar = MultiVAE(mat.to(device))\n",
    "    recon_mat6 = recon_mat6.cpu().detach()\n",
    "    recon_mat6[mat == 1] = -np.inf\n",
    "    rec_list6 = recon_mat6.argsort(dim = 1)\n",
    "\n",
    "    score_li = np.array([1/np.log2(rank + 2) for rank in range(0, candidate_cnt)])\n",
    "\n",
    "    for user, (rec1, rec2, rec3, rec4, rec5, rec6) in tqdm(enumerate(zip(rec_list1, rec_list2, rec_list3, rec_list4, rec_list5, rec_list6))):\n",
    "\n",
    "        # ranking\n",
    "        rec1 = rec1[-candidate_cnt:].cpu().numpy().tolist()[::-1]\n",
    "        rec2 = rec2[-candidate_cnt:].cpu().numpy().tolist()[::-1]\n",
    "        rec3 = rec3[-candidate_cnt:].cpu().numpy().tolist()[::-1]\n",
    "        rec4 = rec4[-candidate_cnt:].cpu().numpy().tolist()[::-1]\n",
    "        rec5 = rec5[-candidate_cnt:].cpu().numpy().tolist()[::-1]\n",
    "        rec6 = rec6[-candidate_cnt:].cpu().numpy().tolist()[::-1]\n",
    "\n",
    "        items = list(set(rec1 + rec2 + rec3 + rec4 + rec5 + rec6))\n",
    "\n",
    "        movie_df = pd.DataFrame(index = items)\n",
    "        movie_df.loc[rec1, 'rec1_score'] = score_li\n",
    "        movie_df.loc[rec2, 'rec2_score'] = score_li\n",
    "        movie_df.loc[rec3, 'rec3_score'] = score_li\n",
    "        movie_df.loc[rec4, 'rec4_score'] = score_li\n",
    "        movie_df.loc[rec5, 'rec5_score'] = score_li\n",
    "        movie_df.loc[rec6, 'rec6_score'] = score_li\n",
    "\n",
    "        weighted_ensemble_df[user] = movie_df\n",
    "\n",
    "    return weighted_ensemble_df"
   ]
  },
  {
   "cell_type": "code",
   "execution_count": 20,
   "metadata": {},
   "outputs": [
    {
     "name": "stderr",
     "output_type": "stream",
     "text": [
      "31360it [02:11, 237.93it/s]\n"
     ]
    }
   ],
   "source": [
    "weighted_ensemble_df = get_weighted_ensemble_df(\n",
    "    model1 = model1,\n",
    "    model2 = model2,\n",
    "    RecVAE = model3,\n",
    "    AutoRec = model4,\n",
    "    MultiDAE = model5,\n",
    "    MultiVAE = model6,\n",
    "    X = X.todense(),\n",
    "    candidate_cnt = 30,\n",
    "    )"
   ]
  },
  {
   "cell_type": "code",
   "execution_count": null,
   "metadata": {},
   "outputs": [],
   "source": [
    "target_cols = ['rec5_score']\n",
    "weightes_list = [np.round(0.05 * i, 2) for i in range(6, 0, -1)]\n",
    "cols = ['rec1_score', 'rec2_score', 'rec3_score', 'rec6_score']\n",
    "weightes = [1.0, 0.45, 0.85, 0.25]\n",
    "users = weighted_ensemble_df.keys()\n",
    "for target_col in target_cols:\n",
    "    cols += [target_col]\n",
    "    best_hit = 0\n",
    "    best_weightes = deepcopy(weightes)\n",
    "\n",
    "    for target_weighte in tqdm(weightes_list):\n",
    "        _weightes = deepcopy(weightes)\n",
    "        _weightes += [target_weighte]\n",
    "\n",
    "        NDCG = 0\n",
    "        HIT = 0\n",
    "\n",
    "        for user in users:\n",
    "            uv = user_valid[user]\n",
    "            df = weighted_ensemble_df[user].copy()\n",
    "\n",
    "            for c, w in zip(cols, _weightes):\n",
    "                df[c] = df[c] * w\n",
    "            \n",
    "            df = df.fillna(df[cols].min().min())\n",
    "            df['total_score'] = df[cols].sum(axis = 1)\n",
    "            df = df.sort_values('total_score', ascending = False)\n",
    "            up = df.index.tolist()[:10]\n",
    "\n",
    "            NDCG += get_ndcg(pred_list = up, true_list = uv)\n",
    "            HIT += get_hit(pred_list = up, true_list = uv)\n",
    "\n",
    "        NDCG /= len(users)\n",
    "        HIT /= len(users)\n",
    "        \n",
    "        if best_hit < HIT:\n",
    "            best_weightes = deepcopy(_weightes)\n",
    "            best_hit = HIT\n",
    "            best_ndcg = NDCG\n",
    "\n",
    "        print(f'cols : {cols}| weighte : {_weightes}| NDCG@10: {NDCG:.5f}| HIT@10: {HIT:.5f}')\n",
    "\n",
    "    weightes = deepcopy(best_weightes)\n",
    "    print(f'BEST cols : {cols}| weighte : {weightes}| NDCG@10: {best_ndcg:.5f}| HIT@10: {best_hit:.5f} \\n')\n",
    "\n",
    "print(f'cols : {cols}| weighte : {weightes}')"
   ]
  },
  {
   "cell_type": "markdown",
   "metadata": {},
   "source": [
    "```\n",
    "cols : ['rec1_score', 'rec2_score']| weighte : [1.0, 1.0]| NDCG@10: 0.31060| HIT@10: 0.20423\n",
    "cols : ['rec1_score', 'rec2_score']| weighte : [1.0, 0.95]| NDCG@10: 0.31082| HIT@10: 0.20423\n",
    "cols : ['rec1_score', 'rec2_score']| weighte : [1.0, 0.9]| NDCG@10: 0.31086| HIT@10: 0.20416\n",
    "cols : ['rec1_score', 'rec2_score']| weighte : [1.0, 0.85]| NDCG@10: 0.31099| HIT@10: 0.20427\n",
    "cols : ['rec1_score', 'rec2_score']| weighte : [1.0, 0.8]| NDCG@10: 0.31102| HIT@10: 0.20427\n",
    "cols : ['rec1_score', 'rec2_score']| weighte : [1.0, 0.75]| NDCG@10: 0.31105| HIT@10: 0.20429\n",
    "cols : ['rec1_score', 'rec2_score']| weighte : [1.0, 0.7]| NDCG@10: 0.31112| HIT@10: 0.20438\n",
    "cols : ['rec1_score', 'rec2_score']| weighte : [1.0, 0.65]| NDCG@10: 0.31119| HIT@10: 0.20445\n",
    "cols : ['rec1_score', 'rec2_score']| weighte : [1.0, 0.6]| NDCG@10: 0.31103| HIT@10: 0.20430\n",
    "cols : ['rec1_score', 'rec2_score']| weighte : [1.0, 0.55]| NDCG@10: 0.31109| HIT@10: 0.20425\n",
    "cols : ['rec1_score', 'rec2_score']| weighte : [1.0, 0.5]| NDCG@10: 0.31124| HIT@10: 0.20434\n",
    "cols : ['rec1_score', 'rec2_score']| weighte : [1.0, 0.45]| NDCG@10: 0.31135| HIT@10: 0.20441\n",
    "cols : ['rec1_score', 'rec2_score']| weighte : [1.0, 0.4]| NDCG@10: 0.31130| HIT@10: 0.20438\n",
    "cols : ['rec1_score', 'rec2_score']| weighte : [1.0, 0.35]| NDCG@10: 0.31131| HIT@10: 0.20437\n",
    "cols : ['rec1_score', 'rec2_score']| weighte : [1.0, 0.3]| NDCG@10: 0.31121| HIT@10: 0.20433\n",
    "cols : ['rec1_score', 'rec2_score']| weighte : [1.0, 0.25]| NDCG@10: 0.31123| HIT@10: 0.20437\n",
    "cols : ['rec1_score', 'rec2_score']| weighte : [1.0, 0.2]| NDCG@10: 0.31117| HIT@10: 0.20435\n",
    "cols : ['rec1_score', 'rec2_score']| weighte : [1.0, 0.15]| NDCG@10: 0.31094| HIT@10: 0.20416\n",
    "cols : ['rec1_score', 'rec2_score']| weighte : [1.0, 0.1]| NDCG@10: 0.31076| HIT@10: 0.20401\n",
    "cols : ['rec1_score', 'rec2_score']| weighte : [1.0, 0.05]| NDCG@10: 0.31059| HIT@10: 0.20387\n",
    "BEST cols : ['rec1_score', 'rec2_score']| weighte : [1.0, 0.65]| NDCG@10: 0.31119| HIT@10: 0.20445\n",
    "BEST cols : ['rec1_score', 'rec2_score']| weighte : [1.0, 0.45]| NDCG@10: 0.31135| HIT@10: 0.20441\n",
    "\n",
    "\n",
    "cols : ['rec1_score', 'rec2_score', 'rec3_score']| weighte : [1.0, 0.45, 1.0]| NDCG@10: 0.31727| HIT@10: 0.20922\n",
    "cols : ['rec1_score', 'rec2_score', 'rec3_score']| weighte : [1.0, 0.45, 0.95]| NDCG@10: 0.31758| HIT@10: 0.20937\n",
    "cols : ['rec1_score', 'rec2_score', 'rec3_score']| weighte : [1.0, 0.45, 0.9]| NDCG@10: 0.31786| HIT@10: 0.20948\n",
    "cols : ['rec1_score', 'rec2_score', 'rec3_score']| weighte : [1.0, 0.45, 0.85]| NDCG@10: 0.31807| HIT@10: 0.20968\n",
    "cols : ['rec1_score', 'rec2_score', 'rec3_score']| weighte : [1.0, 0.45, 0.8]| NDCG@10: 0.31808| HIT@10: 0.20967\n",
    "cols : ['rec1_score', 'rec2_score', 'rec3_score']| weighte : [1.0, 0.45, 0.75]| NDCG@10: 0.31800| HIT@10: 0.20960\n",
    "cols : ['rec1_score', 'rec2_score', 'rec3_score']| weighte : [1.0, 0.45, 0.7]| NDCG@10: 0.31790| HIT@10: 0.20943\n",
    "\n",
    "cols : ['rec1_score', 'rec2_score', 'rec3_score', 'rec6_score']| weighte : [1.0, 0.45, 0.85, 1.0]| NDCG@10: 0.31444| HIT@10: 0.20739\n",
    "cols : ['rec1_score', 'rec2_score', 'rec3_score', 'rec6_score']| weighte : [1.0, 0.45, 0.85, 0.95]| NDCG@10: 0.31503| HIT@10: 0.20768\n",
    "cols : ['rec1_score', 'rec2_score', 'rec3_score', 'rec6_score']| weighte : [1.0, 0.45, 0.85, 0.9]| NDCG@10: 0.31536| HIT@10: 0.20784\n",
    "cols : ['rec1_score', 'rec2_score', 'rec3_score', 'rec6_score']| weighte : [1.0, 0.45, 0.85, 0.85]| NDCG@10: 0.31568| HIT@10: 0.20799\n",
    "cols : ['rec1_score', 'rec2_score', 'rec3_score', 'rec6_score']| weighte : [1.0, 0.45, 0.85, 0.8]| NDCG@10: 0.31625| HIT@10: 0.20818\n",
    "cols : ['rec1_score', 'rec2_score', 'rec3_score', 'rec6_score']| weighte : [1.0, 0.45, 0.85, 0.75]| NDCG@10: 0.31661| HIT@10: 0.20837\n",
    "cols : ['rec1_score', 'rec2_score', 'rec3_score', 'rec6_score']| weighte : [1.0, 0.45, 0.85, 0.7]| NDCG@10: 0.31705| HIT@10: 0.20858\n",
    "cols : ['rec1_score', 'rec2_score', 'rec3_score', 'rec6_score']| weighte : [1.0, 0.45, 0.85, 0.65]| NDCG@10: 0.31733| HIT@10: 0.20866\n",
    "cols : ['rec1_score', 'rec2_score', 'rec3_score', 'rec6_score']| weighte : [1.0, 0.45, 0.85, 0.6]| NDCG@10: 0.31769| HIT@10: 0.20884\n",
    "cols : ['rec1_score', 'rec2_score', 'rec3_score', 'rec6_score']| weighte : [1.0, 0.45, 0.85, 0.55]| NDCG@10: 0.31801| HIT@10: 0.20918\n",
    "cols : ['rec1_score', 'rec2_score', 'rec3_score', 'rec6_score']| weighte : [1.0, 0.45, 0.85, 0.5]| NDCG@10: 0.31837| HIT@10: 0.20943\n",
    "cols : ['rec1_score', 'rec2_score', 'rec3_score', 'rec6_score']| weighte : [1.0, 0.45, 0.85, 0.45]| NDCG@10: 0.31860| HIT@10: 0.20962\n",
    "cols : ['rec1_score', 'rec2_score', 'rec3_score', 'rec6_score']| weighte : [1.0, 0.45, 0.85, 0.4]| NDCG@10: 0.31874| HIT@10: 0.20975\n",
    "cols : ['rec1_score', 'rec2_score', 'rec3_score', 'rec6_score']| weighte : [1.0, 0.45, 0.85, 0.35]| NDCG@10: 0.31895| HIT@10: 0.20997\n",
    "cols : ['rec1_score', 'rec2_score', 'rec3_score', 'rec6_score']| weighte : [1.0, 0.45, 0.85, 0.3]| NDCG@10: 0.31918| HIT@10: 0.21020\n",
    "cols : ['rec1_score', 'rec2_score', 'rec3_score', 'rec6_score']| weighte : [1.0, 0.45, 0.85, 0.25]| NDCG@10: 0.31922| HIT@10: 0.21031\n",
    "cols : ['rec1_score', 'rec2_score', 'rec3_score', 'rec6_score']| weighte : [1.0, 0.45, 0.85, 0.2]| NDCG@10: 0.31918| HIT@10: 0.21026\n",
    "cols : ['rec1_score', 'rec2_score', 'rec3_score', 'rec6_score']| weighte : [1.0, 0.45, 0.85, 0.15]| NDCG@10: 0.31910| HIT@10: 0.21023\n",
    "cols : ['rec1_score', 'rec2_score', 'rec3_score', 'rec6_score']| weighte : [1.0, 0.45, 0.85, 0.1]| NDCG@10: 0.31883| HIT@10: 0.21006\n",
    "cols : ['rec1_score', 'rec2_score', 'rec3_score', 'rec6_score']| weighte : [1.0, 0.45, 0.85, 0.05]| NDCG@10: 0.31852| HIT@10: 0.20981\n",
    "BEST cols : ['rec1_score', 'rec2_score', 'rec3_score', 'rec6_score']| weighte : [1.0, 0.45, 0.85, 0.25]| NDCG@10: 0.31922| HIT@10: 0.21031 \n",
    "\n",
    "cols : ['rec1_score', 'rec2_score', 'rec3_score', 'rec6_score', 'rec4_score']| weighte : [1.0, 0.45, 0.85, 0.25, 1.0]| NDCG@10: 0.31214| HIT@10: 0.20505\n",
    "cols : ['rec1_score', 'rec2_score', 'rec3_score', 'rec6_score', 'rec4_score']| weighte : [1.0, 0.45, 0.85, 0.25, 0.95]| NDCG@10: 0.31263| HIT@10: 0.20535\n",
    "cols : ['rec1_score', 'rec2_score', 'rec3_score', 'rec6_score', 'rec4_score']| weighte : [1.0, 0.45, 0.85, 0.25, 0.9]| NDCG@10: 0.31307| HIT@10: 0.20561\n",
    "cols : ['rec1_score', 'rec2_score', 'rec3_score', 'rec6_score', 'rec4_score']| weighte : [1.0, 0.45, 0.85, 0.25, 0.85]| NDCG@10: 0.31359| HIT@10: 0.20593\n",
    "cols : ['rec1_score', 'rec2_score', 'rec3_score', 'rec6_score', 'rec4_score']| weighte : [1.0, 0.45, 0.85, 0.25, 0.8]| NDCG@10: 0.31416| HIT@10: 0.20633\n",
    "cols : ['rec1_score', 'rec2_score', 'rec3_score', 'rec6_score', 'rec4_score']| weighte : [1.0, 0.45, 0.85, 0.25, 0.75]| NDCG@10: 0.31459| HIT@10: 0.20653\n",
    "cols : ['rec1_score', 'rec2_score', 'rec3_score', 'rec6_score', 'rec4_score']| weighte : [1.0, 0.45, 0.85, 0.25, 0.7]| NDCG@10: 0.31515| HIT@10: 0.20689\n",
    "cols : ['rec1_score', 'rec2_score', 'rec3_score', 'rec6_score', 'rec4_score']| weighte : [1.0, 0.45, 0.85, 0.25, 0.65]| NDCG@10: 0.31555| HIT@10: 0.20718\n",
    "cols : ['rec1_score', 'rec2_score', 'rec3_score', 'rec6_score', 'rec4_score']| weighte : [1.0, 0.45, 0.85, 0.25, 0.6]| NDCG@10: 0.31596| HIT@10: 0.20744\n",
    "cols : ['rec1_score', 'rec2_score', 'rec3_score', 'rec6_score', 'rec4_score']| weighte : [1.0, 0.45, 0.85, 0.25, 0.55]| NDCG@10: 0.31644| HIT@10: 0.20779\n",
    "cols : ['rec1_score', 'rec2_score', 'rec3_score', 'rec6_score', 'rec4_score']| weighte : [1.0, 0.45, 0.85, 0.25, 0.5]| NDCG@10: 0.31685| HIT@10: 0.20804\n",
    "cols : ['rec1_score', 'rec2_score', 'rec3_score', 'rec6_score', 'rec4_score']| weighte : [1.0, 0.45, 0.85, 0.25, 0.45]| NDCG@10: 0.31724| HIT@10: 0.20838\n",
    "cols : ['rec1_score', 'rec2_score', 'rec3_score', 'rec6_score', 'rec4_score']| weighte : [1.0, 0.45, 0.85, 0.25, 0.4]| NDCG@10: 0.31755| HIT@10: 0.20857\n",
    "cols : ['rec1_score', 'rec2_score', 'rec3_score', 'rec6_score', 'rec4_score']| weighte : [1.0, 0.45, 0.85, 0.25, 0.35]| NDCG@10: 0.31794| HIT@10: 0.20890\n",
    "cols : ['rec1_score', 'rec2_score', 'rec3_score', 'rec6_score', 'rec4_score']| weighte : [1.0, 0.45, 0.85, 0.25, 0.3]| NDCG@10: 0.31841| HIT@10: 0.20929\n",
    "cols : ['rec1_score', 'rec2_score', 'rec3_score', 'rec6_score', 'rec4_score']| weighte : [1.0, 0.45, 0.85, 0.25, 0.25]| NDCG@10: 0.31871| HIT@10: 0.20968\n",
    "cols : ['rec1_score', 'rec2_score', 'rec3_score', 'rec6_score', 'rec4_score']| weighte : [1.0, 0.45, 0.85, 0.25, 0.2]| NDCG@10: 0.31887| HIT@10: 0.20982\n",
    "cols : ['rec1_score', 'rec2_score', 'rec3_score', 'rec6_score', 'rec4_score']| weighte : [1.0, 0.45, 0.85, 0.25, 0.15]| NDCG@10: 0.31908| HIT@10: 0.20995\n",
    "cols : ['rec1_score', 'rec2_score', 'rec3_score', 'rec6_score', 'rec4_score']| weighte : [1.0, 0.45, 0.85, 0.25, 0.1]| NDCG@10: 0.31922| HIT@10: 0.21012\n",
    "cols : ['rec1_score', 'rec2_score', 'rec3_score', 'rec6_score', 'rec4_score']| weighte : [1.0, 0.45, 0.85, 0.25, 0.05]| NDCG@10: 0.31937| HIT@10: 0.21024\n",
    "BEST cols : ['rec1_score', 'rec2_score', 'rec3_score', 'rec6_score', 'rec4_score']| weighte : [1.0, 0.45, 0.85, 0.25, 0.05]| NDCG@10: 0.31937| HIT@10: 0.21024 \n",
    "\n",
    "cols : ['rec1_score', 'rec2_score', 'rec3_score', 'rec6_score', 'rec4_score', 'rec5_score']| weighte : [1.0, 0.45, 0.85, 0.25, 0.05, 1.0]| NDCG@10: 0.31592| HIT@10: 0.20776\n",
    "cols : ['rec1_score', 'rec2_score', 'rec3_score', 'rec6_score', 'rec4_score', 'rec5_score']| weighte : [1.0, 0.45, 0.85, 0.25, 0.05, 0.95]| NDCG@10: 0.31633| HIT@10: 0.20791\n",
    "cols : ['rec1_score', 'rec2_score', 'rec3_score', 'rec6_score', 'rec4_score', 'rec5_score']| weighte : [1.0, 0.45, 0.85, 0.25, 0.05, 0.9]| NDCG@10: 0.31676| HIT@10: 0.20817\n",
    "cols : ['rec1_score', 'rec2_score', 'rec3_score', 'rec6_score', 'rec4_score', 'rec5_score']| weighte : [1.0, 0.45, 0.85, 0.25, 0.05, 0.85]| NDCG@10: 0.31703| HIT@10: 0.20831\n",
    "cols : ['rec1_score', 'rec2_score', 'rec3_score', 'rec6_score', 'rec4_score', 'rec5_score']| weighte : [1.0, 0.45, 0.85, 0.25, 0.05, 0.8]| NDCG@10: 0.31741| HIT@10: 0.20852\n",
    "cols : ['rec1_score', 'rec2_score', 'rec3_score', 'rec6_score', 'rec4_score', 'rec5_score']| weighte : [1.0, 0.45, 0.85, 0.25, 0.05, 0.75]| NDCG@10: 0.31757| HIT@10: 0.20862\n",
    "cols : ['rec1_score', 'rec2_score', 'rec3_score', 'rec6_score', 'rec4_score', 'rec5_score']| weighte : [1.0, 0.45, 0.85, 0.25, 0.05, 0.7]| NDCG@10: 0.31794| HIT@10: 0.20886\n",
    "cols : ['rec1_score', 'rec2_score', 'rec3_score', 'rec6_score', 'rec4_score', 'rec5_score']| weighte : [1.0, 0.45, 0.85, 0.25, 0.05, 0.65]| NDCG@10: 0.31836| HIT@10: 0.20919\n",
    "cols : ['rec1_score', 'rec2_score', 'rec3_score', 'rec6_score', 'rec4_score', 'rec5_score']| weighte : [1.0, 0.45, 0.85, 0.25, 0.05, 0.6]| NDCG@10: 0.31866| HIT@10: 0.20938\n",
    "cols : ['rec1_score', 'rec2_score', 'rec3_score', 'rec6_score', 'rec4_score', 'rec5_score']| weighte : [1.0, 0.45, 0.85, 0.25, 0.05, 0.55]| NDCG@10: 0.31895| HIT@10: 0.20964\n",
    "cols : ['rec1_score', 'rec2_score', 'rec3_score', 'rec6_score', 'rec4_score', 'rec5_score']| weighte : [1.0, 0.45, 0.85, 0.25, 0.05, 0.5]| NDCG@10: 0.31923| HIT@10: 0.20987\n",
    "cols : ['rec1_score', 'rec2_score', 'rec3_score', 'rec6_score', 'rec4_score', 'rec5_score']| weighte : [1.0, 0.45, 0.85, 0.25, 0.05, 0.45]| NDCG@10: 0.31925| HIT@10: 0.20986\n",
    "cols : ['rec1_score', 'rec2_score', 'rec3_score', 'rec6_score', 'rec4_score', 'rec5_score']| weighte : [1.0, 0.45, 0.85, 0.25, 0.05, 0.4]| NDCG@10: 0.31953| HIT@10: 0.21014\n",
    "cols : ['rec1_score', 'rec2_score', 'rec3_score', 'rec6_score', 'rec4_score', 'rec5_score']| weighte : [1.0, 0.45, 0.85, 0.25, 0.05, 0.35]| NDCG@10: 0.31970| HIT@10: 0.21031\n",
    "cols : ['rec1_score', 'rec2_score', 'rec3_score', 'rec6_score', 'rec4_score', 'rec5_score']| weighte : [1.0, 0.45, 0.85, 0.25, 0.05, 0.3]| NDCG@10: 0.31977| HIT@10: 0.21032\n",
    "cols : ['rec1_score', 'rec2_score', 'rec3_score', 'rec6_score', 'rec4_score', 'rec5_score']| weighte : [1.0, 0.45, 0.85, 0.25, 0.05, 0.25]| NDCG@10: 0.31984| HIT@10: 0.21032\n",
    "cols : ['rec1_score', 'rec2_score', 'rec3_score', 'rec6_score', 'rec4_score', 'rec5_score']| weighte : [1.0, 0.45, 0.85, 0.25, 0.05, 0.2]| NDCG@10: 0.31984| HIT@10: 0.21028\n",
    "\n",
    "```"
   ]
  },
  {
   "cell_type": "markdown",
   "metadata": {},
   "source": [
    "```\n",
    "cols : ['rec1_score', 'rec2_score', 'rec3_score', 'rec4_score', 'rec5_score', 'rec6_score']| weighte : [1.0, 0.4, 1.0, 0.1, 0.3, 0.2]| NDCG@10: 0.31908| HIT@10: 0.21014\n",
    "cols : ['rec1_score', 'rec2_score', 'rec3_score', 'rec4_score', 'rec5_score', 'rec6_score']| weighte : [1.0, 0.4, 0.9, 0.1, 0.3, 0.2]| NDCG@10: 0.31957| HIT@10: 0.21027\n",
    "cols : ['rec1_score', 'rec2_score', 'rec3_score', 'rec4_score', 'rec5_score', 'rec6_score']| weighte : [1.0, 0.4, 0.8, 0.1, 0.3, 0.2]| NDCG@10: 0.31995| HIT@10: 0.21040\n",
    "cols : ['rec1_score', 'rec2_score', 'rec3_score', 'rec4_score', 'rec5_score', 'rec6_score']| weighte : [1.0, 0.4, 0.7, 0.1, 0.3, 0.2]| NDCG@10: 0.31992| HIT@10: 0.21022\n",
    "cols : ['rec1_score', 'rec2_score', 'rec3_score', 'rec4_score', 'rec5_score', 'rec6_score']| weighte : [1.0, 0.4, 0.6, 0.1, 0.3, 0.2]| NDCG@10: 0.32010| HIT@10: 0.21036\n",
    "cols : ['rec1_score', 'rec2_score', 'rec3_score', 'rec4_score', 'rec5_score', 'rec6_score']| weighte : [1.0, 0.4, 0.5, 0.1, 0.3, 0.2]| NDCG@10: 0.31996| HIT@10: 0.21033\n",
    "cols : ['rec1_score', 'rec2_score', 'rec3_score', 'rec4_score', 'rec5_score', 'rec6_score']| weighte : [1.0, 0.4, 0.4, 0.1, 0.3, 0.2]| NDCG@10: 0.31992| HIT@10: 0.21044\n",
    "cols : ['rec1_score', 'rec2_score', 'rec3_score', 'rec4_score', 'rec5_score', 'rec6_score']| weighte : [1.0, 0.4, 0.3, 0.1, 0.3, 0.2]| NDCG@10: 0.31947| HIT@10: 0.21024\n",
    "cols : ['rec1_score', 'rec2_score', 'rec3_score', 'rec4_score', 'rec5_score', 'rec6_score']| weighte : [1.0, 0.4, 0.2, 0.1, 0.3, 0.2]| NDCG@10: 0.31892| HIT@10: 0.20997\n",
    "cols : ['rec1_score', 'rec2_score', 'rec3_score', 'rec4_score', 'rec5_score', 'rec6_score']| weighte : [1.0, 0.4, 0.1, 0.1, 0.3, 0.2]| NDCG@10: 0.31806| HIT@10: 0.20938\n",
    "BEST cols : ['rec1_score', 'rec2_score', 'rec3_score', 'rec4_score', 'rec5_score', 'rec6_score']| weighte : [1.0, 0.4, 0.4, 0.1, 0.3, 0.2]| NDCG@10: 0.31992| HIT@10: 0.21044\n",
    "\n",
    "\n",
    "cols : ['rec1_score', 'rec2_score']| weighte : [1.0, 1.0]| NDCG@10: 0.31060| HIT@10: 0.20423\n",
    "cols : ['rec1_score', 'rec2_score']| weighte : [1.0, 0.9]| NDCG@10: 0.31086| HIT@10: 0.20416\n",
    "cols : ['rec1_score', 'rec2_score']| weighte : [1.0, 0.8]| NDCG@10: 0.31102| HIT@10: 0.20427\n",
    "cols : ['rec1_score', 'rec2_score']| weighte : [1.0, 0.7]| NDCG@10: 0.31112| HIT@10: 0.20438\n",
    "cols : ['rec1_score', 'rec2_score']| weighte : [1.0, 0.6]| NDCG@10: 0.31103| HIT@10: 0.20430\n",
    "cols : ['rec1_score', 'rec2_score']| weighte : [1.0, 0.5]| NDCG@10: 0.31124| HIT@10: 0.20434\n",
    "cols : ['rec1_score', 'rec2_score']| weighte : [1.0, 0.4]| NDCG@10: 0.31130| HIT@10: 0.20438\n",
    "cols : ['rec1_score', 'rec2_score']| weighte : [1.0, 0.3]| NDCG@10: 0.31121| HIT@10: 0.20433\n",
    "cols : ['rec1_score', 'rec2_score']| weighte : [1.0, 0.2]| NDCG@10: 0.31117| HIT@10: 0.20435\n",
    "cols : ['rec1_score', 'rec2_score']| weighte : [1.0, 0.1]| NDCG@10: 0.31076| HIT@10: 0.20401\n",
    "BEST cols : ['rec1_score', 'rec2_score']| weighte : [1.0, 0.4]| NDCG@10: 0.31130| HIT@10: 0.20438\n",
    "\n",
    "\n",
    "cols : ['rec1_score', 'rec2_score', 'rec3_score']| weighte : [1.0, 0.4, 1.0]| NDCG@10: 0.31716| HIT@10: 0.20921\n",
    "cols : ['rec1_score', 'rec2_score', 'rec3_score']| weighte : [1.0, 0.4, 0.9]| NDCG@10: 0.31770| HIT@10: 0.20940\n",
    "cols : ['rec1_score', 'rec2_score', 'rec3_score']| weighte : [1.0, 0.4, 0.8]| NDCG@10: 0.31789| HIT@10: 0.20956\n",
    "cols : ['rec1_score', 'rec2_score', 'rec3_score']| weighte : [1.0, 0.4, 0.7]| NDCG@10: 0.31788| HIT@10: 0.20950\n",
    "cols : ['rec1_score', 'rec2_score', 'rec3_score']| weighte : [1.0, 0.4, 0.6]| NDCG@10: 0.31790| HIT@10: 0.20939\n",
    "cols : ['rec1_score', 'rec2_score', 'rec3_score']| weighte : [1.0, 0.4, 0.5]| NDCG@10: 0.31738| HIT@10: 0.20897\n",
    "cols : ['rec1_score', 'rec2_score', 'rec3_score']| weighte : [1.0, 0.4, 0.4]| NDCG@10: 0.31655| HIT@10: 0.20827\n",
    "cols : ['rec1_score', 'rec2_score', 'rec3_score']| weighte : [1.0, 0.4, 0.3]| NDCG@10: 0.31571| HIT@10: 0.20768\n",
    "cols : ['rec1_score', 'rec2_score', 'rec3_score']| weighte : [1.0, 0.4, 0.2]| NDCG@10: 0.31464| HIT@10: 0.20701\n",
    "cols : ['rec1_score', 'rec2_score', 'rec3_score']| weighte : [1.0, 0.4, 0.1]| NDCG@10: 0.31317| HIT@10: 0.20593\n",
    "BEST cols : ['rec1_score', 'rec2_score', 'rec3_score']| weighte : [1.0, 0.4, 0.8]| NDCG@10: 0.31789| HIT@10: 0.20956\n",
    "\n",
    "\n",
    "cols : ['rec1_score', 'rec2_score', 'rec3_score', 'rec4_score']| weighte : [1.0, 0.4, 0.8, 1.0]| NDCG@10: 0.31056| HIT@10: 0.20408\n",
    "cols : ['rec1_score', 'rec2_score', 'rec3_score', 'rec4_score']| weighte : [1.0, 0.4, 0.8, 0.9]| NDCG@10: 0.31171| HIT@10: 0.20482\n",
    "cols : ['rec1_score', 'rec2_score', 'rec3_score', 'rec4_score']| weighte : [1.0, 0.4, 0.8, 0.8]| NDCG@10: 0.31265| HIT@10: 0.20543\n",
    "cols : ['rec1_score', 'rec2_score', 'rec3_score', 'rec4_score']| weighte : [1.0, 0.4, 0.8, 0.7]| NDCG@10: 0.31363| HIT@10: 0.20602\n",
    "cols : ['rec1_score', 'rec2_score', 'rec3_score', 'rec4_score']| weighte : [1.0, 0.4, 0.8, 0.6]| NDCG@10: 0.31465| HIT@10: 0.20672\n",
    "cols : ['rec1_score', 'rec2_score', 'rec3_score', 'rec4_score']| weighte : [1.0, 0.4, 0.8, 0.5]| NDCG@10: 0.31570| HIT@10: 0.20752\n",
    "cols : ['rec1_score', 'rec2_score', 'rec3_score', 'rec4_score']| weighte : [1.0, 0.4, 0.8, 0.4]| NDCG@10: 0.31650| HIT@10: 0.20812\n",
    "cols : ['rec1_score', 'rec2_score', 'rec3_score', 'rec4_score']| weighte : [1.0, 0.4, 0.8, 0.3]| NDCG@10: 0.31727| HIT@10: 0.20872\n",
    "cols : ['rec1_score', 'rec2_score', 'rec3_score', 'rec4_score']| weighte : [1.0, 0.4, 0.8, 0.2]| NDCG@10: 0.31779| HIT@10: 0.20912\n",
    "cols : ['rec1_score', 'rec2_score', 'rec3_score', 'rec4_score']| weighte : [1.0, 0.4, 0.8, 0.1]| NDCG@10: 0.31793| HIT@10: 0.20937\n",
    "BEST cols : ['rec1_score', 'rec2_score', 'rec3_score', 'rec4_score']| weighte : [1.0, 0.4, 0.8, 0.1]| NDCG@10: 0.31793| HIT@10: 0.20937\n",
    "\n",
    "\n",
    "cols : ['rec1_score', 'rec2_score', 'rec3_score', 'rec4_score', 'rec5_score']| weighte : [1.0, 0.4, 0.8, 0.1, 1.0]| NDCG@10: 0.31535| HIT@10: 0.20741\n",
    "cols : ['rec1_score', 'rec2_score', 'rec3_score', 'rec4_score', 'rec5_score']| weighte : [1.0, 0.4, 0.8, 0.1, 0.9]| NDCG@10: 0.31616| HIT@10: 0.20772\n",
    "cols : ['rec1_score', 'rec2_score', 'rec3_score', 'rec4_score', 'rec5_score']| weighte : [1.0, 0.4, 0.8, 0.1, 0.8]| NDCG@10: 0.31695| HIT@10: 0.20824\n",
    "cols : ['rec1_score', 'rec2_score', 'rec3_score', 'rec4_score', 'rec5_score']| weighte : [1.0, 0.4, 0.8, 0.1, 0.7]| NDCG@10: 0.31779| HIT@10: 0.20880\n",
    "cols : ['rec1_score', 'rec2_score', 'rec3_score', 'rec4_score', 'rec5_score']| weighte : [1.0, 0.4, 0.8, 0.1, 0.6]| NDCG@10: 0.31865| HIT@10: 0.20948\n",
    "cols : ['rec1_score', 'rec2_score', 'rec3_score', 'rec4_score', 'rec5_score']| weighte : [1.0, 0.4, 0.8, 0.1, 0.5]| NDCG@10: 0.31901| HIT@10: 0.20959\n",
    "cols : ['rec1_score', 'rec2_score', 'rec3_score', 'rec4_score', 'rec5_score']| weighte : [1.0, 0.4, 0.8, 0.1, 0.4]| NDCG@10: 0.31922| HIT@10: 0.20979\n",
    "cols : ['rec1_score', 'rec2_score', 'rec3_score', 'rec4_score', 'rec5_score']| weighte : [1.0, 0.4, 0.8, 0.1, 0.3]| NDCG@10: 0.31934| HIT@10: 0.21005\n",
    "cols : ['rec1_score', 'rec2_score', 'rec3_score', 'rec4_score', 'rec5_score']| weighte : [1.0, 0.4, 0.8, 0.1, 0.2]| NDCG@10: 0.31904| HIT@10: 0.20992\n",
    "cols : ['rec1_score', 'rec2_score', 'rec3_score', 'rec4_score', 'rec5_score']| weighte : [1.0, 0.4, 0.8, 0.1, 0.1]| NDCG@10: 0.31868| HIT@10: 0.20984\n",
    "BEST cols : ['rec1_score', 'rec2_score', 'rec3_score', 'rec4_score', 'rec5_score']| weighte : [1.0, 0.4, 0.8, 0.1, 0.3]| NDCG@10: 0.31934| HIT@10: 0.21005\n",
    "\n",
    "\n",
    "cols : ['rec1_score', 'rec2_score', 'rec3_score', 'rec4_score', 'rec5_score', 'rec6_score']| weighte : [1.0, 0.4, 0.8, 0.1, 0.3, 1.0]| NDCG@10: 0.31550| HIT@10: 0.20783\n",
    "cols : ['rec1_score', 'rec2_score', 'rec3_score', 'rec4_score', 'rec5_score', 'rec6_score']| weighte : [1.0, 0.4, 0.8, 0.1, 0.3, 0.9]| NDCG@10: 0.31628| HIT@10: 0.20822\n",
    "cols : ['rec1_score', 'rec2_score', 'rec3_score', 'rec4_score', 'rec5_score', 'rec6_score']| weighte : [1.0, 0.4, 0.8, 0.1, 0.3, 0.8]| NDCG@10: 0.31712| HIT@10: 0.20865\n",
    "cols : ['rec1_score', 'rec2_score', 'rec3_score', 'rec4_score', 'rec5_score', 'rec6_score']| weighte : [1.0, 0.4, 0.8, 0.1, 0.3, 0.7]| NDCG@10: 0.31775| HIT@10: 0.20901\n",
    "cols : ['rec1_score', 'rec2_score', 'rec3_score', 'rec4_score', 'rec5_score', 'rec6_score']| weighte : [1.0, 0.4, 0.8, 0.1, 0.3, 0.6]| NDCG@10: 0.31852| HIT@10: 0.20945\n",
    "cols : ['rec1_score', 'rec2_score', 'rec3_score', 'rec4_score', 'rec5_score', 'rec6_score']| weighte : [1.0, 0.4, 0.8, 0.1, 0.3, 0.5]| NDCG@10: 0.31896| HIT@10: 0.20970\n",
    "cols : ['rec1_score', 'rec2_score', 'rec3_score', 'rec4_score', 'rec5_score', 'rec6_score']| weighte : [1.0, 0.4, 0.8, 0.1, 0.3, 0.4]| NDCG@10: 0.31941| HIT@10: 0.20996\n",
    "cols : ['rec1_score', 'rec2_score', 'rec3_score', 'rec4_score', 'rec5_score', 'rec6_score']| weighte : [1.0, 0.4, 0.8, 0.1, 0.3, 0.3]| NDCG@10: 0.31973| HIT@10: 0.21019\n",
    "cols : ['rec1_score', 'rec2_score', 'rec3_score', 'rec4_score', 'rec5_score', 'rec6_score']| weighte : [1.0, 0.4, 0.8, 0.1, 0.3, 0.2]| NDCG@10: 0.31995| HIT@10: 0.21040\n",
    "cols : ['rec1_score', 'rec2_score', 'rec3_score', 'rec4_score', 'rec5_score', 'rec6_score']| weighte : [1.0, 0.4, 0.8, 0.1, 0.3, 0.1]| NDCG@10: 0.31965| HIT@10: 0.21022\n",
    "BEST cols : ['rec1_score', 'rec2_score', 'rec3_score', 'rec4_score', 'rec5_score', 'rec6_score']| weighte : [1.0, 0.4, 0.8, 0.1, 0.3, 0.2]| NDCG@10: 0.31995| HIT@10: 0.21040\n",
    "\n",
    "```"
   ]
  },
  {
   "cell_type": "code",
   "execution_count": null,
   "metadata": {},
   "outputs": [],
   "source": [
    "df = total_evaluate(\n",
    "    model1 = model1,\n",
    "    model2 = model2,\n",
    "    RecVAE = model3,\n",
    "    AutoRec = model4,\n",
    "    MultiDAE = model5,\n",
    "    MultiVAE = model6,\n",
    "    X = X.todense(),\n",
    "    user_train = user_train,\n",
    "    user_valid = user_valid,\n",
    "    candidate_cnt = 10,\n",
    "    )"
   ]
  },
  {
   "cell_type": "code",
   "execution_count": 50,
   "metadata": {},
   "outputs": [
    {
     "data": {
      "text/html": [
       "<div>\n",
       "<style scoped>\n",
       "    .dataframe tbody tr th:only-of-type {\n",
       "        vertical-align: middle;\n",
       "    }\n",
       "\n",
       "    .dataframe tbody tr th {\n",
       "        vertical-align: top;\n",
       "    }\n",
       "\n",
       "    .dataframe thead th {\n",
       "        text-align: right;\n",
       "    }\n",
       "</style>\n",
       "<table border=\"1\" class=\"dataframe\">\n",
       "  <thead>\n",
       "    <tr style=\"text-align: right;\">\n",
       "      <th></th>\n",
       "      <th>user</th>\n",
       "      <th>len</th>\n",
       "      <th>rec1</th>\n",
       "      <th>rec2</th>\n",
       "      <th>rec3</th>\n",
       "      <th>rec4</th>\n",
       "      <th>rec5</th>\n",
       "      <th>rec6</th>\n",
       "      <th>rec123456</th>\n",
       "      <th>total_val</th>\n",
       "      <th>total_name</th>\n",
       "    </tr>\n",
       "  </thead>\n",
       "  <tbody>\n",
       "    <tr>\n",
       "      <th>0</th>\n",
       "      <td>0</td>\n",
       "      <td>27</td>\n",
       "      <td>0.3</td>\n",
       "      <td>0.3</td>\n",
       "      <td>0.2</td>\n",
       "      <td>0.2</td>\n",
       "      <td>0.2</td>\n",
       "      <td>0.2</td>\n",
       "      <td>0.5</td>\n",
       "      <td>0.3</td>\n",
       "      <td>rec1</td>\n",
       "    </tr>\n",
       "    <tr>\n",
       "      <th>1</th>\n",
       "      <td>1</td>\n",
       "      <td>23</td>\n",
       "      <td>0.1</td>\n",
       "      <td>0.1</td>\n",
       "      <td>0.2</td>\n",
       "      <td>0.1</td>\n",
       "      <td>0.1</td>\n",
       "      <td>0.1</td>\n",
       "      <td>0.2</td>\n",
       "      <td>0.2</td>\n",
       "      <td>rec3</td>\n",
       "    </tr>\n",
       "    <tr>\n",
       "      <th>2</th>\n",
       "      <td>2</td>\n",
       "      <td>22</td>\n",
       "      <td>0.3</td>\n",
       "      <td>0.3</td>\n",
       "      <td>0.3</td>\n",
       "      <td>0.3</td>\n",
       "      <td>0.2</td>\n",
       "      <td>0.1</td>\n",
       "      <td>0.3</td>\n",
       "      <td>0.3</td>\n",
       "      <td>rec1</td>\n",
       "    </tr>\n",
       "    <tr>\n",
       "      <th>3</th>\n",
       "      <td>3</td>\n",
       "      <td>19</td>\n",
       "      <td>0.3</td>\n",
       "      <td>0.3</td>\n",
       "      <td>0.2</td>\n",
       "      <td>0.2</td>\n",
       "      <td>0.2</td>\n",
       "      <td>0.2</td>\n",
       "      <td>0.4</td>\n",
       "      <td>0.3</td>\n",
       "      <td>rec1</td>\n",
       "    </tr>\n",
       "    <tr>\n",
       "      <th>4</th>\n",
       "      <td>4</td>\n",
       "      <td>23</td>\n",
       "      <td>0.4</td>\n",
       "      <td>0.3</td>\n",
       "      <td>0.4</td>\n",
       "      <td>0.3</td>\n",
       "      <td>0.5</td>\n",
       "      <td>0.4</td>\n",
       "      <td>0.5</td>\n",
       "      <td>0.5</td>\n",
       "      <td>rec5</td>\n",
       "    </tr>\n",
       "    <tr>\n",
       "      <th>...</th>\n",
       "      <td>...</td>\n",
       "      <td>...</td>\n",
       "      <td>...</td>\n",
       "      <td>...</td>\n",
       "      <td>...</td>\n",
       "      <td>...</td>\n",
       "      <td>...</td>\n",
       "      <td>...</td>\n",
       "      <td>...</td>\n",
       "      <td>...</td>\n",
       "      <td>...</td>\n",
       "    </tr>\n",
       "    <tr>\n",
       "      <th>31355</th>\n",
       "      <td>31355</td>\n",
       "      <td>17</td>\n",
       "      <td>0.2</td>\n",
       "      <td>0.4</td>\n",
       "      <td>0.2</td>\n",
       "      <td>0.2</td>\n",
       "      <td>0.2</td>\n",
       "      <td>0.2</td>\n",
       "      <td>0.4</td>\n",
       "      <td>0.4</td>\n",
       "      <td>rec2</td>\n",
       "    </tr>\n",
       "    <tr>\n",
       "      <th>31356</th>\n",
       "      <td>31356</td>\n",
       "      <td>26</td>\n",
       "      <td>0.3</td>\n",
       "      <td>0.3</td>\n",
       "      <td>0.3</td>\n",
       "      <td>0.2</td>\n",
       "      <td>0.5</td>\n",
       "      <td>0.0</td>\n",
       "      <td>0.5</td>\n",
       "      <td>0.5</td>\n",
       "      <td>rec5</td>\n",
       "    </tr>\n",
       "    <tr>\n",
       "      <th>31357</th>\n",
       "      <td>31357</td>\n",
       "      <td>21</td>\n",
       "      <td>0.2</td>\n",
       "      <td>0.3</td>\n",
       "      <td>0.2</td>\n",
       "      <td>0.1</td>\n",
       "      <td>0.1</td>\n",
       "      <td>0.1</td>\n",
       "      <td>0.3</td>\n",
       "      <td>0.3</td>\n",
       "      <td>rec2</td>\n",
       "    </tr>\n",
       "    <tr>\n",
       "      <th>31358</th>\n",
       "      <td>31358</td>\n",
       "      <td>23</td>\n",
       "      <td>0.1</td>\n",
       "      <td>0.1</td>\n",
       "      <td>0.0</td>\n",
       "      <td>0.0</td>\n",
       "      <td>0.0</td>\n",
       "      <td>0.0</td>\n",
       "      <td>0.1</td>\n",
       "      <td>0.1</td>\n",
       "      <td>rec1</td>\n",
       "    </tr>\n",
       "    <tr>\n",
       "      <th>31359</th>\n",
       "      <td>31359</td>\n",
       "      <td>35</td>\n",
       "      <td>0.0</td>\n",
       "      <td>0.2</td>\n",
       "      <td>0.1</td>\n",
       "      <td>0.0</td>\n",
       "      <td>0.1</td>\n",
       "      <td>0.0</td>\n",
       "      <td>0.2</td>\n",
       "      <td>0.2</td>\n",
       "      <td>rec2</td>\n",
       "    </tr>\n",
       "  </tbody>\n",
       "</table>\n",
       "<p>31360 rows × 11 columns</p>\n",
       "</div>"
      ],
      "text/plain": [
       "        user  len  rec1  rec2  rec3  rec4  rec5  rec6  rec123456  total_val  \\\n",
       "0          0   27   0.3   0.3   0.2   0.2   0.2   0.2        0.5        0.3   \n",
       "1          1   23   0.1   0.1   0.2   0.1   0.1   0.1        0.2        0.2   \n",
       "2          2   22   0.3   0.3   0.3   0.3   0.2   0.1        0.3        0.3   \n",
       "3          3   19   0.3   0.3   0.2   0.2   0.2   0.2        0.4        0.3   \n",
       "4          4   23   0.4   0.3   0.4   0.3   0.5   0.4        0.5        0.5   \n",
       "...      ...  ...   ...   ...   ...   ...   ...   ...        ...        ...   \n",
       "31355  31355   17   0.2   0.4   0.2   0.2   0.2   0.2        0.4        0.4   \n",
       "31356  31356   26   0.3   0.3   0.3   0.2   0.5   0.0        0.5        0.5   \n",
       "31357  31357   21   0.2   0.3   0.2   0.1   0.1   0.1        0.3        0.3   \n",
       "31358  31358   23   0.1   0.1   0.0   0.0   0.0   0.0        0.1        0.1   \n",
       "31359  31359   35   0.0   0.2   0.1   0.0   0.1   0.0        0.2        0.2   \n",
       "\n",
       "      total_name  \n",
       "0           rec1  \n",
       "1           rec3  \n",
       "2           rec1  \n",
       "3           rec1  \n",
       "4           rec5  \n",
       "...          ...  \n",
       "31355       rec2  \n",
       "31356       rec5  \n",
       "31357       rec2  \n",
       "31358       rec1  \n",
       "31359       rec2  \n",
       "\n",
       "[31360 rows x 11 columns]"
      ]
     },
     "execution_count": 50,
     "metadata": {},
     "output_type": "execute_result"
    }
   ],
   "source": [
    "# 유저들 마다 rec1 or rec2 or rec3 or ranking 등 맞는 방법에 따라사 추천을 해주는 것도 좋은 방법이 될 수 있음\n",
    "\n",
    "new_df = pd.DataFrame(df)\n",
    "\n",
    "def get_total_name(x):\n",
    "    val_list = [x['rec1'], x['rec2'], x['rec3'], x['rec4'], x['rec5'] , x['rec6']]\n",
    "    max_val = max(val_list)\n",
    "    val_idx = val_list.index(max_val)\n",
    "    if val_idx == 0 : return 'rec1'\n",
    "    elif val_idx == 1 : return 'rec2'\n",
    "    elif val_idx == 2 : return 'rec3'\n",
    "    elif val_idx == 3 : return 'rec4'\n",
    "    elif val_idx == 4 : return 'rec5'\n",
    "    elif val_idx == 5 : return 'rec6'\n",
    "\n",
    "new_df['total_val'] = new_df.apply(lambda x: max(x['rec1'], x['rec2'], x['rec3'], x['rec4'], x['rec5'] , x['rec6']), axis = 1)\n",
    "new_df['total_name'] = new_df.apply(lambda x: get_total_name(x), axis = 1)\n",
    "new_df"
   ]
  },
  {
   "cell_type": "code",
   "execution_count": 51,
   "metadata": {},
   "outputs": [
    {
     "data": {
      "image/png": "[encoded data removed]",
      "text/plain": [
       "<Figure size 1440x360 with 1 Axes>"
      ]
     },
     "metadata": {
      "needs_background": "light"
     },
     "output_type": "display_data"
    }
   ],
   "source": [
    "import seaborn as sns\n",
    "import matplotlib.pyplot as plt\n",
    "\n",
    "plt.figure(figsize = (20, 5))\n",
    "sns.histplot(data = new_df[[\"rec1\", \"rec2\", \"rec3\", \"rec4\", \"rec5\", \"rec6\", 'rec123456', 'total_val']])\n",
    "plt.show()"
   ]
  },
  {
   "cell_type": "code",
   "execution_count": 52,
   "metadata": {},
   "outputs": [
    {
     "data": {
      "text/plain": [
       "rec1    16391\n",
       "rec3     4737\n",
       "rec2     3913\n",
       "rec5     2433\n",
       "rec4     2162\n",
       "rec6     1724\n",
       "Name: total_name, dtype: int64"
      ]
     },
     "execution_count": 52,
     "metadata": {},
     "output_type": "execute_result"
    }
   ],
   "source": [
    "new_df['total_name'].value_counts()"
   ]
  },
  {
   "cell_type": "code",
   "execution_count": 53,
   "metadata": {},
   "outputs": [
    {
     "data": {
      "text/plain": [
       "user         15679.500000\n",
       "len             24.823884\n",
       "rec1             0.203839\n",
       "rec2             0.200207\n",
       "rec3             0.192140\n",
       "rec4             0.174758\n",
       "rec5             0.172388\n",
       "rec6             0.174767\n",
       "rec123456        0.313935\n",
       "total_val        0.263115\n",
       "dtype: float64"
      ]
     },
     "execution_count": 53,
     "metadata": {},
     "output_type": "execute_result"
    }
   ],
   "source": [
    "new_df.mean()"
   ]
  },
  {
   "cell_type": "code",
   "execution_count": 26,
   "metadata": {},
   "outputs": [],
   "source": [
    "# users = np.concatenate([np.repeat(i, 6807) for i in range(31360)])\n",
    "\n",
    "# model1_score = model1.pred.sigmoid().cpu().numpy().reshape(-1)\n",
    "\n",
    "# model2_score = model2.pred.T.sigmoid().cpu().numpy().reshape(-1)\n",
    "\n",
    "# model3_score = model3(torch.from_numpy(X.todense()).to(device), calculate_loss = False).sigmoid().cpu().detach().numpy().reshape(-1)\n",
    "\n",
    "# model4_score = model4(torch.from_numpy(X.todense()).to(device)).sigmoid().cpu().detach().numpy().reshape(-1)\n",
    "\n",
    "# model5_score = model5(torch.from_numpy(X.todense()).to(device)).sigmoid().cpu().detach().numpy().reshape(-1)\n",
    "\n",
    "# model6_score, _, _ = model6(torch.from_numpy(X.todense()).to(device))\n",
    "# model6_score = model6_score.sigmoid().cpu().detach().numpy().reshape(-1)\n",
    "\n",
    "# X_df = np.concatenate([\n",
    "#     users.reshape(-1, 1), \n",
    "#     model1_score.reshape(-1, 1), \n",
    "#     model2_score.reshape(-1, 1), \n",
    "#     model3_score.reshape(-1, 1), \n",
    "#     model4_score.reshape(-1, 1), \n",
    "#     model5_score.reshape(-1, 1),\n",
    "#     model6_score.reshape(-1, 1)], axis = 1)\n",
    "\n",
    "# y_df = X.toarray().reshape(-1)"
   ]
  },
  {
   "cell_type": "code",
   "execution_count": 13,
   "metadata": {},
   "outputs": [],
   "source": [
    "# genre = pd.read_csv(os.path.join(config.data_path, 'genres.tsv'), sep='\\t')\n",
    "# genre['genres'] = 1\n",
    "# genre['item_idx'] = genre['item'].apply(lambda x : make_matrix_data_set.item_encoder[x])\n",
    "# genre = pd.pivot_table(genre, values='genres', index=['item_idx'], columns=['genre'], aggfunc=np.sum, fill_value=0).values"
   ]
  },
  {
   "cell_type": "code",
   "execution_count": 29,
   "metadata": {},
   "outputs": [
    {
     "name": "stderr",
     "output_type": "stream",
     "text": [
      "31360it [16:22, 31.93it/s]"
     ]
    },
    {
     "name": "stdout",
     "output_type": "stream",
     "text": [
      "candidate_cnt: 10| NDCG@10: 0.17573| HIT@10: 0.13605\n"
     ]
    },
    {
     "name": "stderr",
     "output_type": "stream",
     "text": [
      "\n"
     ]
    }
   ],
   "source": [
    "# candidate_cnt = 10\n",
    "\n",
    "# ndcg, hit = evaluate(\n",
    "#             model1 = model1, \n",
    "#             model2 = model2, \n",
    "#             RecVAE = model3,\n",
    "#             AutoRec = model4,\n",
    "#             MultiDAE = model5,\n",
    "#             MultiVAE = model6,\n",
    "#             X_df = X_df, \n",
    "#             y_df = y_df,\n",
    "#             X = X.todense(),\n",
    "#             user_train = user_train, \n",
    "#             user_valid = user_valid, \n",
    "#             candidate_cnt = candidate_cnt)\n",
    "\n",
    "# print(f'candidate_cnt: {candidate_cnt}| NDCG@10: {ndcg:.5f}| HIT@10: {hit:.5f}')"
   ]
  },
  {
   "cell_type": "code",
   "execution_count": null,
   "metadata": {},
   "outputs": [],
   "source": [
    "# for candidate_cnt in [5 * i for i in range(3, 21)]:\n",
    "#     ndcg, hit = evaluate(\n",
    "#             model1 = model1, \n",
    "#             model2 = model2, \n",
    "#             RecVAE = model3,\n",
    "#             X_df = X_df,\n",
    "#             y_df = y_df,\n",
    "#             X = X.todense(),\n",
    "#             user_train = user_train, \n",
    "#             user_valid = user_valid, \n",
    "#             candidate_cnt = candidate_cnt)\n",
    "\n",
    "#     print(f'candidate_cnt: {candidate_cnt}| NDCG@10: {ndcg:.5f}| HIT@10: {hit:.5f}')"
   ]
  },
  {
   "cell_type": "code",
   "execution_count": 21,
   "metadata": {},
   "outputs": [
    {
     "name": "stderr",
     "output_type": "stream",
     "text": [
      "31360it [02:56, 177.77it/s]"
     ]
    },
    {
     "name": "stdout",
     "output_type": "stream",
     "text": [
      "candidate_cnt: 30| NDCG@10: 0.32010| HIT@10: 0.21036\n"
     ]
    },
    {
     "name": "stderr",
     "output_type": "stream",
     "text": [
      "\n"
     ]
    }
   ],
   "source": [
    "candidate_cnt = 30\n",
    "\n",
    "ndcg, hit = evaluate(\n",
    "            model1 = model1, \n",
    "            model2 = model2, \n",
    "            RecVAE = model3,\n",
    "            AutoRec = model4,\n",
    "            MultiDAE = model5,\n",
    "            MultiVAE = model6,\n",
    "            X = X.todense(),\n",
    "            user_train = user_train, \n",
    "            user_valid = user_valid, \n",
    "            candidate_cnt = candidate_cnt)\n",
    "\n",
    "print(f'candidate_cnt: {candidate_cnt}| NDCG@10: {ndcg:.5f}| HIT@10: {hit:.5f}')"
   ]
  },
  {
   "cell_type": "markdown",
   "metadata": {},
   "source": [
    "```\n",
    "NDCG@10: 0.32010| HIT@10: 0.21036\n",
    "NDCG@10: 0.31992| HIT@10: 0.21044\n",
    "```"
   ]
  },
  {
   "cell_type": "code",
   "execution_count": null,
   "metadata": {},
   "outputs": [],
   "source": [
    "for candidate_cnt in [5 * i for i in range(2, 21)]:\n",
    "    \n",
    "    ndcg, hit = evaluate(\n",
    "                model1 = model1,\n",
    "                model2 = model2, \n",
    "                RecVAE = model3,\n",
    "                AutoRec = model4,\n",
    "                MultiDAE = model5,\n",
    "                MultiVAE = model6,\n",
    "                X = X.todense(),\n",
    "                user_train = user_train, \n",
    "                user_valid = user_valid, \n",
    "                candidate_cnt = candidate_cnt)\n",
    "\n",
    "    print(f'candidate_cnt: {candidate_cnt}| NDCG@10: {ndcg:.5f}| HIT@10: {hit:.5f}')"
   ]
  },
  {
   "cell_type": "markdown",
   "metadata": {},
   "source": [
    "```\n",
    "6개 모델+ log2(rank + 1) + weighted Ensemble [1.0, 0.4, 0.4, 0.1, 0.3, 0.2]\n",
    "\n",
    "candidate_cnt: 10| NDCG@10: 0.31722| HIT@10: 0.20723\n",
    "candidate_cnt: 15| NDCG@10: 0.31909| HIT@10: 0.20935\n",
    "candidate_cnt: 20| NDCG@10: 0.31977| HIT@10: 0.21020\n",
    "candidate_cnt: 25| NDCG@10: 0.31992| HIT@10: 0.21041\n",
    "candidate_cnt: 30| NDCG@10: 0.31992| HIT@10: 0.21044\n",
    "candidate_cnt: 35| NDCG@10: 0.31977| HIT@10: 0.21030\n",
    "\n",
    "```"
   ]
  },
  {
   "cell_type": "markdown",
   "metadata": {},
   "source": [
    "```\n",
    "6개 모델+ log2(rank + 1) + weighted Ensemble (0.25, 0.25, 0.2, 0.1, 0.1, 0.1)\n",
    "candidate_cnt: 10| NDCG@10: 0.31753| HIT@10: 0.20782\n",
    "candidate_cnt: 15| NDCG@10: 0.31839| HIT@10: 0.20871\n",
    "candidate_cnt: 20| NDCG@10: 0.31884| HIT@10: 0.20924\n",
    "candidate_cnt: 25| NDCG@10: 0.31889| HIT@10: 0.20930\n",
    "candidate_cnt: 30| NDCG@10: 0.31911| HIT@10: 0.20956\n",
    "candidate_cnt: 35| NDCG@10: 0.31907| HIT@10: 0.20955\n",
    "candidate_cnt: 40| NDCG@10: 0.31901| HIT@10: 0.20949\n",
    "```"
   ]
  },
  {
   "cell_type": "markdown",
   "metadata": {},
   "source": [
    "```\n",
    "6개 모델 + voting\n",
    "candidate_cnt: 10| NDCG@10: 0.29867| HIT@10: 0.20497\n",
    "candidate_cnt: 15| NDCG@10: 0.28563| HIT@10: 0.20339\n",
    "candidate_cnt: 20| NDCG@10: 0.27253| HIT@10: 0.19996\n",
    "candidate_cnt: 25| NDCG@10: 0.25738| HIT@10: 0.19344\n",
    "candidate_cnt: 30| NDCG@10: 0.24171| HIT@10: 0.18377\n",
    "candidate_cnt: 35| NDCG@10: 0.22492| HIT@10: 0.17286\n",
    "candidate_cnt: 40| NDCG@10: 0.20953| HIT@10: 0.16214\n",
    "```"
   ]
  },
  {
   "cell_type": "markdown",
   "metadata": {},
   "source": [
    "```\n",
    "6개 모델 + log2(rank + 1)\n",
    "\n",
    "candidate_cnt: 10| NDCG@10: 0.30926| HIT@10: 0.20194\n",
    "candidate_cnt: 15| NDCG@10: 0.31167| HIT@10: 0.20401\n",
    "candidate_cnt: 20| NDCG@10: 0.31282| HIT@10: 0.20501\n",
    "candidate_cnt: 25| NDCG@10: 0.31330| HIT@10: 0.20542\n",
    "candidate_cnt: 30| NDCG@10: 0.31366| HIT@10: 0.20572\n",
    "candidate_cnt: 35| NDCG@10: 0.31382| HIT@10: 0.20584\n",
    "candidate_cnt: 40| NDCG@10: 0.31397| HIT@10: 0.20594\n",
    "candidate_cnt: 45| NDCG@10: 0.31408| HIT@10: 0.20603\n",
    "candidate_cnt: 50| NDCG@10: 0.31416| HIT@10: 0.20611\n",
    "candidate_cnt: 55| NDCG@10: 0.31422| HIT@10: 0.20613\n",
    "candidate_cnt: 60| NDCG@10: 0.31427| HIT@10: 0.20618\n",
    "candidate_cnt: 65| NDCG@10: 0.31430| HIT@10: 0.20620\n",
    "candidate_cnt: 70| NDCG@10: 0.31435| HIT@10: 0.20623\n",
    "candidate_cnt: 75| NDCG@10: 0.31435| HIT@10: 0.20624\n",
    "candidate_cnt: 80| NDCG@10: 0.31438| HIT@10: 0.20627\n",
    "\n",
    "```"
   ]
  },
  {
   "cell_type": "markdown",
   "metadata": {},
   "source": [
    "```\n",
    "EASE2개 + RecVAE-v3 + log2(rank + 1)\n",
    "candidate_cnt: 10| NDCG@10: 0.31412| HIT@10: 0.20595\n",
    "candidate_cnt: 15| NDCG@10: 0.31573| HIT@10: 0.20745\n",
    "candidate_cnt: 20| NDCG@10: 0.31644| HIT@10: 0.20807\n",
    "candidate_cnt: 25| NDCG@10: 0.31687| HIT@10: 0.20851\n",
    "candidate_cnt: 30| NDCG@10: 0.31696| HIT@10: 0.20863\n",
    "candidate_cnt: 35| NDCG@10: 0.31708| HIT@10: 0.20872\n",
    "candidate_cnt: 40| NDCG@10: 0.31712| HIT@10: 0.20878\n",
    "candidate_cnt: 45| NDCG@10: 0.31717| HIT@10: 0.20882\n",
    "candidate_cnt: 50| NDCG@10: 0.31723| HIT@10: 0.20886\n",
    "candidate_cnt: 55| NDCG@10: 0.31723| HIT@10: 0.20884\n",
    "candidate_cnt: 60| NDCG@10: 0.31726| HIT@10: 0.20887\n",
    "candidate_cnt: 65| NDCG@10: 0.31729| HIT@10: 0.20888\n",
    "candidate_cnt: 70| NDCG@10: 0.31727| HIT@10: 0.20887\n",
    "candidate_cnt: 75| NDCG@10: 0.31730| HIT@10: 0.20889\n",
    "candidate_cnt: 80| NDCG@10: 0.31730| HIT@10: 0.20890\n",
    "candidate_cnt: 85| NDCG@10: 0.31733| HIT@10: 0.20888\n",
    "\n",
    "```"
   ]
  },
  {
   "cell_type": "markdown",
   "metadata": {},
   "source": [
    "```\n",
    "EASE2개 + RecVAE-v5 + log2(rank + 1)\n",
    "candidate_cnt: 10| NDCG@10: 0.31372| HIT@10: 0.20602\n",
    "candidate_cnt: 15| NDCG@10: 0.31518| HIT@10: 0.20735\n",
    "candidate_cnt: 20| NDCG@10: 0.31569| HIT@10: 0.20779\n",
    "candidate_cnt: 25| NDCG@10: 0.31605| HIT@10: 0.20812\n",
    "candidate_cnt: 30| NDCG@10: 0.31616| HIT@10: 0.20822\n",
    "candidate_cnt: 35| NDCG@10: 0.31627| HIT@10: 0.20833\n",
    "candidate_cnt: 40| NDCG@10: 0.31636| HIT@10: 0.20843\n",
    "candidate_cnt: 45| NDCG@10: 0.31643| HIT@10: 0.20846\n",
    "candidate_cnt: 50| NDCG@10: 0.31644| HIT@10: 0.20848\n",
    "candidate_cnt: 55| NDCG@10: 0.31653| HIT@10: 0.20854\n",
    "candidate_cnt: 60| NDCG@10: 0.31657| HIT@10: 0.20857\n",
    "candidate_cnt: 65| NDCG@10: 0.31652| HIT@10: 0.20856\n",
    "candidate_cnt: 70| NDCG@10: 0.31653| HIT@10: 0.20856\n",
    "candidate_cnt: 75| NDCG@10: 0.31651| HIT@10: 0.20855\n",
    "candidate_cnt: 80| NDCG@10: 0.31658| HIT@10: 0.20858\n",
    "candidate_cnt: 85| NDCG@10: 0.31660| HIT@10: 0.20859\n",
    "candidate_cnt: 90| NDCG@10: 0.31658| HIT@10: 0.20860\n",
    "candidate_cnt: 95| NDCG@10: 0.31662| HIT@10: 0.20862\n",
    "candidate_cnt: 100| NDCG@10: 0.31658| HIT@10: 0.20861\n",
    "\n",
    "```"
   ]
  },
  {
   "cell_type": "markdown",
   "metadata": {},
   "source": [
    "```\n",
    "candidate_cnt: 10| NDCG@10: 0.31372| HIT@10: 0.20602\n",
    "```"
   ]
  },
  {
   "cell_type": "markdown",
   "metadata": {},
   "source": [
    "```\n",
    "none + logistic\n",
    "\n",
    "candidate_cnt: 10| NDCG@10: 0.31411| HIT@10: 0.20686\n",
    "```\n",
    "\n",
    "```\n",
    "sigmoid + logistic\n",
    "\n",
    "candidate_cnt: 10| NDCG@10: 0.31568| HIT@10: 0.20702\n",
    "```\n",
    "\n",
    "```\n",
    "softmax + logistic\n",
    "\n",
    "candidate_cnt: 10| NDCG@10: 0.28598| HIT@10: 0.19227\n",
    "```\n",
    "\n",
    "```\n",
    "none + sum\n",
    "\n",
    "candidate_cnt: 10| NDCG@10: 0.31381| HIT@10: 0.20633\n",
    "```\n",
    "\n",
    "```\n",
    "sigmoid + sum\n",
    "\n",
    "candidate_cnt: 10| NDCG@10: 0.31469| HIT@10: 0.20636\n",
    "```"
   ]
  },
  {
   "cell_type": "markdown",
   "metadata": {},
   "source": [
    "[147, 197, 188, 313, 228, 273, 189, 114, 42, 242]\n",
    "\n",
    "```\n",
    "non softmax\n",
    "\n",
    "score  genre_score  total_score\n",
    "197   0.902873     0.411256     1.314129\n",
    "42    0.815624     0.411256     1.226880\n",
    "933   0.981398     0.172427     1.153824\n",
    "718   0.671753     0.402721     1.074474\n",
    "484   0.923667     0.149443     1.073110\n",
    "376   0.883676     0.173539     1.057215\n",
    "667   0.919388     0.097644     1.017032\n",
    "650   0.855481     0.151946     1.007427\n",
    "2200  0.878635     0.125442     1.004077\n",
    "714   0.719053     0.210817     0.929870\n",
    "1844  0.698690     0.226953     0.925643\n",
    "273   0.810516     0.097710     0.908226\n",
    "760   0.763495     0.036601     0.800096\n",
    "313   0.766302     0.027069     0.793371\n",
    "777   0.641927     0.142652     0.784579\n",
    "228   0.733693     0.044058     0.777750\n",
    "734   0.738835     0.031143     0.769978\n",
    "1354  0.438386     0.122450     0.560836\n",
    "\n",
    "```\n",
    "\n",
    "\n",
    "```\n",
    "softmax\n",
    "\n",
    "\n",
    "score  genre_score  total_score\n",
    "197   0.053804     0.411256     0.465060\n",
    "42    0.053799     0.411256     0.465055\n",
    "718   0.053844     0.402721     0.456565\n",
    "1844  0.053790     0.226953     0.280743\n",
    "714   0.053817     0.210817     0.264634\n",
    "376   0.053824     0.173539     0.227363\n",
    "933   0.053912     0.172427     0.226339\n",
    "650   0.053820     0.151946     0.205766\n",
    "484   0.053827     0.149443     0.203270\n",
    "777   0.053828     0.142652     0.196481\n",
    "2200  0.053810     0.125442     0.179252\n",
    "1354  0.053825     0.122450     0.176275\n",
    "273   0.053800     0.097710     0.151510\n",
    "667   0.053807     0.097644     0.151450\n",
    "228   0.053814     0.044058     0.097871\n",
    "760   0.053811     0.036601     0.090412\n",
    "734   0.053804     0.031143     0.084947\n",
    "313   0.053817     0.027069     0.080885\n",
    "\n",
    "```"
   ]
  },
  {
   "cell_type": "markdown",
   "metadata": {},
   "source": [
    "## 6. 예측"
   ]
  },
  {
   "cell_type": "code",
   "execution_count": 22,
   "metadata": {},
   "outputs": [],
   "source": [
    "make_matrix_data_set = MakeMatrixDataSet(config = config)\n",
    "X_test = make_matrix_data_set.make_sparse_matrix(test = True)"
   ]
  },
  {
   "cell_type": "code",
   "execution_count": 23,
   "metadata": {},
   "outputs": [],
   "source": [
    "model1 = EASE(X = X_test, reg = 750)\n",
    "model1.fit()"
   ]
  },
  {
   "cell_type": "code",
   "execution_count": 24,
   "metadata": {},
   "outputs": [],
   "source": [
    "model2 = EASE(X = X_test.T, reg = 4400)\n",
    "model2.fit()"
   ]
  },
  {
   "cell_type": "code",
   "execution_count": 25,
   "metadata": {},
   "outputs": [
    {
     "data": {
      "text/plain": [
       "<All keys matched successfully>"
      ]
     },
     "execution_count": 25,
     "metadata": {},
     "output_type": "execute_result"
    }
   ],
   "source": [
    "model3 = RecVAE(\n",
    "    input_dim = make_matrix_data_set.num_item,).to(device)\n",
    "\n",
    "model3.load_state_dict(torch.load(os.path.join(config.model_path, 'RecVAE_v3.pt')))"
   ]
  },
  {
   "cell_type": "code",
   "execution_count": 26,
   "metadata": {},
   "outputs": [
    {
     "data": {
      "text/plain": [
       "<All keys matched successfully>"
      ]
     },
     "execution_count": 26,
     "metadata": {},
     "output_type": "execute_result"
    }
   ],
   "source": [
    "model4 = AutoRec(\n",
    "    num = make_matrix_data_set.num_item, \n",
    "    num_factor = 64).to(device)\n",
    "\n",
    "model4.load_state_dict(torch.load(os.path.join(config.model_path, 'AutoRec_v1.pt')))"
   ]
  },
  {
   "cell_type": "code",
   "execution_count": 27,
   "metadata": {},
   "outputs": [
    {
     "data": {
      "text/plain": [
       "<All keys matched successfully>"
      ]
     },
     "execution_count": 27,
     "metadata": {},
     "output_type": "execute_result"
    }
   ],
   "source": [
    "model5 = MultiDAE(\n",
    "    p_dims = [100, 200, 400] + [make_matrix_data_set.num_item], \n",
    "    dropout_rate = 0.5).to(device)\n",
    "\n",
    "model5.load_state_dict(torch.load(os.path.join(config.model_path, 'Multi-DAE_v1.pt')))"
   ]
  },
  {
   "cell_type": "code",
   "execution_count": 28,
   "metadata": {},
   "outputs": [
    {
     "data": {
      "text/plain": [
       "<All keys matched successfully>"
      ]
     },
     "execution_count": 28,
     "metadata": {},
     "output_type": "execute_result"
    }
   ],
   "source": [
    "model6 = MultiVAE(\n",
    "    p_dims = [100, 200, 400] + [make_matrix_data_set.num_item], \n",
    "    dropout_rate = 0.5).to(device)\n",
    "\n",
    "model6.load_state_dict(torch.load(os.path.join(config.model_path, 'Multi-VAE_v1.pt')))"
   ]
  },
  {
   "cell_type": "code",
   "execution_count": 29,
   "metadata": {},
   "outputs": [
    {
     "name": "stderr",
     "output_type": "stream",
     "text": [
      "31360it [02:56, 177.81it/s]\n"
     ]
    }
   ],
   "source": [
    "user2rec_list = predict(\n",
    "    model1 = model1, \n",
    "    model2 = model2,\n",
    "    RecVAE = model3,\n",
    "    AutoRec = model4,\n",
    "    MultiDAE = model5,\n",
    "    MultiVAE = model6,\n",
    "    X = X_test.todense(),\n",
    "    candidate_cnt = 30,)\n",
    "\n",
    "submision = []\n",
    "users = [i for i in range(0, make_matrix_data_set.num_user)]\n",
    "for user in users:\n",
    "    rec_item_list = user2rec_list[user]\n",
    "    for item in rec_item_list:\n",
    "        submision.append(\n",
    "            {   \n",
    "                'user' : make_matrix_data_set.user_decoder[user],\n",
    "                'item' : make_matrix_data_set.item_decoder[item],\n",
    "            }\n",
    "        )\n",
    "\n",
    "submision = pd.DataFrame(submision)"
   ]
  },
  {
   "cell_type": "code",
   "execution_count": 30,
   "metadata": {},
   "outputs": [],
   "source": [
    "submision.to_csv(os.path.join(config.submission_path, config.submission_name), index=False)"
   ]
  },
  {
   "cell_type": "code",
   "execution_count": 31,
   "metadata": {},
   "outputs": [
    {
     "data": {
      "text/html": [
       "<div>\n",
       "<style scoped>\n",
       "    .dataframe tbody tr th:only-of-type {\n",
       "        vertical-align: middle;\n",
       "    }\n",
       "\n",
       "    .dataframe tbody tr th {\n",
       "        vertical-align: top;\n",
       "    }\n",
       "\n",
       "    .dataframe thead th {\n",
       "        text-align: right;\n",
       "    }\n",
       "</style>\n",
       "<table border=\"1\" class=\"dataframe\">\n",
       "  <thead>\n",
       "    <tr style=\"text-align: right;\">\n",
       "      <th></th>\n",
       "      <th>user</th>\n",
       "      <th>item</th>\n",
       "    </tr>\n",
       "  </thead>\n",
       "  <tbody>\n",
       "    <tr>\n",
       "      <th>0</th>\n",
       "      <td>11</td>\n",
       "      <td>4370</td>\n",
       "    </tr>\n",
       "    <tr>\n",
       "      <th>1</th>\n",
       "      <td>11</td>\n",
       "      <td>4886</td>\n",
       "    </tr>\n",
       "    <tr>\n",
       "      <th>2</th>\n",
       "      <td>11</td>\n",
       "      <td>40815</td>\n",
       "    </tr>\n",
       "    <tr>\n",
       "      <th>3</th>\n",
       "      <td>11</td>\n",
       "      <td>8961</td>\n",
       "    </tr>\n",
       "    <tr>\n",
       "      <th>4</th>\n",
       "      <td>11</td>\n",
       "      <td>7373</td>\n",
       "    </tr>\n",
       "    <tr>\n",
       "      <th>...</th>\n",
       "      <td>...</td>\n",
       "      <td>...</td>\n",
       "    </tr>\n",
       "    <tr>\n",
       "      <th>313595</th>\n",
       "      <td>138493</td>\n",
       "      <td>8970</td>\n",
       "    </tr>\n",
       "    <tr>\n",
       "      <th>313596</th>\n",
       "      <td>138493</td>\n",
       "      <td>27660</td>\n",
       "    </tr>\n",
       "    <tr>\n",
       "      <th>313597</th>\n",
       "      <td>138493</td>\n",
       "      <td>8961</td>\n",
       "    </tr>\n",
       "    <tr>\n",
       "      <th>313598</th>\n",
       "      <td>138493</td>\n",
       "      <td>589</td>\n",
       "    </tr>\n",
       "    <tr>\n",
       "      <th>313599</th>\n",
       "      <td>138493</td>\n",
       "      <td>5349</td>\n",
       "    </tr>\n",
       "  </tbody>\n",
       "</table>\n",
       "<p>313600 rows × 2 columns</p>\n",
       "</div>"
      ],
      "text/plain": [
       "          user   item\n",
       "0           11   4370\n",
       "1           11   4886\n",
       "2           11  40815\n",
       "3           11   8961\n",
       "4           11   7373\n",
       "...        ...    ...\n",
       "313595  138493   8970\n",
       "313596  138493  27660\n",
       "313597  138493   8961\n",
       "313598  138493    589\n",
       "313599  138493   5349\n",
       "\n",
       "[313600 rows x 2 columns]"
      ]
     },
     "execution_count": 31,
     "metadata": {},
     "output_type": "execute_result"
    }
   ],
   "source": [
    "submision"
   ]
  },
  {
   "cell_type": "code",
   "execution_count": null,
   "metadata": {},
   "outputs": [],
   "source": []
  }
 ],
 "metadata": {
  "interpreter": {
   "hash": "d4d1e4263499bec80672ea0156c357c1ee493ec2b1c70f0acce89fc37c4a6abe"
  },
  "kernelspec": {
   "display_name": "Python 3.8.5 ('base')",
   "language": "python",
   "name": "python3"
  },
  "language_info": {
   "codemirror_mode": {
    "name": "ipython",
    "version": 3
   },
   "file_extension": ".py",
   "mimetype": "text/x-python",
   "name": "python",
   "nbconvert_exporter": "python",
   "pygments_lexer": "ipython3",
   "version": "3.8.5"
  },
  "orig_nbformat": 4
 },
 "nbformat": 4,
 "nbformat_minor": 2
}
