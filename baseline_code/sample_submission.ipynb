{
 "cells": [
  {
   "cell_type": "markdown",
   "metadata": {},
   "source": [
    "# `train_ratings.csv` 로드해서 `MostPopular`  추천 결과 생성하기"
   ]
  },
  {
   "cell_type": "code",
   "execution_count": 15,
   "metadata": {},
   "outputs": [],
   "source": [
    "import pandas as pd\n",
    "import numpy as np\n",
    "from tqdm import tqdm\n",
    "from scipy.sparse import csr_matrix"
   ]
  },
  {
   "cell_type": "code",
   "execution_count": 16,
   "metadata": {},
   "outputs": [],
   "source": [
    "train_df = pd.read_csv('../data/train/train_ratings.csv') # 전체 학습 데이터"
   ]
  },
  {
   "cell_type": "code",
   "execution_count": 21,
   "metadata": {},
   "outputs": [],
   "source": [
    "def generate_rating_matrix_valid(user_seq, num_users, num_items):\n",
    "    # three lists are used to construct sparse matrix\n",
    "    row = []\n",
    "    col = []\n",
    "    data = []\n",
    "    for user_id, item_list in enumerate(user_seq):\n",
    "        for item in item_list[:-2]: \n",
    "            row.append(user_id)\n",
    "            col.append(item)\n",
    "            data.append(1)\n",
    "\n",
    "    row = np.array(row)\n",
    "    col = np.array(col)\n",
    "    data = np.array(data)\n",
    "    rating_matrix = csr_matrix((data, (row, col)), shape=(num_users, num_items))\n",
    "    print(rating_matrix)\n",
    "    return rating_matrix"
   ]
  },
  {
   "cell_type": "code",
   "execution_count": 23,
   "metadata": {},
   "outputs": [
    {
     "name": "stdout",
     "output_type": "stream",
     "text": [
      "31360 119147\n",
      "  (0, 1)\t1\n",
      "  (0, 19)\t1\n",
      "  (0, 32)\t1\n",
      "  (0, 39)\t1\n",
      "  (0, 110)\t1\n",
      "  (0, 150)\t1\n",
      "  (0, 153)\t1\n",
      "  (0, 158)\t1\n",
      "  (0, 160)\t1\n",
      "  (0, 165)\t1\n",
      "  (0, 170)\t1\n",
      "  (0, 172)\t1\n",
      "  (0, 173)\t1\n",
      "  (0, 185)\t1\n",
      "  (0, 208)\t1\n",
      "  (0, 231)\t1\n",
      "  (0, 253)\t1\n",
      "  (0, 256)\t1\n",
      "  (0, 260)\t1\n",
      "  (0, 296)\t1\n",
      "  (0, 316)\t1\n",
      "  (0, 318)\t1\n",
      "  (0, 344)\t1\n",
      "  (0, 356)\t1\n",
      "  (0, 364)\t1\n",
      "  :\t:\n",
      "  (31359, 49651)\t1\n",
      "  (31359, 50601)\t1\n",
      "  (31359, 50872)\t1\n",
      "  (31359, 51086)\t1\n",
      "  (31359, 51662)\t1\n",
      "  (31359, 51884)\t1\n",
      "  (31359, 52579)\t1\n",
      "  (31359, 52975)\t1\n",
      "  (31359, 53123)\t1\n",
      "  (31359, 53322)\t1\n",
      "  (31359, 53996)\t1\n",
      "  (31359, 55269)\t1\n",
      "  (31359, 55814)\t1\n",
      "  (31359, 58879)\t1\n",
      "  (31359, 59315)\t1\n",
      "  (31359, 59784)\t1\n",
      "  (31359, 60069)\t1\n",
      "  (31359, 60816)\t1\n",
      "  (31359, 61160)\t1\n",
      "  (31359, 65682)\t1\n",
      "  (31359, 66762)\t1\n",
      "  (31359, 68319)\t1\n",
      "  (31359, 68954)\t1\n",
      "  (31359, 69526)\t1\n",
      "  (31359, 70286)\t1\n"
     ]
    }
   ],
   "source": [
    "user_seq = []\n",
    "item_set = set()\n",
    "\n",
    "for line in lines:\n",
    "\n",
    "    items = line # [4643, 170, 531 ...]\n",
    "    user_seq.append(items) # [[4643, 170, 531 ...], [541, 140, 71 ...], ...]\n",
    "    item_set = item_set | set(items)\n",
    "max_item = max(item_set) # 유저가 실제로 본 영화 중 ID가 가장 큰 영화 -> 실제 영화 개수\n",
    "num_users = len(lines) # 유저 수\n",
    "num_items = max_item + 2 # 영화 수+2 -> +2를 한 이유가 무엇일까?\n",
    "print(num_users, num_items)\n",
    "valid_rating_matrix = generate_rating_matrix_valid(user_seq, num_users, num_items)"
   ]
  },
  {
   "cell_type": "markdown",
   "metadata": {},
   "source": [
    "## 모든 사용자에게 동일하게 Most Popular 아이템 10개를 추천 결과로 제공"
   ]
  },
  {
   "cell_type": "code",
   "execution_count": 3,
   "metadata": {},
   "outputs": [],
   "source": [
    "# most popular 10 items\n",
    "num_users = train_df['user'].nunique()\n",
    "mp_items = train_df['item'].value_counts()[:10].index.values # predictions\n",
    "mp_items = np.concatenate([mp_items]*num_users) # same prediction for all users\n",
    "users = train_df['user'].unique().repeat(10)\n",
    "\n",
    "test_df = pd.DataFrame(zip(users,mp_items), columns=['user','item'])\n",
    "test_df.to_csv(\"output/most_popular_submission.csv\", index=False)"
   ]
  },
  {
   "cell_type": "code",
   "execution_count": 4,
   "metadata": {},
   "outputs": [
    {
     "data": {
      "text/html": [
       "<div>\n",
       "<style scoped>\n",
       "    .dataframe tbody tr th:only-of-type {\n",
       "        vertical-align: middle;\n",
       "    }\n",
       "\n",
       "    .dataframe tbody tr th {\n",
       "        vertical-align: top;\n",
       "    }\n",
       "\n",
       "    .dataframe thead th {\n",
       "        text-align: right;\n",
       "    }\n",
       "</style>\n",
       "<table border=\"1\" class=\"dataframe\">\n",
       "  <thead>\n",
       "    <tr style=\"text-align: right;\">\n",
       "      <th></th>\n",
       "      <th>user</th>\n",
       "      <th>item</th>\n",
       "    </tr>\n",
       "  </thead>\n",
       "  <tbody>\n",
       "    <tr>\n",
       "      <th>0</th>\n",
       "      <td>11</td>\n",
       "      <td>2571</td>\n",
       "    </tr>\n",
       "    <tr>\n",
       "      <th>1</th>\n",
       "      <td>11</td>\n",
       "      <td>2959</td>\n",
       "    </tr>\n",
       "    <tr>\n",
       "      <th>2</th>\n",
       "      <td>11</td>\n",
       "      <td>296</td>\n",
       "    </tr>\n",
       "    <tr>\n",
       "      <th>3</th>\n",
       "      <td>11</td>\n",
       "      <td>318</td>\n",
       "    </tr>\n",
       "    <tr>\n",
       "      <th>4</th>\n",
       "      <td>11</td>\n",
       "      <td>356</td>\n",
       "    </tr>\n",
       "    <tr>\n",
       "      <th>...</th>\n",
       "      <td>...</td>\n",
       "      <td>...</td>\n",
       "    </tr>\n",
       "    <tr>\n",
       "      <th>313595</th>\n",
       "      <td>138493</td>\n",
       "      <td>4993</td>\n",
       "    </tr>\n",
       "    <tr>\n",
       "      <th>313596</th>\n",
       "      <td>138493</td>\n",
       "      <td>7153</td>\n",
       "    </tr>\n",
       "    <tr>\n",
       "      <th>313597</th>\n",
       "      <td>138493</td>\n",
       "      <td>5952</td>\n",
       "    </tr>\n",
       "    <tr>\n",
       "      <th>313598</th>\n",
       "      <td>138493</td>\n",
       "      <td>593</td>\n",
       "    </tr>\n",
       "    <tr>\n",
       "      <th>313599</th>\n",
       "      <td>138493</td>\n",
       "      <td>2858</td>\n",
       "    </tr>\n",
       "  </tbody>\n",
       "</table>\n",
       "<p>313600 rows × 2 columns</p>\n",
       "</div>"
      ],
      "text/plain": [
       "          user  item\n",
       "0           11  2571\n",
       "1           11  2959\n",
       "2           11   296\n",
       "3           11   318\n",
       "4           11   356\n",
       "...        ...   ...\n",
       "313595  138493  4993\n",
       "313596  138493  7153\n",
       "313597  138493  5952\n",
       "313598  138493   593\n",
       "313599  138493  2858\n",
       "\n",
       "[313600 rows x 2 columns]"
      ]
     },
     "execution_count": 4,
     "metadata": {},
     "output_type": "execute_result"
    }
   ],
   "source": [
    "test_df"
   ]
  },
  {
   "cell_type": "code",
   "execution_count": null,
   "metadata": {},
   "outputs": [],
   "source": []
  }
 ],
 "metadata": {
  "kernelspec": {
   "display_name": "Python 3 (ipykernel)",
   "language": "python",
   "name": "python3"
  },
  "language_info": {
   "codemirror_mode": {
    "name": "ipython",
    "version": 3
   },
   "file_extension": ".py",
   "mimetype": "text/x-python",
   "name": "python",
   "nbconvert_exporter": "python",
   "pygments_lexer": "ipython3",
   "version": "3.8.5"
  }
 },
 "nbformat": 4,
 "nbformat_minor": 4
}
